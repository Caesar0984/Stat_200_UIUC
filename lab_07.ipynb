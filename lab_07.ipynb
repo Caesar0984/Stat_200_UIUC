{
 "cells": [
  {
   "cell_type": "markdown",
   "metadata": {},
   "source": [
    "### STAT 207 Lab 7: Regression models and inference"
   ]
  },
  {
   "cell_type": "markdown",
   "metadata": {},
   "source": [
    "Due: Wednesday, October 23, 23:59:59"
   ]
  },
  {
   "cell_type": "markdown",
   "metadata": {},
   "source": [
    "### Jaewon Kim jaewonk3"
   ]
  },
  {
   "cell_type": "markdown",
   "metadata": {},
   "source": [
    "This lab consists of 3 main parts. You may add as many cells as you need in order to do the excercises. To add cells use the \"Insert\" tab from the menu bar above and select \"insert cell above\" or \"insert cell below\". \n",
    "\n",
    "Please use Markdown cells above or below your code cells to explain your results. Make sure graders know that you understand what your code is doing.\n",
    "\n",
    "Note: not every problem in this lab requires Python calculation. In some cases you can just work it out and type in your solution into a Markdown cell. \n",
    "\n",
    "**Hint: all of the problems build on the class notes, so the notes are the first place to go for related examples and discussion.**\n"
   ]
  },
  {
   "cell_type": "markdown",
   "metadata": {},
   "source": [
    "### Part 1: Two-sample analysis of lead study (9 pts)\n",
    "\n",
    "Previously you analyzed the lead exposure study data. You should have the data file \"lead.csv\" in your files. It contains data from the lead exposure study discussed in our class notes. The goal of this first part is to reanalyze the data using t-tests and t confidence intervals instead of z tests and confidence intervals. The cells below have code for defining the function \"myttest_ind\" from the class notes.\n"
   ]
  },
  {
   "cell_type": "code",
   "execution_count": 1,
   "metadata": {},
   "outputs": [],
   "source": [
    "import pandas as pd\n",
    "import numpy as np\n",
    "from scipy.stats import t"
   ]
  },
  {
   "cell_type": "code",
   "execution_count": 2,
   "metadata": {},
   "outputs": [],
   "source": [
    "def myttest_ind(dat1, dat2, value=0, conf=0.95):\n",
    "    # sample summary statistics\n",
    "    n1, n2 = np.size(dat1), np.size(dat2)\n",
    "    mn1, mn2 = np.mean(dat1), np.mean(dat2)\n",
    "    se1 = np.std(dat1, ddof=1)/np.sqrt(n1)\n",
    "    se2 = np.std(dat2, ddof=1)/np.sqrt(n2)\n",
    "    # difference and standard error\n",
    "    diff = mn1 - mn2\n",
    "    se_diff = np.sqrt(se1**2 + se2**2)\n",
    "    # Welch t test degrees of freedom\n",
    "    deg = se_diff**4 / ((se1**4/(n1-1)) + (se2**4/(n2-1)))\n",
    "    # test statistic, pvalue and t confidence interval\n",
    "    statistic = (diff - value)/se_diff\n",
    "    tcut = t.ppf((1+conf)/2, deg)\n",
    "    pvalue = 2*t.cdf(-abs(statistic), deg)\n",
    "    interval = (diff - tcut*se_diff, diff + tcut*se_diff)\n",
    "    # return results as a dictionary\n",
    "    return {'statistic': statistic, \n",
    "            'pvalue': pvalue, \n",
    "            'df': deg, \n",
    "            'conf': conf, \n",
    "            'interval': interval}"
   ]
  },
  {
   "cell_type": "markdown",
   "metadata": {},
   "source": [
    "**a) Read the lead exposure study data into a pandas data frame and extract the 'fulliq' data for the two exposure groups, 'lead < 40' and 'lead >= 40'. (2 pts).**"
   ]
  },
  {
   "cell_type": "code",
   "execution_count": 3,
   "metadata": {},
   "outputs": [],
   "source": [
    "df = pd.read_csv('lead.csv')\n",
    "dfl = df['fulliq'][df['group'] == 'lead < 40']\n",
    "dfh = df['fulliq'][df['group'] == 'lead >= 40']"
   ]
  },
  {
   "cell_type": "markdown",
   "metadata": {},
   "source": [
    "**b) Plot density histograms of 'fulliq' for each of the two exposure groups (2 pt).**"
   ]
  },
  {
   "cell_type": "code",
   "execution_count": 17,
   "metadata": {},
   "outputs": [
    {
     "data": {
      "text/plain": [
       "<matplotlib.axes._subplots.AxesSubplot at 0x1948ee95e48>"
      ]
     },
     "execution_count": 17,
     "metadata": {},
     "output_type": "execute_result"
    },
    {
     "data": {
      "image/png": "[encoded data removed]",
      "text/plain": [
       "<Figure size 432x288 with 1 Axes>"
      ]
     },
     "metadata": {
      "needs_background": "light"
     },
     "output_type": "display_data"
    }
   ],
   "source": [
    "import seaborn as sns\n",
    "import matplotlib.pyplot as plt\n",
    "sns.distplot(dfl, kde = True)"
   ]
  },
  {
   "cell_type": "code",
   "execution_count": 5,
   "metadata": {},
   "outputs": [
    {
     "data": {
      "text/plain": [
       "<matplotlib.axes._subplots.AxesSubplot at 0x1948d4960b8>"
      ]
     },
     "execution_count": 5,
     "metadata": {},
     "output_type": "execute_result"
    },
    {
     "data": {
      "image/png": "[encoded data removed]",
      "text/plain": [
       "<Figure size 432x288 with 1 Axes>"
      ]
     },
     "metadata": {
      "needs_background": "light"
     },
     "output_type": "display_data"
    }
   ],
   "source": [
    "sns.distplot(dfh, kde = True)"
   ]
  },
  {
   "cell_type": "markdown",
   "metadata": {},
   "source": [
    "**c) Using the function defined above or otherwise, compute a Welch two-sample t confidence interval, with confidence level 90%, for the difference between population mean fulliq in the low exposure group and the population mean fulliq in the high exposure group.**\n",
    "\n",
    "**Note: A t confidence interval has the same form as a z (normal approximation) confidence interval except we replace\n",
    "the normal multiplier $z_{1-{\\alpha\\over 2}}$ by the\n",
    "t multiplier $t_{1-{\\alpha\\over 2}, df}$ where df = the degrees of freedom given in the notes for the Welch two-sample t test.\n",
    "(2 pts)**"
   ]
  },
  {
   "cell_type": "code",
   "execution_count": 6,
   "metadata": {},
   "outputs": [
    {
     "data": {
      "text/plain": [
       "(0.713687314868162, 9.012065193493049)"
      ]
     },
     "execution_count": 6,
     "metadata": {},
     "output_type": "execute_result"
    }
   ],
   "source": [
    "results = myttest_ind(dfl, dfh, value=0, conf=0.90)\n",
    "results['interval']"
   ]
  },
  {
   "cell_type": "markdown",
   "metadata": {},
   "source": [
    "**d) Using the function defined above or otherwise, compute the Welch two sample t-test statistic and its p-value for testing the null hypothesis** \n",
    "\n",
    "$$\n",
    "H_0: \\mu_1 - \\mu_2 = 0\\quad \\mbox{versus} \\quad H_A: \\mu_1 - \\mu_2 \\ne 0\n",
    "$$\n",
    "\n",
    "**where $\\mu_1$ is the population mean 'fulliq' for lead exposure $\\lt$ 40, and $\\mu_2$ is the same for lead exposure $\\ge$ 40\n",
    "(3 pts)**"
   ]
  },
  {
   "cell_type": "code",
   "execution_count": 7,
   "metadata": {},
   "outputs": [
    {
     "name": "stdout",
     "output_type": "stream",
     "text": [
      "t-test statistics: 1.9439438351740028\n",
      "p-value: 0.05442396547995737\n",
      "Reject the null hypothesis\n"
     ]
    }
   ],
   "source": [
    "alpha = 1 - results['conf']\n",
    "ttest = results['statistic']\n",
    "p = results['pvalue']\n",
    "print('t-test statistics:', ttest)\n",
    "print('p-value:', p)\n",
    "if results['pvalue'] < alpha:\n",
    "    print(\"Reject the null hypothesis\")\n",
    "else:\n",
    "    print(\"Accept the null hypothesis\")"
   ]
  },
  {
   "cell_type": "markdown",
   "metadata": {},
   "source": [
    "### Part 2: Simulated regression model (10 pts)\n",
    "\n",
    "In this part we generate data from a linear regression model and analyze them, comparing results to the simulation model. Run the code cells below before doing your work."
   ]
  },
  {
   "cell_type": "code",
   "execution_count": 8,
   "metadata": {},
   "outputs": [],
   "source": [
    "from scipy.stats import norm\n",
    "from scipy.stats import uniform\n",
    "import statsmodels.api as sm\n",
    "import statsmodels.formula.api as smf"
   ]
  },
  {
   "cell_type": "code",
   "execution_count": 9,
   "metadata": {},
   "outputs": [],
   "source": [
    "# generate regression data and store in data frame called 'dat'\n",
    "b0, b1 = -2.53, 1.67\n",
    "x = uniform.rvs(loc=0, scale=10, size=35, random_state=12347)\n",
    "e = norm.rvs(loc=0, scale=2.2, size=35, random_state=1)\n",
    "dat = pd.DataFrame({'x': x, 'y': b0 + b1*x + e})"
   ]
  },
  {
   "cell_type": "markdown",
   "metadata": {},
   "source": [
    "**a) Make a scatter plot of y versus x. Also compute the sample correlation between them and label or title the plot showing the numerical value of their sample correlation. (See earlier notes for examples of adding titles with numerical information to plots). (3 pts)**"
   ]
  },
  {
   "cell_type": "code",
   "execution_count": 10,
   "metadata": {},
   "outputs": [
    {
     "data": {
      "text/html": [
       "<div>\n",
       "<style scoped>\n",
       "    .dataframe tbody tr th:only-of-type {\n",
       "        vertical-align: middle;\n",
       "    }\n",
       "\n",
       "    .dataframe tbody tr th {\n",
       "        vertical-align: top;\n",
       "    }\n",
       "\n",
       "    .dataframe thead th {\n",
       "        text-align: right;\n",
       "    }\n",
       "</style>\n",
       "<table border=\"1\" class=\"dataframe\">\n",
       "  <thead>\n",
       "    <tr style=\"text-align: right;\">\n",
       "      <th></th>\n",
       "      <th>x</th>\n",
       "      <th>y</th>\n",
       "    </tr>\n",
       "  </thead>\n",
       "  <tbody>\n",
       "    <tr>\n",
       "      <th>x</th>\n",
       "      <td>1.000000</td>\n",
       "      <td>0.894085</td>\n",
       "    </tr>\n",
       "    <tr>\n",
       "      <th>y</th>\n",
       "      <td>0.894085</td>\n",
       "      <td>1.000000</td>\n",
       "    </tr>\n",
       "  </tbody>\n",
       "</table>\n",
       "</div>"
      ],
      "text/plain": [
       "          x         y\n",
       "x  1.000000  0.894085\n",
       "y  0.894085  1.000000"
      ]
     },
     "execution_count": 10,
     "metadata": {},
     "output_type": "execute_result"
    }
   ],
   "source": [
    "dat.corr()"
   ]
  },
  {
   "cell_type": "code",
   "execution_count": 11,
   "metadata": {},
   "outputs": [
    {
     "data": {
      "text/plain": [
       "0.894085106892118"
      ]
     },
     "execution_count": 11,
     "metadata": {},
     "output_type": "execute_result"
    }
   ],
   "source": [
    "my_corr = dat.corr().iloc[0, 1]\n",
    "my_corr"
   ]
  },
  {
   "cell_type": "code",
   "execution_count": 12,
   "metadata": {},
   "outputs": [],
   "source": [
    "my_title = \"Correlation = \" + str(my_corr.round(3))"
   ]
  },
  {
   "cell_type": "code",
   "execution_count": 13,
   "metadata": {},
   "outputs": [
    {
     "data": {
      "image/png": "[encoded data removed]",
      "text/plain": [
       "<Figure size 432x288 with 1 Axes>"
      ]
     },
     "metadata": {
      "needs_background": "light"
     },
     "output_type": "display_data"
    }
   ],
   "source": [
    "dat.plot.scatter(x = 'x', y = 'y')\n",
    "plt.title(my_title)\n",
    "plt.show()"
   ]
  },
  {
   "cell_type": "markdown",
   "metadata": {},
   "source": [
    "**b) Fit a linear regression model with y as the response (endogenous) variable and x as the explanatory (exogenous) variable. Display the model summary. (3 pts)**"
   ]
  },
  {
   "cell_type": "code",
   "execution_count": 14,
   "metadata": {},
   "outputs": [
    {
     "data": {
      "text/plain": [
       "<matplotlib.axes._subplots.AxesSubplot at 0x1948ed99940>"
      ]
     },
     "execution_count": 14,
     "metadata": {},
     "output_type": "execute_result"
    },
    {
     "data": {
      "image/png": "[encoded data removed]",
      "text/plain": [
       "<Figure size 432x288 with 1 Axes>"
      ]
     },
     "metadata": {
      "needs_background": "light"
     },
     "output_type": "display_data"
    }
   ],
   "source": [
    "sns.regplot(x='x', y='y', data = dat)"
   ]
  },
  {
   "cell_type": "code",
   "execution_count": 15,
   "metadata": {},
   "outputs": [
    {
     "data": {
      "text/html": [
       "<table class=\"simpletable\">\n",
       "<caption>OLS Regression Results</caption>\n",
       "<tr>\n",
       "  <th>Dep. Variable:</th>            <td>y</td>        <th>  R-squared:         </th> <td>   0.799</td>\n",
       "</tr>\n",
       "<tr>\n",
       "  <th>Model:</th>                   <td>OLS</td>       <th>  Adj. R-squared:    </th> <td>   0.793</td>\n",
       "</tr>\n",
       "<tr>\n",
       "  <th>Method:</th>             <td>Least Squares</td>  <th>  F-statistic:       </th> <td>   131.5</td>\n",
       "</tr>\n",
       "<tr>\n",
       "  <th>Date:</th>             <td>Sun, 10 Nov 2019</td> <th>  Prob (F-statistic):</th> <td>4.72e-13</td>\n",
       "</tr>\n",
       "<tr>\n",
       "  <th>Time:</th>                 <td>14:36:32</td>     <th>  Log-Likelihood:    </th> <td> -75.793</td>\n",
       "</tr>\n",
       "<tr>\n",
       "  <th>No. Observations:</th>      <td>    35</td>      <th>  AIC:               </th> <td>   155.6</td>\n",
       "</tr>\n",
       "<tr>\n",
       "  <th>Df Residuals:</th>          <td>    33</td>      <th>  BIC:               </th> <td>   158.7</td>\n",
       "</tr>\n",
       "<tr>\n",
       "  <th>Df Model:</th>              <td>     1</td>      <th>                     </th>     <td> </td>   \n",
       "</tr>\n",
       "<tr>\n",
       "  <th>Covariance Type:</th>      <td>nonrobust</td>    <th>                     </th>     <td> </td>   \n",
       "</tr>\n",
       "</table>\n",
       "<table class=\"simpletable\">\n",
       "<tr>\n",
       "      <td></td>         <th>coef</th>     <th>std err</th>      <th>t</th>      <th>P>|t|</th>  <th>[0.025</th>    <th>0.975]</th>  \n",
       "</tr>\n",
       "<tr>\n",
       "  <th>Intercept</th> <td>   -2.8788</td> <td>    0.772</td> <td>   -3.731</td> <td> 0.001</td> <td>   -4.449</td> <td>   -1.309</td>\n",
       "</tr>\n",
       "<tr>\n",
       "  <th>x</th>         <td>    1.6762</td> <td>    0.146</td> <td>   11.467</td> <td> 0.000</td> <td>    1.379</td> <td>    1.974</td>\n",
       "</tr>\n",
       "</table>\n",
       "<table class=\"simpletable\">\n",
       "<tr>\n",
       "  <th>Omnibus:</th>       <td> 0.097</td> <th>  Durbin-Watson:     </th> <td>   2.665</td>\n",
       "</tr>\n",
       "<tr>\n",
       "  <th>Prob(Omnibus):</th> <td> 0.953</td> <th>  Jarque-Bera (JB):  </th> <td>   0.261</td>\n",
       "</tr>\n",
       "<tr>\n",
       "  <th>Skew:</th>          <td> 0.102</td> <th>  Prob(JB):          </th> <td>   0.878</td>\n",
       "</tr>\n",
       "<tr>\n",
       "  <th>Kurtosis:</th>      <td> 2.629</td> <th>  Cond. No.          </th> <td>    11.4</td>\n",
       "</tr>\n",
       "</table><br/><br/>Warnings:<br/>[1] Standard Errors assume that the covariance matrix of the errors is correctly specified."
      ],
      "text/plain": [
       "<class 'statsmodels.iolib.summary.Summary'>\n",
       "\"\"\"\n",
       "                            OLS Regression Results                            \n",
       "==============================================================================\n",
       "Dep. Variable:                      y   R-squared:                       0.799\n",
       "Model:                            OLS   Adj. R-squared:                  0.793\n",
       "Method:                 Least Squares   F-statistic:                     131.5\n",
       "Date:                Sun, 10 Nov 2019   Prob (F-statistic):           4.72e-13\n",
       "Time:                        14:36:32   Log-Likelihood:                -75.793\n",
       "No. Observations:                  35   AIC:                             155.6\n",
       "Df Residuals:                      33   BIC:                             158.7\n",
       "Df Model:                           1                                         \n",
       "Covariance Type:            nonrobust                                         \n",
       "==============================================================================\n",
       "                 coef    std err          t      P>|t|      [0.025      0.975]\n",
       "------------------------------------------------------------------------------\n",
       "Intercept     -2.8788      0.772     -3.731      0.001      -4.449      -1.309\n",
       "x              1.6762      0.146     11.467      0.000       1.379       1.974\n",
       "==============================================================================\n",
       "Omnibus:                        0.097   Durbin-Watson:                   2.665\n",
       "Prob(Omnibus):                  0.953   Jarque-Bera (JB):                0.261\n",
       "Skew:                           0.102   Prob(JB):                        0.878\n",
       "Kurtosis:                       2.629   Cond. No.                         11.4\n",
       "==============================================================================\n",
       "\n",
       "Warnings:\n",
       "[1] Standard Errors assume that the covariance matrix of the errors is correctly specified.\n",
       "\"\"\""
      ]
     },
     "execution_count": 15,
     "metadata": {},
     "output_type": "execute_result"
    }
   ],
   "source": [
    "result = smf.ols('y~x', data = dat).fit()\n",
    "result.summary()"
   ]
  },
  {
   "cell_type": "markdown",
   "metadata": {},
   "source": [
    "**c) Based on the model summary, give the numerical values of the estimated slope and intercept along with their standard errors. (2 pts)**"
   ]
  },
  {
   "cell_type": "markdown",
   "metadata": {},
   "source": [
    "Estimated slope is 1.6762 and the intercept is -2.8788. The standard error for intercept is 0.772 and for x, it is 0.146."
   ]
  },
  {
   "cell_type": "markdown",
   "metadata": {},
   "source": [
    "**d) Based on the model summary or otherwise, provide a $95\\%$ confidence interval for the regression slope parameter (coefficient of x). Does your confidence interval include the \"true\" value that we know from the simulation model (yes/no)? (2pts)**"
   ]
  },
  {
   "cell_type": "markdown",
   "metadata": {},
   "source": [
    "The 95% confidence interval is [1.379, 1.974] and it includes the true value that we know from the model. "
   ]
  },
  {
   "cell_type": "markdown",
   "metadata": {},
   "source": [
    "### Part 3: Regression analysis of lead study (6 pts)"
   ]
  },
  {
   "cell_type": "markdown",
   "metadata": {},
   "source": [
    "Some further analysis of the lead exposure study data from 'lead.csv' in your files."
   ]
  },
  {
   "cell_type": "markdown",
   "metadata": {},
   "source": [
    "**a) Using the data from 'lead.csv' that you imported in Part 1a, fit a linear regression model with 'fulliq' as the response variable and 'age' and 'group' as the two explanatory variables. Show the summary of results from the ols fitted model (3 pts)**"
   ]
  },
  {
   "cell_type": "code",
   "execution_count": 16,
   "metadata": {},
   "outputs": [
    {
     "data": {
      "text/html": [
       "<table class=\"simpletable\">\n",
       "<caption>OLS Regression Results</caption>\n",
       "<tr>\n",
       "  <th>Dep. Variable:</th>         <td>fulliq</td>      <th>  R-squared:         </th> <td>   0.027</td>\n",
       "</tr>\n",
       "<tr>\n",
       "  <th>Model:</th>                   <td>OLS</td>       <th>  Adj. R-squared:    </th> <td>   0.011</td>\n",
       "</tr>\n",
       "<tr>\n",
       "  <th>Method:</th>             <td>Least Squares</td>  <th>  F-statistic:       </th> <td>   1.667</td>\n",
       "</tr>\n",
       "<tr>\n",
       "  <th>Date:</th>             <td>Sun, 10 Nov 2019</td> <th>  Prob (F-statistic):</th>  <td> 0.193</td> \n",
       "</tr>\n",
       "<tr>\n",
       "  <th>Time:</th>                 <td>14:36:32</td>     <th>  Log-Likelihood:    </th> <td> -504.53</td>\n",
       "</tr>\n",
       "<tr>\n",
       "  <th>No. Observations:</th>      <td>   124</td>      <th>  AIC:               </th> <td>   1015.</td>\n",
       "</tr>\n",
       "<tr>\n",
       "  <th>Df Residuals:</th>          <td>   121</td>      <th>  BIC:               </th> <td>   1024.</td>\n",
       "</tr>\n",
       "<tr>\n",
       "  <th>Df Model:</th>              <td>     2</td>      <th>                     </th>     <td> </td>   \n",
       "</tr>\n",
       "<tr>\n",
       "  <th>Covariance Type:</th>      <td>nonrobust</td>    <th>                     </th>     <td> </td>   \n",
       "</tr>\n",
       "</table>\n",
       "<table class=\"simpletable\">\n",
       "<tr>\n",
       "           <td></td>              <th>coef</th>     <th>std err</th>      <th>t</th>      <th>P>|t|</th>  <th>[0.025</th>    <th>0.975]</th>  \n",
       "</tr>\n",
       "<tr>\n",
       "  <th>Intercept</th>           <td>   92.9088</td> <td>    3.806</td> <td>   24.411</td> <td> 0.000</td> <td>   85.374</td> <td>  100.444</td>\n",
       "</tr>\n",
       "<tr>\n",
       "  <th>group[T.lead >= 40]</th> <td>   -4.8656</td> <td>    2.692</td> <td>   -1.808</td> <td> 0.073</td> <td>  -10.195</td> <td>    0.464</td>\n",
       "</tr>\n",
       "<tr>\n",
       "  <th>age</th>                 <td>   -0.0026</td> <td>    0.369</td> <td>   -0.007</td> <td> 0.994</td> <td>   -0.733</td> <td>    0.728</td>\n",
       "</tr>\n",
       "</table>\n",
       "<table class=\"simpletable\">\n",
       "<tr>\n",
       "  <th>Omnibus:</th>       <td> 5.676</td> <th>  Durbin-Watson:     </th> <td>   2.070</td>\n",
       "</tr>\n",
       "<tr>\n",
       "  <th>Prob(Omnibus):</th> <td> 0.059</td> <th>  Jarque-Bera (JB):  </th> <td>   8.599</td>\n",
       "</tr>\n",
       "<tr>\n",
       "  <th>Skew:</th>          <td> 0.075</td> <th>  Prob(JB):          </th> <td>  0.0136</td>\n",
       "</tr>\n",
       "<tr>\n",
       "  <th>Kurtosis:</th>      <td> 4.281</td> <th>  Cond. No.          </th> <td>    30.3</td>\n",
       "</tr>\n",
       "</table><br/><br/>Warnings:<br/>[1] Standard Errors assume that the covariance matrix of the errors is correctly specified."
      ],
      "text/plain": [
       "<class 'statsmodels.iolib.summary.Summary'>\n",
       "\"\"\"\n",
       "                            OLS Regression Results                            \n",
       "==============================================================================\n",
       "Dep. Variable:                 fulliq   R-squared:                       0.027\n",
       "Model:                            OLS   Adj. R-squared:                  0.011\n",
       "Method:                 Least Squares   F-statistic:                     1.667\n",
       "Date:                Sun, 10 Nov 2019   Prob (F-statistic):              0.193\n",
       "Time:                        14:36:32   Log-Likelihood:                -504.53\n",
       "No. Observations:                 124   AIC:                             1015.\n",
       "Df Residuals:                     121   BIC:                             1024.\n",
       "Df Model:                           2                                         \n",
       "Covariance Type:            nonrobust                                         \n",
       "=======================================================================================\n",
       "                          coef    std err          t      P>|t|      [0.025      0.975]\n",
       "---------------------------------------------------------------------------------------\n",
       "Intercept              92.9088      3.806     24.411      0.000      85.374     100.444\n",
       "group[T.lead >= 40]    -4.8656      2.692     -1.808      0.073     -10.195       0.464\n",
       "age                    -0.0026      0.369     -0.007      0.994      -0.733       0.728\n",
       "==============================================================================\n",
       "Omnibus:                        5.676   Durbin-Watson:                   2.070\n",
       "Prob(Omnibus):                  0.059   Jarque-Bera (JB):                8.599\n",
       "Skew:                           0.075   Prob(JB):                       0.0136\n",
       "Kurtosis:                       4.281   Cond. No.                         30.3\n",
       "==============================================================================\n",
       "\n",
       "Warnings:\n",
       "[1] Standard Errors assume that the covariance matrix of the errors is correctly specified.\n",
       "\"\"\""
      ]
     },
     "execution_count": 16,
     "metadata": {},
     "output_type": "execute_result"
    }
   ],
   "source": [
    "df_res = smf.ols('fulliq~age+group', data = df).fit()\n",
    "df_res.summary()"
   ]
  },
  {
   "cell_type": "markdown",
   "metadata": {},
   "source": [
    "**b) When the statsmodels.ols function uses 'group' as an exogenous variable, it first constructs a 0/1 dummy variable:**\n",
    "\n",
    "$$\n",
    "\\mbox{group[T.lead >= 40]} = \\cases{1,& if group=\"lead >= 40\"\\\\ 0,& if group=\"lead < 40\"\\\\}\n",
    "$$\n",
    "\n",
    "**What is the estimated coefficient for this variable in the model? What is the p-value for the test of $H_0:$ group coefficient = 0? (2 pts)**"
   ]
  },
  {
   "cell_type": "markdown",
   "metadata": {},
   "source": [
    "Estimated coefficient is -4.8656 and the p-value is 0.073."
   ]
  },
  {
   "cell_type": "markdown",
   "metadata": {},
   "source": [
    "**c) What proportion of the variance in 'fulliq' is explained by the regression model, according to the model summary? Explain where you got the number. (1 pt)**"
   ]
  },
  {
   "cell_type": "markdown",
   "metadata": {},
   "source": [
    "The proportion of the variance is 0.027 according to the model summary. This value can be obtained by $R^2$."
   ]
  }
 ],
 "metadata": {
  "kernelspec": {
   "display_name": "Python 3",
   "language": "python",
   "name": "python3"
  },
  "language_info": {
   "codemirror_mode": {
    "name": "ipython",
    "version": 3
   },
   "file_extension": ".py",
   "mimetype": "text/x-python",
   "name": "python",
   "nbconvert_exporter": "python",
   "pygments_lexer": "ipython3",
   "version": "3.7.3"
  }
 },
 "nbformat": 4,
 "nbformat_minor": 2
}
