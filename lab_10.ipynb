{
 "cells": [
  {
   "cell_type": "markdown",
   "metadata": {},
   "source": [
    "### STAT 207 Lab 10: Train/Test Classification ROC and Prediction"
   ]
  },
  {
   "cell_type": "markdown",
   "metadata": {},
   "source": [
    "Due: Wednesday, November 20, 23:59:59"
   ]
  },
  {
   "cell_type": "markdown",
   "metadata": {},
   "source": [
    "### Jaewon Kim jaewonk3"
   ]
  },
  {
   "cell_type": "markdown",
   "metadata": {},
   "source": [
    "This lab consists of 2 main parts. You may add as many cells as you need in order to do the exercises. To add cells use the \"Insert\" tab from the menu bar above and select \"insert cell above\" or \"insert cell below\". \n",
    "\n",
    "Please use Markdown cells above or below your code cells to explain your results. Make sure graders know that you understand what your code is doing.\n",
    "\n",
    "**Hint: all of the problems build on the class notes, so the notes are the first place to go for related examples and discussion.**\n"
   ]
  },
  {
   "cell_type": "markdown",
   "metadata": {},
   "source": [
    "#### The code below generates training data and test data for you to analyze in this lab. Run the code and then work on the questions below."
   ]
  },
  {
   "cell_type": "code",
   "execution_count": 1,
   "metadata": {},
   "outputs": [],
   "source": [
    "import pandas as pd\n",
    "import numpy as np\n",
    "from sklearn.datasets.samples_generator import make_blobs\n",
    "from sklearn.model_selection import train_test_split"
   ]
  },
  {
   "cell_type": "code",
   "execution_count": 2,
   "metadata": {},
   "outputs": [],
   "source": [
    "## Code to generate labeled data for classification\n",
    "n = 500       # sample size\n",
    "nX = 10       # number of explanatory features to generate\n",
    "spread = 10   # standard deviation within clusters\n",
    "# Generate labeled data:\n",
    "X, y = make_blobs(n_samples=n, centers=2, n_features=nX, \n",
    "                  random_state=1, cluster_std=spread)\n",
    "# Create variable names for X features\n",
    "Xnames = []\n",
    "for i in range(nX):\n",
    "    list.append(Xnames, 'X'+str(i))\n",
    "# load X into data frame\n",
    "df = pd.DataFrame(X, columns=Xnames)\n",
    "# Add y to the data frame\n",
    "df['y'] = y\n",
    "# split the data frame into training data (traindf) and testing data (testdf)\n",
    "traindf, testdf = train_test_split(df, test_size=0.20, random_state=12347)"
   ]
  },
  {
   "cell_type": "code",
   "execution_count": 3,
   "metadata": {},
   "outputs": [
    {
     "data": {
      "text/plain": [
       "(400, 11)"
      ]
     },
     "metadata": {},
     "output_type": "display_data"
    },
    {
     "data": {
      "text/html": [
       "<div>\n",
       "<style scoped>\n",
       "    .dataframe tbody tr th:only-of-type {\n",
       "        vertical-align: middle;\n",
       "    }\n",
       "\n",
       "    .dataframe tbody tr th {\n",
       "        vertical-align: top;\n",
       "    }\n",
       "\n",
       "    .dataframe thead th {\n",
       "        text-align: right;\n",
       "    }\n",
       "</style>\n",
       "<table border=\"1\" class=\"dataframe\">\n",
       "  <thead>\n",
       "    <tr style=\"text-align: right;\">\n",
       "      <th></th>\n",
       "      <th>X0</th>\n",
       "      <th>X1</th>\n",
       "      <th>X2</th>\n",
       "      <th>X3</th>\n",
       "      <th>X4</th>\n",
       "      <th>X5</th>\n",
       "      <th>X6</th>\n",
       "      <th>X7</th>\n",
       "      <th>X8</th>\n",
       "      <th>X9</th>\n",
       "      <th>y</th>\n",
       "    </tr>\n",
       "  </thead>\n",
       "  <tbody>\n",
       "    <tr>\n",
       "      <th>63</th>\n",
       "      <td>-6.435368</td>\n",
       "      <td>4.666490</td>\n",
       "      <td>-23.484677</td>\n",
       "      <td>9.072007</td>\n",
       "      <td>-10.691003</td>\n",
       "      <td>-23.004793</td>\n",
       "      <td>-12.199409</td>\n",
       "      <td>-26.137865</td>\n",
       "      <td>-2.382822</td>\n",
       "      <td>1.901212</td>\n",
       "      <td>0</td>\n",
       "    </tr>\n",
       "    <tr>\n",
       "      <th>143</th>\n",
       "      <td>1.845900</td>\n",
       "      <td>-8.716344</td>\n",
       "      <td>-10.384668</td>\n",
       "      <td>-20.111072</td>\n",
       "      <td>4.149295</td>\n",
       "      <td>-4.064223</td>\n",
       "      <td>-6.520965</td>\n",
       "      <td>-10.840402</td>\n",
       "      <td>10.672909</td>\n",
       "      <td>20.447352</td>\n",
       "      <td>0</td>\n",
       "    </tr>\n",
       "    <tr>\n",
       "      <th>365</th>\n",
       "      <td>-4.989501</td>\n",
       "      <td>-7.946010</td>\n",
       "      <td>-19.846998</td>\n",
       "      <td>-1.478810</td>\n",
       "      <td>-1.697234</td>\n",
       "      <td>4.612270</td>\n",
       "      <td>8.939545</td>\n",
       "      <td>5.623697</td>\n",
       "      <td>-1.725363</td>\n",
       "      <td>3.425534</td>\n",
       "      <td>0</td>\n",
       "    </tr>\n",
       "    <tr>\n",
       "      <th>487</th>\n",
       "      <td>-0.681983</td>\n",
       "      <td>19.252675</td>\n",
       "      <td>-4.042774</td>\n",
       "      <td>16.990513</td>\n",
       "      <td>2.792178</td>\n",
       "      <td>4.779663</td>\n",
       "      <td>9.518555</td>\n",
       "      <td>-0.937090</td>\n",
       "      <td>-4.949669</td>\n",
       "      <td>-21.225907</td>\n",
       "      <td>1</td>\n",
       "    </tr>\n",
       "    <tr>\n",
       "      <th>148</th>\n",
       "      <td>-13.311740</td>\n",
       "      <td>0.152300</td>\n",
       "      <td>-9.117352</td>\n",
       "      <td>-11.370951</td>\n",
       "      <td>-17.790135</td>\n",
       "      <td>-5.252814</td>\n",
       "      <td>-13.893143</td>\n",
       "      <td>-12.684104</td>\n",
       "      <td>-5.056183</td>\n",
       "      <td>3.631249</td>\n",
       "      <td>0</td>\n",
       "    </tr>\n",
       "  </tbody>\n",
       "</table>\n",
       "</div>"
      ],
      "text/plain": [
       "            X0         X1         X2         X3         X4         X5  \\\n",
       "63   -6.435368   4.666490 -23.484677   9.072007 -10.691003 -23.004793   \n",
       "143   1.845900  -8.716344 -10.384668 -20.111072   4.149295  -4.064223   \n",
       "365  -4.989501  -7.946010 -19.846998  -1.478810  -1.697234   4.612270   \n",
       "487  -0.681983  19.252675  -4.042774  16.990513   2.792178   4.779663   \n",
       "148 -13.311740   0.152300  -9.117352 -11.370951 -17.790135  -5.252814   \n",
       "\n",
       "            X6         X7         X8         X9  y  \n",
       "63  -12.199409 -26.137865  -2.382822   1.901212  0  \n",
       "143  -6.520965 -10.840402  10.672909  20.447352  0  \n",
       "365   8.939545   5.623697  -1.725363   3.425534  0  \n",
       "487   9.518555  -0.937090  -4.949669 -21.225907  1  \n",
       "148 -13.893143 -12.684104  -5.056183   3.631249  0  "
      ]
     },
     "metadata": {},
     "output_type": "display_data"
    }
   ],
   "source": [
    "display(traindf.shape, traindf.head())"
   ]
  },
  {
   "cell_type": "code",
   "execution_count": 4,
   "metadata": {},
   "outputs": [
    {
     "data": {
      "text/plain": [
       "(100, 11)"
      ]
     },
     "metadata": {},
     "output_type": "display_data"
    },
    {
     "data": {
      "text/html": [
       "<div>\n",
       "<style scoped>\n",
       "    .dataframe tbody tr th:only-of-type {\n",
       "        vertical-align: middle;\n",
       "    }\n",
       "\n",
       "    .dataframe tbody tr th {\n",
       "        vertical-align: top;\n",
       "    }\n",
       "\n",
       "    .dataframe thead th {\n",
       "        text-align: right;\n",
       "    }\n",
       "</style>\n",
       "<table border=\"1\" class=\"dataframe\">\n",
       "  <thead>\n",
       "    <tr style=\"text-align: right;\">\n",
       "      <th></th>\n",
       "      <th>X0</th>\n",
       "      <th>X1</th>\n",
       "      <th>X2</th>\n",
       "      <th>X3</th>\n",
       "      <th>X4</th>\n",
       "      <th>X5</th>\n",
       "      <th>X6</th>\n",
       "      <th>X7</th>\n",
       "      <th>X8</th>\n",
       "      <th>X9</th>\n",
       "      <th>y</th>\n",
       "    </tr>\n",
       "  </thead>\n",
       "  <tbody>\n",
       "    <tr>\n",
       "      <th>470</th>\n",
       "      <td>14.485931</td>\n",
       "      <td>9.929339</td>\n",
       "      <td>-29.479604</td>\n",
       "      <td>-1.435526</td>\n",
       "      <td>-20.052591</td>\n",
       "      <td>-4.367626</td>\n",
       "      <td>0.906620</td>\n",
       "      <td>-5.978525</td>\n",
       "      <td>5.057209</td>\n",
       "      <td>5.049409</td>\n",
       "      <td>1</td>\n",
       "    </tr>\n",
       "    <tr>\n",
       "      <th>144</th>\n",
       "      <td>7.907335</td>\n",
       "      <td>3.590790</td>\n",
       "      <td>5.294766</td>\n",
       "      <td>2.911478</td>\n",
       "      <td>10.106005</td>\n",
       "      <td>-16.195998</td>\n",
       "      <td>-3.272259</td>\n",
       "      <td>-7.384742</td>\n",
       "      <td>5.994483</td>\n",
       "      <td>-1.419187</td>\n",
       "      <td>0</td>\n",
       "    </tr>\n",
       "    <tr>\n",
       "      <th>22</th>\n",
       "      <td>0.589293</td>\n",
       "      <td>0.841541</td>\n",
       "      <td>-10.375409</td>\n",
       "      <td>9.685736</td>\n",
       "      <td>-13.426361</td>\n",
       "      <td>10.472702</td>\n",
       "      <td>-0.999738</td>\n",
       "      <td>-1.099517</td>\n",
       "      <td>-2.301751</td>\n",
       "      <td>-14.713002</td>\n",
       "      <td>1</td>\n",
       "    </tr>\n",
       "    <tr>\n",
       "      <th>494</th>\n",
       "      <td>-22.394710</td>\n",
       "      <td>27.180549</td>\n",
       "      <td>21.150294</td>\n",
       "      <td>1.048733</td>\n",
       "      <td>-9.949342</td>\n",
       "      <td>4.207245</td>\n",
       "      <td>2.025323</td>\n",
       "      <td>7.091138</td>\n",
       "      <td>-23.728960</td>\n",
       "      <td>-16.342430</td>\n",
       "      <td>1</td>\n",
       "    </tr>\n",
       "    <tr>\n",
       "      <th>106</th>\n",
       "      <td>-0.797608</td>\n",
       "      <td>8.652012</td>\n",
       "      <td>-10.150453</td>\n",
       "      <td>15.527657</td>\n",
       "      <td>-10.152889</td>\n",
       "      <td>-3.318075</td>\n",
       "      <td>-0.709750</td>\n",
       "      <td>-13.393106</td>\n",
       "      <td>-25.551252</td>\n",
       "      <td>-2.647719</td>\n",
       "      <td>1</td>\n",
       "    </tr>\n",
       "  </tbody>\n",
       "</table>\n",
       "</div>"
      ],
      "text/plain": [
       "            X0         X1         X2         X3         X4         X5  \\\n",
       "470  14.485931   9.929339 -29.479604  -1.435526 -20.052591  -4.367626   \n",
       "144   7.907335   3.590790   5.294766   2.911478  10.106005 -16.195998   \n",
       "22    0.589293   0.841541 -10.375409   9.685736 -13.426361  10.472702   \n",
       "494 -22.394710  27.180549  21.150294   1.048733  -9.949342   4.207245   \n",
       "106  -0.797608   8.652012 -10.150453  15.527657 -10.152889  -3.318075   \n",
       "\n",
       "           X6         X7         X8         X9  y  \n",
       "470  0.906620  -5.978525   5.057209   5.049409  1  \n",
       "144 -3.272259  -7.384742   5.994483  -1.419187  0  \n",
       "22  -0.999738  -1.099517  -2.301751 -14.713002  1  \n",
       "494  2.025323   7.091138 -23.728960 -16.342430  1  \n",
       "106 -0.709750 -13.393106 -25.551252  -2.647719  1  "
      ]
     },
     "metadata": {},
     "output_type": "display_data"
    }
   ],
   "source": [
    "display(testdf.shape, testdf.head())"
   ]
  },
  {
   "cell_type": "markdown",
   "metadata": {},
   "source": [
    "### Part 1: Use the training data for model building (16 pts)"
   ]
  },
  {
   "cell_type": "markdown",
   "metadata": {},
   "source": [
    "**a) (2 pts) Using the training data only, fit a logistic regression model that includes all 10 variables. Show the model summary and identify which if any variables have coefficients that are significant at level alpha = 0.05.**"
   ]
  },
  {
   "cell_type": "code",
   "execution_count": 5,
   "metadata": {},
   "outputs": [
    {
     "name": "stdout",
     "output_type": "stream",
     "text": [
      "Optimization terminated successfully.\n",
      "         Current function value: 0.377564\n",
      "         Iterations 7\n"
     ]
    },
    {
     "data": {
      "text/html": [
       "<table class=\"simpletable\">\n",
       "<caption>Logit Regression Results</caption>\n",
       "<tr>\n",
       "  <th>Dep. Variable:</th>         <td>y</td>        <th>  No. Observations:  </th>  <td>   400</td>  \n",
       "</tr>\n",
       "<tr>\n",
       "  <th>Model:</th>               <td>Logit</td>      <th>  Df Residuals:      </th>  <td>   389</td>  \n",
       "</tr>\n",
       "<tr>\n",
       "  <th>Method:</th>               <td>MLE</td>       <th>  Df Model:          </th>  <td>    10</td>  \n",
       "</tr>\n",
       "<tr>\n",
       "  <th>Date:</th>          <td>Tue, 19 Nov 2019</td> <th>  Pseudo R-squ.:     </th>  <td>0.4553</td>  \n",
       "</tr>\n",
       "<tr>\n",
       "  <th>Time:</th>              <td>20:47:08</td>     <th>  Log-Likelihood:    </th> <td> -151.03</td> \n",
       "</tr>\n",
       "<tr>\n",
       "  <th>converged:</th>           <td>True</td>       <th>  LL-Null:           </th> <td> -277.25</td> \n",
       "</tr>\n",
       "<tr>\n",
       "  <th> </th>                      <td> </td>        <th>  LLR p-value:       </th> <td>1.652e-48</td>\n",
       "</tr>\n",
       "</table>\n",
       "<table class=\"simpletable\">\n",
       "<tr>\n",
       "      <td></td>         <th>coef</th>     <th>std err</th>      <th>z</th>      <th>P>|z|</th>  <th>[0.025</th>    <th>0.975]</th>  \n",
       "</tr>\n",
       "<tr>\n",
       "  <th>Intercept</th> <td>   -0.1161</td> <td>    0.260</td> <td>   -0.447</td> <td> 0.655</td> <td>   -0.625</td> <td>    0.393</td>\n",
       "</tr>\n",
       "<tr>\n",
       "  <th>X0</th>        <td>   -0.0081</td> <td>    0.014</td> <td>   -0.567</td> <td> 0.570</td> <td>   -0.036</td> <td>    0.020</td>\n",
       "</tr>\n",
       "<tr>\n",
       "  <th>X1</th>        <td>   -0.0021</td> <td>    0.016</td> <td>   -0.135</td> <td> 0.892</td> <td>   -0.033</td> <td>    0.029</td>\n",
       "</tr>\n",
       "<tr>\n",
       "  <th>X2</th>        <td>    0.0257</td> <td>    0.015</td> <td>    1.694</td> <td> 0.090</td> <td>   -0.004</td> <td>    0.056</td>\n",
       "</tr>\n",
       "<tr>\n",
       "  <th>X3</th>        <td>    0.1061</td> <td>    0.016</td> <td>    6.437</td> <td> 0.000</td> <td>    0.074</td> <td>    0.138</td>\n",
       "</tr>\n",
       "<tr>\n",
       "  <th>X4</th>        <td>   -0.0208</td> <td>    0.015</td> <td>   -1.413</td> <td> 0.158</td> <td>   -0.050</td> <td>    0.008</td>\n",
       "</tr>\n",
       "<tr>\n",
       "  <th>X5</th>        <td>    0.1124</td> <td>    0.016</td> <td>    7.020</td> <td> 0.000</td> <td>    0.081</td> <td>    0.144</td>\n",
       "</tr>\n",
       "<tr>\n",
       "  <th>X6</th>        <td>    0.0426</td> <td>    0.015</td> <td>    2.801</td> <td> 0.005</td> <td>    0.013</td> <td>    0.072</td>\n",
       "</tr>\n",
       "<tr>\n",
       "  <th>X7</th>        <td>    0.0449</td> <td>    0.016</td> <td>    2.888</td> <td> 0.004</td> <td>    0.014</td> <td>    0.075</td>\n",
       "</tr>\n",
       "<tr>\n",
       "  <th>X8</th>        <td>   -0.0563</td> <td>    0.015</td> <td>   -3.793</td> <td> 0.000</td> <td>   -0.085</td> <td>   -0.027</td>\n",
       "</tr>\n",
       "<tr>\n",
       "  <th>X9</th>        <td>   -0.0639</td> <td>    0.015</td> <td>   -4.186</td> <td> 0.000</td> <td>   -0.094</td> <td>   -0.034</td>\n",
       "</tr>\n",
       "</table>"
      ],
      "text/plain": [
       "<class 'statsmodels.iolib.summary.Summary'>\n",
       "\"\"\"\n",
       "                           Logit Regression Results                           \n",
       "==============================================================================\n",
       "Dep. Variable:                      y   No. Observations:                  400\n",
       "Model:                          Logit   Df Residuals:                      389\n",
       "Method:                           MLE   Df Model:                           10\n",
       "Date:                Tue, 19 Nov 2019   Pseudo R-squ.:                  0.4553\n",
       "Time:                        20:47:08   Log-Likelihood:                -151.03\n",
       "converged:                       True   LL-Null:                       -277.25\n",
       "                                        LLR p-value:                 1.652e-48\n",
       "==============================================================================\n",
       "                 coef    std err          z      P>|z|      [0.025      0.975]\n",
       "------------------------------------------------------------------------------\n",
       "Intercept     -0.1161      0.260     -0.447      0.655      -0.625       0.393\n",
       "X0            -0.0081      0.014     -0.567      0.570      -0.036       0.020\n",
       "X1            -0.0021      0.016     -0.135      0.892      -0.033       0.029\n",
       "X2             0.0257      0.015      1.694      0.090      -0.004       0.056\n",
       "X3             0.1061      0.016      6.437      0.000       0.074       0.138\n",
       "X4            -0.0208      0.015     -1.413      0.158      -0.050       0.008\n",
       "X5             0.1124      0.016      7.020      0.000       0.081       0.144\n",
       "X6             0.0426      0.015      2.801      0.005       0.013       0.072\n",
       "X7             0.0449      0.016      2.888      0.004       0.014       0.075\n",
       "X8            -0.0563      0.015     -3.793      0.000      -0.085      -0.027\n",
       "X9            -0.0639      0.015     -4.186      0.000      -0.094      -0.034\n",
       "==============================================================================\n",
       "\"\"\""
      ]
     },
     "execution_count": 5,
     "metadata": {},
     "output_type": "execute_result"
    }
   ],
   "source": [
    "import statsmodels.api as sm\n",
    "import statsmodels.formula.api as smf\n",
    "mod = smf.logit(formula = 'y ~ X0 + X1 + X2 + X3 + X4 + X5 + X6 + X7 + X8 + X9', data = traindf).fit()\n",
    "mod.summary()"
   ]
  },
  {
   "cell_type": "markdown",
   "metadata": {},
   "source": [
    "**AIC criterion for model selection:** The AIC criterion is one method for evaluating a fitted model. It is a function of negative log-likelihood (a measure of model fit), and number of parameters (complexity of the model). It aims to trade off model fit and model complexity to avoid 'overfitting' and enhance generalizability. When used as a model selection criterion, models with lower AIC are considered more generalizable than models with higher AIC. \n",
    "\n",
    "When using the statsmodels.formula.api logit method for fitting the model the AIC crieterion can be obtained from the fitted model using the .aic extension (e.g. model1.aic). "
   ]
  },
  {
   "cell_type": "markdown",
   "metadata": {},
   "source": [
    "**b) (1 pt) Display the AIC value for the model in a).**"
   ]
  },
  {
   "cell_type": "code",
   "execution_count": 6,
   "metadata": {},
   "outputs": [
    {
     "data": {
      "text/plain": [
       "324.05131651164226"
      ]
     },
     "execution_count": 6,
     "metadata": {},
     "output_type": "execute_result"
    }
   ],
   "source": [
    "mod.aic"
   ]
  },
  {
   "cell_type": "markdown",
   "metadata": {},
   "source": [
    "**c) (8 pts) Using the training data only, and by fitting a bunch of different models with different subsets of the variables included, try to find a simplified model than uses less than 10 variables and satisfies the following conditions:**\n",
    "\n",
    "+ **All variables included in the model (except possibly the intercept) have coefficient p-values below 0.05;**\n",
    "\n",
    "+ **Among such models, the AIC is as small as possible.**\n",
    "\n",
    "+ **Include the intercept in all models.**\n",
    "\n",
    "**One strategy is to sequentially drop variables that are not significant and fit the resulting simplified model, checking for consistency with the conditions. In addition to your final model, make a list of the intermediate models you tried and their AIC values. identify the models by which variables are included, and indicate which variables were signficant in the model. You might list them in the following form, for example:**\n",
    "\n",
    "| Model Variables | Least Significant variable | AIC |\n",
    "| --- | --- | --- |\n",
    "| X0, X1, ..., X9 | X5 (p=0.95) | etc. |\n",
    "| etc. | etc. | etc. |\n",
    "| X0, X1, X4 | X4 (p=0.041) | 68.33 |\n",
    "| etc. | etc. | etc. |\n",
    "\n",
    "**Another useful bit of information is that you can access the p-values from the fitted model using the .pvalues extension, e.g., model1.pvalues. That way you can avoid having to display the model summary for each model you try.**"
   ]
  },
  {
   "cell_type": "code",
   "execution_count": 7,
   "metadata": {},
   "outputs": [
    {
     "name": "stdout",
     "output_type": "stream",
     "text": [
      "Optimization terminated successfully.\n",
      "         Current function value: 0.383951\n",
      "         Iterations 7\n"
     ]
    },
    {
     "data": {
      "text/plain": [
       "Intercept    5.011499e-01\n",
       "X3           7.200283e-11\n",
       "X5           5.035771e-13\n",
       "X6           4.881818e-03\n",
       "X7           3.898269e-03\n",
       "X8           1.616698e-04\n",
       "X9           1.056252e-05\n",
       "dtype: float64"
      ]
     },
     "execution_count": 7,
     "metadata": {},
     "output_type": "execute_result"
    }
   ],
   "source": [
    "mod2 = smf.logit(formula = 'y ~ X3 + X5 + X6 + X7 + X8 + X9', data = traindf).fit()\n",
    "mod2.pvalues"
   ]
  },
  {
   "cell_type": "code",
   "execution_count": 8,
   "metadata": {},
   "outputs": [
    {
     "data": {
      "text/plain": [
       "321.1607725023934"
      ]
     },
     "execution_count": 8,
     "metadata": {},
     "output_type": "execute_result"
    }
   ],
   "source": [
    "mod2.aic"
   ]
  },
  {
   "cell_type": "markdown",
   "metadata": {},
   "source": [
    "smf.logit(formula = 'y ~ X0 + X2 + X3 + X4 + X5 + X6 + X7 + X8 + X9', data = traindf), X0, aic = 322.0696495576599"
   ]
  },
  {
   "cell_type": "markdown",
   "metadata": {},
   "source": [
    "smf.logit(formula = 'y ~ X2 + X3 + X4 + X5 + X6 + X7 + X8 + X9', data = traindf), X4 , aic = 320.3901011064893"
   ]
  },
  {
   "cell_type": "markdown",
   "metadata": {},
   "source": [
    "smf.logit(formula = 'y ~ X2 + X3 + X5 + X6 + X7 + X8 + X9', data = traindf), X2, aic = 320.3727751111385"
   ]
  },
  {
   "cell_type": "markdown",
   "metadata": {},
   "source": [
    "smf.logit(formula = 'y ~ X3 + X5 + X6 + X7 + X8 + X9', data = traindf), X6, aic = \n",
    "321.1607725023934"
   ]
  },
  {
   "cell_type": "markdown",
   "metadata": {},
   "source": [
    "**d) (1 pts) Show the model summary for the final model you selected. Explain briefly why it is the best model you found.**"
   ]
  },
  {
   "cell_type": "code",
   "execution_count": 9,
   "metadata": {},
   "outputs": [
    {
     "data": {
      "text/html": [
       "<table class=\"simpletable\">\n",
       "<caption>Logit Regression Results</caption>\n",
       "<tr>\n",
       "  <th>Dep. Variable:</th>         <td>y</td>        <th>  No. Observations:  </th>  <td>   400</td>  \n",
       "</tr>\n",
       "<tr>\n",
       "  <th>Model:</th>               <td>Logit</td>      <th>  Df Residuals:      </th>  <td>   393</td>  \n",
       "</tr>\n",
       "<tr>\n",
       "  <th>Method:</th>               <td>MLE</td>       <th>  Df Model:          </th>  <td>     6</td>  \n",
       "</tr>\n",
       "<tr>\n",
       "  <th>Date:</th>          <td>Tue, 19 Nov 2019</td> <th>  Pseudo R-squ.:     </th>  <td>0.4461</td>  \n",
       "</tr>\n",
       "<tr>\n",
       "  <th>Time:</th>              <td>20:47:08</td>     <th>  Log-Likelihood:    </th> <td> -153.58</td> \n",
       "</tr>\n",
       "<tr>\n",
       "  <th>converged:</th>           <td>True</td>       <th>  LL-Null:           </th> <td> -277.25</td> \n",
       "</tr>\n",
       "<tr>\n",
       "  <th> </th>                      <td> </td>        <th>  LLR p-value:       </th> <td>1.513e-50</td>\n",
       "</tr>\n",
       "</table>\n",
       "<table class=\"simpletable\">\n",
       "<tr>\n",
       "      <td></td>         <th>coef</th>     <th>std err</th>      <th>z</th>      <th>P>|z|</th>  <th>[0.025</th>    <th>0.975]</th>  \n",
       "</tr>\n",
       "<tr>\n",
       "  <th>Intercept</th> <td>   -0.1165</td> <td>    0.173</td> <td>   -0.673</td> <td> 0.501</td> <td>   -0.456</td> <td>    0.223</td>\n",
       "</tr>\n",
       "<tr>\n",
       "  <th>X3</th>        <td>    0.1039</td> <td>    0.016</td> <td>    6.516</td> <td> 0.000</td> <td>    0.073</td> <td>    0.135</td>\n",
       "</tr>\n",
       "<tr>\n",
       "  <th>X5</th>        <td>    0.1145</td> <td>    0.016</td> <td>    7.224</td> <td> 0.000</td> <td>    0.083</td> <td>    0.146</td>\n",
       "</tr>\n",
       "<tr>\n",
       "  <th>X6</th>        <td>    0.0422</td> <td>    0.015</td> <td>    2.815</td> <td> 0.005</td> <td>    0.013</td> <td>    0.072</td>\n",
       "</tr>\n",
       "<tr>\n",
       "  <th>X7</th>        <td>    0.0440</td> <td>    0.015</td> <td>    2.886</td> <td> 0.004</td> <td>    0.014</td> <td>    0.074</td>\n",
       "</tr>\n",
       "<tr>\n",
       "  <th>X8</th>        <td>   -0.0544</td> <td>    0.014</td> <td>   -3.772</td> <td> 0.000</td> <td>   -0.083</td> <td>   -0.026</td>\n",
       "</tr>\n",
       "<tr>\n",
       "  <th>X9</th>        <td>   -0.0666</td> <td>    0.015</td> <td>   -4.405</td> <td> 0.000</td> <td>   -0.096</td> <td>   -0.037</td>\n",
       "</tr>\n",
       "</table>"
      ],
      "text/plain": [
       "<class 'statsmodels.iolib.summary.Summary'>\n",
       "\"\"\"\n",
       "                           Logit Regression Results                           \n",
       "==============================================================================\n",
       "Dep. Variable:                      y   No. Observations:                  400\n",
       "Model:                          Logit   Df Residuals:                      393\n",
       "Method:                           MLE   Df Model:                            6\n",
       "Date:                Tue, 19 Nov 2019   Pseudo R-squ.:                  0.4461\n",
       "Time:                        20:47:08   Log-Likelihood:                -153.58\n",
       "converged:                       True   LL-Null:                       -277.25\n",
       "                                        LLR p-value:                 1.513e-50\n",
       "==============================================================================\n",
       "                 coef    std err          z      P>|z|      [0.025      0.975]\n",
       "------------------------------------------------------------------------------\n",
       "Intercept     -0.1165      0.173     -0.673      0.501      -0.456       0.223\n",
       "X3             0.1039      0.016      6.516      0.000       0.073       0.135\n",
       "X5             0.1145      0.016      7.224      0.000       0.083       0.146\n",
       "X6             0.0422      0.015      2.815      0.005       0.013       0.072\n",
       "X7             0.0440      0.015      2.886      0.004       0.014       0.074\n",
       "X8            -0.0544      0.014     -3.772      0.000      -0.083      -0.026\n",
       "X9            -0.0666      0.015     -4.405      0.000      -0.096      -0.037\n",
       "==============================================================================\n",
       "\"\"\""
      ]
     },
     "execution_count": 9,
     "metadata": {},
     "output_type": "execute_result"
    }
   ],
   "source": [
    "mod2.summary()"
   ]
  },
  {
   "cell_type": "markdown",
   "metadata": {},
   "source": [
    "It has the lowest AIC with all of the coefficients are significant. "
   ]
  },
  {
   "cell_type": "markdown",
   "metadata": {},
   "source": [
    "**e) (4 pts) Treating your final model as a classifier, compute and display the 'naive' estimates of sensitivity and specificity using the training data. Use the classification threshold:**\n",
    "\n",
    "+ **Classify as 1 if the predictive probability (model fitted value) is 0.5 or greater,**\n",
    "\n",
    "+ **Classify as 0 if the predictive probability is less than 0.5.**\n",
    "\n",
    "**A function to compute sensitivity and specificity was included in the class notes. You may include it in your code if helpful.**"
   ]
  },
  {
   "cell_type": "code",
   "execution_count": 10,
   "metadata": {},
   "outputs": [],
   "source": [
    "phat = mod2.predict(exog = traindf[['X3', 'X5', 'X6', 'X7', 'X8', 'X9']])"
   ]
  },
  {
   "cell_type": "code",
   "execution_count": 11,
   "metadata": {},
   "outputs": [],
   "source": [
    "from sklearn.metrics import confusion_matrix\n",
    "def senspec(y, score, thresh):\n",
    "    yhat = 1*(score >= thresh)\n",
    "    tn, fp, fn, tp = confusion_matrix(y_true = y, y_pred = yhat).ravel()\n",
    "    sens = tp / (fn + tp)\n",
    "    spec = tn / (fp + tn)\n",
    "    return {'tn': tn, 'fp': fp, 'fn': fn, 'tp': tp, 'sens': sens, 'spec': spec}"
   ]
  },
  {
   "cell_type": "code",
   "execution_count": 12,
   "metadata": {},
   "outputs": [
    {
     "data": {
      "text/plain": [
       "{'tn': 159,\n",
       " 'fp': 40,\n",
       " 'fn': 33,\n",
       " 'tp': 168,\n",
       " 'sens': 0.835820895522388,\n",
       " 'spec': 0.7989949748743719}"
      ]
     },
     "execution_count": 12,
     "metadata": {},
     "output_type": "execute_result"
    }
   ],
   "source": [
    "senspec(traindf['y'], phat, 0.5)"
   ]
  },
  {
   "cell_type": "markdown",
   "metadata": {},
   "source": [
    "### Part 2: Use the test data for model evaluation"
   ]
  },
  {
   "cell_type": "markdown",
   "metadata": {},
   "source": [
    "**a) (4 pts) Using the model from Part 1d) as a classifier, with the same threshold as in Part 1e), use the test data to compute sensitivity and specificity. This will require classifying the test data and then computing the true positive, false negatives and so on. Display the code and results.**"
   ]
  },
  {
   "cell_type": "code",
   "execution_count": 13,
   "metadata": {},
   "outputs": [],
   "source": [
    "phat2 = mod2.predict(exog = testdf[['X3', 'X5', 'X6', 'X7', 'X8', 'X9']])"
   ]
  },
  {
   "cell_type": "code",
   "execution_count": 14,
   "metadata": {},
   "outputs": [
    {
     "data": {
      "text/plain": [
       "{'tn': 42,\n",
       " 'fp': 9,\n",
       " 'fn': 8,\n",
       " 'tp': 41,\n",
       " 'sens': 0.8367346938775511,\n",
       " 'spec': 0.8235294117647058}"
      ]
     },
     "execution_count": 14,
     "metadata": {},
     "output_type": "execute_result"
    }
   ],
   "source": [
    "senspec(testdf['y'], phat2, 0.5)"
   ]
  },
  {
   "cell_type": "markdown",
   "metadata": {},
   "source": [
    "**b) (4 pts) Using the test data only for evaluation, compute and display the ROC curve for the model in Part 1d) that you developed from the training data. You may use any functions developed in the class notes for this purpose if helpful.**"
   ]
  },
  {
   "cell_type": "code",
   "execution_count": 15,
   "metadata": {},
   "outputs": [],
   "source": [
    "import matplotlib.pyplot as plt\n",
    "from sklearn.metrics import roc_curve\n",
    "from sklearn.metrics import roc_auc_score"
   ]
  },
  {
   "cell_type": "code",
   "execution_count": 16,
   "metadata": {},
   "outputs": [],
   "source": [
    "def plot_roc(fpr, tpr, auc, lw = 2):\n",
    "    plt.plot(fpr, tpr, color = 'darkorange', lw = lw, label = 'ROC curve (area = '+str(round(auc, 3))+')')\n",
    "    plt.plot([0,1], [0,1], color = 'navy', lw = lw, linestyle = '--')\n",
    "    plt.xlabel('False Positive Rate')\n",
    "    plt.ylabel('True Positive Rate')\n",
    "    plt.title('ROC Curve')\n",
    "    plt.legend(loc = \"lower right\")\n",
    "    plt.show()"
   ]
  },
  {
   "cell_type": "code",
   "execution_count": 17,
   "metadata": {},
   "outputs": [
    {
     "data": {
      "image/png": "[encoded data removed]",
      "text/plain": [
       "<Figure size 432x288 with 1 Axes>"
      ]
     },
     "metadata": {
      "needs_background": "light"
     },
     "output_type": "display_data"
    }
   ],
   "source": [
    "fpr, tpr, score = roc_curve(y_true = testdf['y'], y_score = phat2)\n",
    "auc = roc_auc_score(y_true = testdf['y'], y_score = phat2)\n",
    "plot_roc(fpr, tpr, auc)"
   ]
  },
  {
   "cell_type": "markdown",
   "metadata": {},
   "source": [
    "**c) (1 pt) Comment on how the sensitivity and specificity compare between the 'naive' values computed from the training data, and the unbiased values computed using the test data. Are the results similar or is one of the results more optimistic than the other.**"
   ]
  },
  {
   "cell_type": "markdown",
   "metadata": {},
   "source": [
    "Compared to the result based on training data, the result based on test data has higher sensitivity and specificity. Thus, the result with test data is more optimistic but the results are similar. "
   ]
  }
 ],
 "metadata": {
  "kernelspec": {
   "display_name": "Python 3",
   "language": "python",
   "name": "python3"
  },
  "language_info": {
   "codemirror_mode": {
    "name": "ipython",
    "version": 3
   },
   "file_extension": ".py",
   "mimetype": "text/x-python",
   "name": "python",
   "nbconvert_exporter": "python",
   "pygments_lexer": "ipython3",
   "version": "3.7.3"
  }
 },
 "nbformat": 4,
 "nbformat_minor": 2
}
