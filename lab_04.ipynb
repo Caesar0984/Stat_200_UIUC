{
 "cells": [
  {
   "cell_type": "markdown",
   "metadata": {},
   "source": [
    "### STAT 207 Lab 4: Normal and Bernoulli"
   ]
  },
  {
   "cell_type": "markdown",
   "metadata": {},
   "source": [
    "Due: Wednesday, September 25, 23:59:59"
   ]
  },
  {
   "cell_type": "markdown",
   "metadata": {},
   "source": [
    "### Jaewon Kim jaewonk3"
   ]
  },
  {
   "cell_type": "markdown",
   "metadata": {},
   "source": [
    "This lab consists of 3 main parts. You may add as many cells as you need in order to do the excercises. To add cells use the \"Insert\" tab from the menu bar above and select \"insert cell above\" or \"insert cell below\". \n",
    "\n",
    "Please use Markdown cells above or below your code cells to explain your results. Make sure graders know that you understand what your code is doing.\n",
    "\n",
    "**Note: not every problem in this lab requires Python calculation. In some cases you can just work it out and type in your solution.** \n"
   ]
  },
  {
   "cell_type": "markdown",
   "metadata": {},
   "source": [
    "### Part 1: Normal Distribution (10 pts)\n",
    "\n",
    "The normal family of distributions are used widely in practice, both because of the Central Limit Theorem for the large sample distribution of averages, and because many types of measurements appear to follow a normal distribution to a reasonable approximation. The SciPy.stats library provides the 'norm' function with methods for computing the probability density function (.pdf), cumulative distribution function (.cdf), percent point function (.ppf - like the quantile function for data), random variate generation (.rvs), and other parameters (.mean, .std, .median etc). Please study the documentation here:\n",
    "[scipy.stats.norm](https://docs.scipy.org/doc/scipy/reference/generated/scipy.stats.norm.html#scipy.stats.norm)\n",
    "\n",
    "Let's let 'norm' help us experiment with the normal distribution. Note that for the 'norm' function the loc keyword specifies the mean, and the scale keyword specifies the standard deviation."
   ]
  },
  {
   "cell_type": "code",
   "execution_count": 1,
   "metadata": {},
   "outputs": [],
   "source": [
    "import pandas as pd\n",
    "import numpy as np\n",
    "import matplotlib.pyplot as plt\n",
    "import seaborn as sns; sns.set()\n",
    "from scipy.stats import norm"
   ]
  },
  {
   "cell_type": "markdown",
   "metadata": {},
   "source": [
    "**a) Use the .mean and .std methods to show that distribution implemented by the norm function with loc=12 and scale=5 has mean 12 and standard devation 5.**"
   ]
  },
  {
   "cell_type": "code",
   "execution_count": 2,
   "metadata": {
    "scrolled": true
   },
   "outputs": [
    {
     "name": "stderr",
     "output_type": "stream",
     "text": [
      "C:\\Users\\jaewo\\Anaconda3\\lib\\site-packages\\numpy\\core\\function_base.py:159: RuntimeWarning: invalid value encountered in multiply\n",
      "  y *= step\n",
      "C:\\Users\\jaewo\\Anaconda3\\lib\\site-packages\\numpy\\core\\function_base.py:168: RuntimeWarning: invalid value encountered in add\n",
      "  y += start\n"
     ]
    },
    {
     "data": {
      "text/html": [
       "<div>\n",
       "<style scoped>\n",
       "    .dataframe tbody tr th:only-of-type {\n",
       "        vertical-align: middle;\n",
       "    }\n",
       "\n",
       "    .dataframe tbody tr th {\n",
       "        vertical-align: top;\n",
       "    }\n",
       "\n",
       "    .dataframe thead th {\n",
       "        text-align: right;\n",
       "    }\n",
       "</style>\n",
       "<table border=\"1\" class=\"dataframe\">\n",
       "  <thead>\n",
       "    <tr style=\"text-align: right;\">\n",
       "      <th></th>\n",
       "      <th>population</th>\n",
       "    </tr>\n",
       "  </thead>\n",
       "  <tbody>\n",
       "    <tr>\n",
       "      <th>mean</th>\n",
       "      <td>12.0</td>\n",
       "    </tr>\n",
       "    <tr>\n",
       "      <th>std</th>\n",
       "      <td>5.0</td>\n",
       "    </tr>\n",
       "  </tbody>\n",
       "</table>\n",
       "</div>"
      ],
      "text/plain": [
       "      population\n",
       "mean        12.0\n",
       "std          5.0"
      ]
     },
     "execution_count": 2,
     "metadata": {},
     "output_type": "execute_result"
    }
   ],
   "source": [
    "loc, scale = 12, 5\n",
    "x = np.linspace(norm.ppf(0.0, loc = loc, scale = scale),\n",
    "               norm.ppf(0.99, loc = loc, scale = scale), 100)\n",
    "params = ['mean', 'std']\n",
    "pop = [norm.mean(loc = loc, scale = scale),\n",
    "      norm.std(loc = loc, scale = scale)]\n",
    "pd.DataFrame({'population': pop}, index = params)"
   ]
  },
  {
   "cell_type": "markdown",
   "metadata": {},
   "source": [
    "**b) Suppose the random variable $X$ is normally distributed with mean 12 and standard deviation 5. Compute $P(X \\le 7)$.**"
   ]
  },
  {
   "cell_type": "code",
   "execution_count": 3,
   "metadata": {},
   "outputs": [
    {
     "data": {
      "text/plain": [
       "0.15865525393145707"
      ]
     },
     "execution_count": 3,
     "metadata": {},
     "output_type": "execute_result"
    }
   ],
   "source": [
    "norm.cdf(7, loc = loc, scale = scale)"
   ]
  },
  {
   "cell_type": "markdown",
   "metadata": {},
   "source": [
    "**c) For the same random variable $X$ as in b), compute $P(7 \\lt X \\le 17)$**"
   ]
  },
  {
   "cell_type": "code",
   "execution_count": 4,
   "metadata": {},
   "outputs": [
    {
     "data": {
      "text/plain": [
       "0.6826894921370859"
      ]
     },
     "execution_count": 4,
     "metadata": {},
     "output_type": "execute_result"
    }
   ],
   "source": [
    "norm.cdf(17, loc = loc, scale = scale) - norm.cdf(7, loc = loc, scale = scale)"
   ]
  },
  {
   "cell_type": "markdown",
   "metadata": {},
   "source": [
    "**d) With the same $X$, compute the probability that $X$ takes a value within 2 standard deviations of its mean value.**"
   ]
  },
  {
   "cell_type": "code",
   "execution_count": 5,
   "metadata": {},
   "outputs": [
    {
     "data": {
      "text/plain": [
       "0.9544997361036416"
      ]
     },
     "execution_count": 5,
     "metadata": {},
     "output_type": "execute_result"
    }
   ],
   "source": [
    "norm.cdf(22, loc = loc, scale = scale) - norm.cdf(2, loc = loc, scale = scale)"
   ]
  },
  {
   "cell_type": "markdown",
   "metadata": {},
   "source": [
    "**e) With the same $X$, compute the 10th percentile of its distribution.**"
   ]
  },
  {
   "cell_type": "code",
   "execution_count": 6,
   "metadata": {},
   "outputs": [
    {
     "data": {
      "text/plain": [
       "5.592242172276999"
      ]
     },
     "execution_count": 6,
     "metadata": {},
     "output_type": "execute_result"
    }
   ],
   "source": [
    "norm.ppf(0.1, loc = loc, scale = scale)"
   ]
  },
  {
   "cell_type": "markdown",
   "metadata": {},
   "source": [
    "### Part 2: Sampling from the Normal distribution (10 pts)\n",
    "\n",
    "According to the square root rule, if $X_1, X_2, \\ldots, X_n$ is an independent random sample from a distribution with mean $\\mu$ and standard deviation $\\sigma$, the the sample mean\n",
    "\n",
    "$$\n",
    "\\bar{X} = {X_1+X_2+\\cdots+X_n\\over n}\n",
    "$$\n",
    "\n",
    "has the same mean as the original variable, i.e. $E(\\bar{X})=\\mu$, but reduced standard devation:\n",
    "\n",
    "$$\n",
    "SD(\\bar{X}) = {\\sigma\\over \\sqrt{n}}.\n",
    "$$\n",
    "\n"
   ]
  },
  {
   "cell_type": "markdown",
   "metadata": {},
   "source": [
    "**a) Use 'norm' to generate a random sample of 100 observations from the normal distribution with mean = 12 and standard devation =5. Save the values in a list and display the results.**"
   ]
  },
  {
   "cell_type": "code",
   "execution_count": 7,
   "metadata": {},
   "outputs": [
    {
     "data": {
      "text/plain": [
       "array([20.68946959, 15.90437415, 13.59904967,  5.42197497, 17.33993362,\n",
       "       15.50162476,  9.62185301, 14.50667629, 20.08686605,  6.82285754,\n",
       "       -1.54714795, 18.68293233, 11.18962233,  3.63767336,  1.74986094,\n",
       "       16.91403769, 12.67857917,  9.22950892, 29.20009111,  7.21995114,\n",
       "        8.44087312, 13.13611146, 12.65664217, 20.84320195, 10.33464282,\n",
       "        9.53805628, 12.24569155,  1.78902524, 13.0340003 , 11.5717221 ,\n",
       "       13.52215552, 15.23001723, 12.75349926, 19.33958477, 13.44603764,\n",
       "        7.6312762 ,  5.81570382, 19.84910982, 21.40641446, 20.68819648,\n",
       "       13.35381436, 22.30235198, 11.18893948,  7.49312901, 14.3706533 ,\n",
       "       18.13314839, -1.55545039, 12.61375807, 15.30558838,  5.908656  ,\n",
       "       14.90590588,  4.77826136,  7.8693484 , 13.25589936, 13.49817707,\n",
       "       15.09303221, 18.78601545, 10.32919843, 25.72637161, 12.03391651,\n",
       "       14.12966011, 20.23320562, 13.91710611, 12.68105076, 24.37181069,\n",
       "        3.19631035,  8.71307079,  5.48770988, 10.71280697, 16.93285301,\n",
       "        9.74022046, 14.29423488, 10.47661381,  6.30281017, 10.35611694,\n",
       "       12.64443746, 11.66908605,  5.5075005 ,  5.67052157, 19.24247081,\n",
       "        5.41423652, 15.81024516,  8.43219069, 11.80094801,  9.54482158,\n",
       "        8.81377188,  7.86066261,  4.05016998, 20.44529727, 14.21036927,\n",
       "       16.55262323, 16.60136436,  9.49924874,  8.65815277,  4.00699467,\n",
       "       14.82982644, 15.35372076, 22.0202775 ,  8.71905984, 24.4855349 ])"
      ]
     },
     "execution_count": 7,
     "metadata": {},
     "output_type": "execute_result"
    }
   ],
   "source": [
    "sample = norm.rvs(loc = loc, scale = scale, size = 100)\n",
    "sample"
   ]
  },
  {
   "cell_type": "markdown",
   "metadata": {},
   "source": [
    "**b) Compute the sample mean and standard deviation for the numbers you generated in part a). Comment on how close or far they are from the population mean and standard deviation.**"
   ]
  },
  {
   "cell_type": "code",
   "execution_count": 8,
   "metadata": {},
   "outputs": [
    {
     "data": {
      "text/html": [
       "<div>\n",
       "<style scoped>\n",
       "    .dataframe tbody tr th:only-of-type {\n",
       "        vertical-align: middle;\n",
       "    }\n",
       "\n",
       "    .dataframe tbody tr th {\n",
       "        vertical-align: top;\n",
       "    }\n",
       "\n",
       "    .dataframe thead th {\n",
       "        text-align: right;\n",
       "    }\n",
       "</style>\n",
       "<table border=\"1\" class=\"dataframe\">\n",
       "  <thead>\n",
       "    <tr style=\"text-align: right;\">\n",
       "      <th></th>\n",
       "      <th>Population</th>\n",
       "      <th>Sample</th>\n",
       "    </tr>\n",
       "  </thead>\n",
       "  <tbody>\n",
       "    <tr>\n",
       "      <th>mean</th>\n",
       "      <td>12.0</td>\n",
       "      <td>12.505016</td>\n",
       "    </tr>\n",
       "    <tr>\n",
       "      <th>std</th>\n",
       "      <td>5.0</td>\n",
       "      <td>5.937010</td>\n",
       "    </tr>\n",
       "  </tbody>\n",
       "</table>\n",
       "</div>"
      ],
      "text/plain": [
       "      Population     Sample\n",
       "mean        12.0  12.505016\n",
       "std          5.0   5.937010"
      ]
     },
     "execution_count": 8,
     "metadata": {},
     "output_type": "execute_result"
    }
   ],
   "source": [
    "s = [np.mean(sample),\n",
    "    np.std(sample)]\n",
    "pd.DataFrame({'Population': pop, 'Sample': s}, index = params)"
   ]
  },
  {
   "cell_type": "markdown",
   "metadata": {},
   "source": [
    "The sample mean and standard deviation are pretty close to the original means and standard deviation.  "
   ]
  },
  {
   "cell_type": "markdown",
   "metadata": {},
   "source": [
    "**c) Make a density histogram of the values you got in a)** "
   ]
  },
  {
   "cell_type": "code",
   "execution_count": 9,
   "metadata": {},
   "outputs": [
    {
     "data": {
      "image/png": "[encoded data removed]",
      "text/plain": [
       "<Figure size 432x288 with 1 Axes>"
      ]
     },
     "metadata": {
      "needs_background": "light"
     },
     "output_type": "display_data"
    }
   ],
   "source": [
    "plt.hist(sample, density = True)\n",
    "plt.show()"
   ]
  },
  {
   "cell_type": "markdown",
   "metadata": {},
   "source": [
    "**d) Write a loop to repeat the following process 50 times:  draw a sample of 100 observations from the normal distribution with mean=12 and standard devation =5. Compute the sample mean for each sample. Store your resulting sample means in a data frame or list and display them.**"
   ]
  },
  {
   "cell_type": "code",
   "execution_count": 10,
   "metadata": {},
   "outputs": [
    {
     "data": {
      "text/html": [
       "<div>\n",
       "<style scoped>\n",
       "    .dataframe tbody tr th:only-of-type {\n",
       "        vertical-align: middle;\n",
       "    }\n",
       "\n",
       "    .dataframe tbody tr th {\n",
       "        vertical-align: top;\n",
       "    }\n",
       "\n",
       "    .dataframe thead th {\n",
       "        text-align: right;\n",
       "    }\n",
       "</style>\n",
       "<table border=\"1\" class=\"dataframe\">\n",
       "  <thead>\n",
       "    <tr style=\"text-align: right;\">\n",
       "      <th></th>\n",
       "      <th>Mean</th>\n",
       "    </tr>\n",
       "  </thead>\n",
       "  <tbody>\n",
       "    <tr>\n",
       "      <th>0</th>\n",
       "      <td>11.632931</td>\n",
       "    </tr>\n",
       "    <tr>\n",
       "      <th>1</th>\n",
       "      <td>13.205376</td>\n",
       "    </tr>\n",
       "    <tr>\n",
       "      <th>2</th>\n",
       "      <td>12.070101</td>\n",
       "    </tr>\n",
       "    <tr>\n",
       "      <th>3</th>\n",
       "      <td>11.388462</td>\n",
       "    </tr>\n",
       "    <tr>\n",
       "      <th>4</th>\n",
       "      <td>12.249279</td>\n",
       "    </tr>\n",
       "    <tr>\n",
       "      <th>5</th>\n",
       "      <td>11.973606</td>\n",
       "    </tr>\n",
       "    <tr>\n",
       "      <th>6</th>\n",
       "      <td>11.045398</td>\n",
       "    </tr>\n",
       "    <tr>\n",
       "      <th>7</th>\n",
       "      <td>12.247252</td>\n",
       "    </tr>\n",
       "    <tr>\n",
       "      <th>8</th>\n",
       "      <td>11.579221</td>\n",
       "    </tr>\n",
       "    <tr>\n",
       "      <th>9</th>\n",
       "      <td>11.993496</td>\n",
       "    </tr>\n",
       "    <tr>\n",
       "      <th>10</th>\n",
       "      <td>10.998420</td>\n",
       "    </tr>\n",
       "    <tr>\n",
       "      <th>11</th>\n",
       "      <td>11.529251</td>\n",
       "    </tr>\n",
       "    <tr>\n",
       "      <th>12</th>\n",
       "      <td>12.383048</td>\n",
       "    </tr>\n",
       "    <tr>\n",
       "      <th>13</th>\n",
       "      <td>10.902589</td>\n",
       "    </tr>\n",
       "    <tr>\n",
       "      <th>14</th>\n",
       "      <td>12.467987</td>\n",
       "    </tr>\n",
       "    <tr>\n",
       "      <th>15</th>\n",
       "      <td>11.471205</td>\n",
       "    </tr>\n",
       "    <tr>\n",
       "      <th>16</th>\n",
       "      <td>11.850632</td>\n",
       "    </tr>\n",
       "    <tr>\n",
       "      <th>17</th>\n",
       "      <td>10.882405</td>\n",
       "    </tr>\n",
       "    <tr>\n",
       "      <th>18</th>\n",
       "      <td>12.392889</td>\n",
       "    </tr>\n",
       "    <tr>\n",
       "      <th>19</th>\n",
       "      <td>11.740083</td>\n",
       "    </tr>\n",
       "    <tr>\n",
       "      <th>20</th>\n",
       "      <td>11.446382</td>\n",
       "    </tr>\n",
       "    <tr>\n",
       "      <th>21</th>\n",
       "      <td>11.812966</td>\n",
       "    </tr>\n",
       "    <tr>\n",
       "      <th>22</th>\n",
       "      <td>11.999833</td>\n",
       "    </tr>\n",
       "    <tr>\n",
       "      <th>23</th>\n",
       "      <td>12.054634</td>\n",
       "    </tr>\n",
       "    <tr>\n",
       "      <th>24</th>\n",
       "      <td>11.701563</td>\n",
       "    </tr>\n",
       "    <tr>\n",
       "      <th>25</th>\n",
       "      <td>12.535667</td>\n",
       "    </tr>\n",
       "    <tr>\n",
       "      <th>26</th>\n",
       "      <td>12.509683</td>\n",
       "    </tr>\n",
       "    <tr>\n",
       "      <th>27</th>\n",
       "      <td>12.117939</td>\n",
       "    </tr>\n",
       "    <tr>\n",
       "      <th>28</th>\n",
       "      <td>12.394040</td>\n",
       "    </tr>\n",
       "    <tr>\n",
       "      <th>29</th>\n",
       "      <td>11.782309</td>\n",
       "    </tr>\n",
       "    <tr>\n",
       "      <th>30</th>\n",
       "      <td>11.514745</td>\n",
       "    </tr>\n",
       "    <tr>\n",
       "      <th>31</th>\n",
       "      <td>12.819529</td>\n",
       "    </tr>\n",
       "    <tr>\n",
       "      <th>32</th>\n",
       "      <td>12.322550</td>\n",
       "    </tr>\n",
       "    <tr>\n",
       "      <th>33</th>\n",
       "      <td>12.886954</td>\n",
       "    </tr>\n",
       "    <tr>\n",
       "      <th>34</th>\n",
       "      <td>11.465672</td>\n",
       "    </tr>\n",
       "    <tr>\n",
       "      <th>35</th>\n",
       "      <td>11.355281</td>\n",
       "    </tr>\n",
       "    <tr>\n",
       "      <th>36</th>\n",
       "      <td>11.839567</td>\n",
       "    </tr>\n",
       "    <tr>\n",
       "      <th>37</th>\n",
       "      <td>11.382829</td>\n",
       "    </tr>\n",
       "    <tr>\n",
       "      <th>38</th>\n",
       "      <td>12.393098</td>\n",
       "    </tr>\n",
       "    <tr>\n",
       "      <th>39</th>\n",
       "      <td>11.817519</td>\n",
       "    </tr>\n",
       "    <tr>\n",
       "      <th>40</th>\n",
       "      <td>11.898046</td>\n",
       "    </tr>\n",
       "    <tr>\n",
       "      <th>41</th>\n",
       "      <td>12.380367</td>\n",
       "    </tr>\n",
       "    <tr>\n",
       "      <th>42</th>\n",
       "      <td>12.597555</td>\n",
       "    </tr>\n",
       "    <tr>\n",
       "      <th>43</th>\n",
       "      <td>11.078583</td>\n",
       "    </tr>\n",
       "    <tr>\n",
       "      <th>44</th>\n",
       "      <td>12.849947</td>\n",
       "    </tr>\n",
       "    <tr>\n",
       "      <th>45</th>\n",
       "      <td>12.481072</td>\n",
       "    </tr>\n",
       "    <tr>\n",
       "      <th>46</th>\n",
       "      <td>12.158299</td>\n",
       "    </tr>\n",
       "    <tr>\n",
       "      <th>47</th>\n",
       "      <td>12.645696</td>\n",
       "    </tr>\n",
       "    <tr>\n",
       "      <th>48</th>\n",
       "      <td>11.814131</td>\n",
       "    </tr>\n",
       "    <tr>\n",
       "      <th>49</th>\n",
       "      <td>11.078028</td>\n",
       "    </tr>\n",
       "  </tbody>\n",
       "</table>\n",
       "</div>"
      ],
      "text/plain": [
       "         Mean\n",
       "0   11.632931\n",
       "1   13.205376\n",
       "2   12.070101\n",
       "3   11.388462\n",
       "4   12.249279\n",
       "5   11.973606\n",
       "6   11.045398\n",
       "7   12.247252\n",
       "8   11.579221\n",
       "9   11.993496\n",
       "10  10.998420\n",
       "11  11.529251\n",
       "12  12.383048\n",
       "13  10.902589\n",
       "14  12.467987\n",
       "15  11.471205\n",
       "16  11.850632\n",
       "17  10.882405\n",
       "18  12.392889\n",
       "19  11.740083\n",
       "20  11.446382\n",
       "21  11.812966\n",
       "22  11.999833\n",
       "23  12.054634\n",
       "24  11.701563\n",
       "25  12.535667\n",
       "26  12.509683\n",
       "27  12.117939\n",
       "28  12.394040\n",
       "29  11.782309\n",
       "30  11.514745\n",
       "31  12.819529\n",
       "32  12.322550\n",
       "33  12.886954\n",
       "34  11.465672\n",
       "35  11.355281\n",
       "36  11.839567\n",
       "37  11.382829\n",
       "38  12.393098\n",
       "39  11.817519\n",
       "40  11.898046\n",
       "41  12.380367\n",
       "42  12.597555\n",
       "43  11.078583\n",
       "44  12.849947\n",
       "45  12.481072\n",
       "46  12.158299\n",
       "47  12.645696\n",
       "48  11.814131\n",
       "49  11.078028"
      ]
     },
     "execution_count": 10,
     "metadata": {},
     "output_type": "execute_result"
    }
   ],
   "source": [
    "a = []\n",
    "for i in range(50):\n",
    "    sample = norm.rvs(loc = loc, scale = scale, size = 100)\n",
    "    a.append(np.mean(sample))\n",
    "df = pd.DataFrame({'Mean': a})\n",
    "df"
   ]
  },
  {
   "cell_type": "markdown",
   "metadata": {},
   "source": [
    "**e) Compute the sample mean and standard deviation of the 50 sample means you got in d). Comment on how they compare with the theoretical values predicted by the square root rule.** "
   ]
  },
  {
   "cell_type": "code",
   "execution_count": 11,
   "metadata": {},
   "outputs": [
    {
     "data": {
      "text/html": [
       "<div>\n",
       "<style scoped>\n",
       "    .dataframe tbody tr th:only-of-type {\n",
       "        vertical-align: middle;\n",
       "    }\n",
       "\n",
       "    .dataframe tbody tr th {\n",
       "        vertical-align: top;\n",
       "    }\n",
       "\n",
       "    .dataframe thead th {\n",
       "        text-align: right;\n",
       "    }\n",
       "</style>\n",
       "<table border=\"1\" class=\"dataframe\">\n",
       "  <thead>\n",
       "    <tr style=\"text-align: right;\">\n",
       "      <th></th>\n",
       "      <th>Sample</th>\n",
       "    </tr>\n",
       "  </thead>\n",
       "  <tbody>\n",
       "    <tr>\n",
       "      <th>mean</th>\n",
       "      <td>11.942762</td>\n",
       "    </tr>\n",
       "    <tr>\n",
       "      <th>std</th>\n",
       "      <td>0.562694</td>\n",
       "    </tr>\n",
       "  </tbody>\n",
       "</table>\n",
       "</div>"
      ],
      "text/plain": [
       "         Sample\n",
       "mean  11.942762\n",
       "std    0.562694"
      ]
     },
     "execution_count": 11,
     "metadata": {},
     "output_type": "execute_result"
    }
   ],
   "source": [
    "s2 = [df['Mean'].mean(), df['Mean'].std()]\n",
    "df2 = pd.DataFrame({'Sample': s2}, index = params)\n",
    "df2"
   ]
  },
  {
   "cell_type": "markdown",
   "metadata": {},
   "source": [
    "The theoratical value of the standard deviation of the sample mean is equal to the original standard deviation divided by the square root of sample size. \n",
    "std = 5\n",
    "sample size = 100\n",
    "theoratical value = 5/sqrt(100) = 5/10 = 0.5\n",
    "The value will be 0.5. Thus, we can conclude that this is credible."
   ]
  },
  {
   "cell_type": "markdown",
   "metadata": {},
   "source": [
    "### Part 3 Bernoulli random variables (5 pts)"
   ]
  },
  {
   "cell_type": "markdown",
   "metadata": {},
   "source": [
    "**a) A Bernoulli random variable can only take two possible values: 0 or 1. Suppose $X$ is a Bernoulli random variable and $P(X=1)=0.8$. What does $P(X=0)$ equal? (answer only).**"
   ]
  },
  {
   "cell_type": "markdown",
   "metadata": {},
   "source": [
    "0.2"
   ]
  },
  {
   "cell_type": "markdown",
   "metadata": {},
   "source": [
    "**b)The mean $\\mu$ of a discrete random variable $X$ with possible values $x_1, x_2, \\ldots$ is given by**\n",
    "\n",
    "$$\n",
    "\\mu = E(X) = x_1 P(X=x_1) + x_2 P(X=x_2) + \\ldots \n",
    "$$\n",
    "\n",
    "**where the sum ranges over all possible values $x_i$ for $X$. If $X$ is a Bernoulli random variable with $P(X=0)= 0.3$, find $E(X)$ by hand (i.e. not using Python). Show work.**\n"
   ]
  },
  {
   "cell_type": "markdown",
   "metadata": {},
   "source": [
    "Solution:\n",
    "1) 𝜇 = 𝑥1𝑃(𝑋=𝑥1) + 𝑥2𝑃(𝑋=𝑥2) = 0*P(X=0) + 1P(X=1)\n",
    "2) 𝜇 = P(X=1) = E(X) = 0.7\n",
    "0.7"
   ]
  },
  {
   "cell_type": "markdown",
   "metadata": {},
   "source": [
    "**c) The variance of a random variable with mean $\\mu$ is given by**\n",
    "\n",
    "$$\n",
    "Var(X) = E((X-\\mu)^2)\n",
    "$$\n",
    "\n",
    "**If $X$ is a Bernoulli random variable and $P(X=1)=0.6$, compute the variance by hand. (show work)**"
   ]
  },
  {
   "cell_type": "markdown",
   "metadata": {},
   "source": [
    "Solution:\n",
    "1) 1 - P(X=1) = P(X=0)\n",
    "2) 1 - 0.6 = P(X=0) = 0.4\n",
    "3) Var(X) = P(X=1) * P(X=0) = 0.6 * 0.4 = 0.24\n",
    "0.24"
   ]
  }
 ],
 "metadata": {
  "kernelspec": {
   "display_name": "Python 3",
   "language": "python",
   "name": "python3"
  },
  "language_info": {
   "codemirror_mode": {
    "name": "ipython",
    "version": 3
   },
   "file_extension": ".py",
   "mimetype": "text/x-python",
   "name": "python",
   "nbconvert_exporter": "python",
   "pygments_lexer": "ipython3",
   "version": "3.7.3"
  }
 },
 "nbformat": 4,
 "nbformat_minor": 2
}
