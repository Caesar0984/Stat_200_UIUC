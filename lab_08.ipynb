{
 "cells": [
  {
   "cell_type": "markdown",
   "metadata": {},
   "source": [
    "### STAT 207 Lab 8: Regression model comparison"
   ]
  },
  {
   "cell_type": "markdown",
   "metadata": {},
   "source": [
    "Due: Wednesday, October 30, 23:59:59"
   ]
  },
  {
   "cell_type": "markdown",
   "metadata": {},
   "source": [
    "### Jaewon Kim jaewonk3"
   ]
  },
  {
   "cell_type": "markdown",
   "metadata": {},
   "source": [
    "This lab consists of 3 main parts. You may add as many cells as you need in order to do the excercises. To add cells use the \"Insert\" tab from the menu bar above and select \"insert cell above\" or \"insert cell below\". \n",
    "\n",
    "Please use Markdown cells above or below your code cells to explain your results. Make sure graders know that you understand what your code is doing.\n",
    "\n",
    "Note: not every problem in this lab requires Python calculation. In some cases you can just work it out and type in your solution into a Markdown cell. \n",
    "\n",
    "**Hint: all of the problems build on the class notes, so the notes are the first place to go for related examples and discussion.**\n"
   ]
  },
  {
   "cell_type": "markdown",
   "metadata": {},
   "source": [
    "### Part 1: Explore the US melanoma data (8 pts)\n",
    "\n",
    "The lab_08 folder includes the data file, \"USmelanoma.csv\". It contains information on the following variables for 48 states and the District of Columbia:\n",
    "\n",
    "    mortality: number of white males died due to malignant melanoma 1950-1969 per one million inhabitants.\n",
    "\n",
    "    latitude: latitude of the geographic center of the state.\n",
    "\n",
    "    longitude: longitude of the geographic center of each state.\n",
    "\n",
    "    ocean: a binary variable indicating contiguity to an ocean at levels no or yes.\n",
    "\n",
    "**a) Read the data into a pandas data frame. Display the first 10 rows. (2 pts)**"
   ]
  },
  {
   "cell_type": "code",
   "execution_count": 1,
   "metadata": {},
   "outputs": [],
   "source": [
    "import pandas as pd\n",
    "import numpy as np\n",
    "import matplotlib.pyplot as plt\n",
    "import seaborn as sns"
   ]
  },
  {
   "cell_type": "code",
   "execution_count": 2,
   "metadata": {},
   "outputs": [
    {
     "data": {
      "text/html": [
       "<div>\n",
       "<style scoped>\n",
       "    .dataframe tbody tr th:only-of-type {\n",
       "        vertical-align: middle;\n",
       "    }\n",
       "\n",
       "    .dataframe tbody tr th {\n",
       "        vertical-align: top;\n",
       "    }\n",
       "\n",
       "    .dataframe thead th {\n",
       "        text-align: right;\n",
       "    }\n",
       "</style>\n",
       "<table border=\"1\" class=\"dataframe\">\n",
       "  <thead>\n",
       "    <tr style=\"text-align: right;\">\n",
       "      <th></th>\n",
       "      <th>state</th>\n",
       "      <th>mortality</th>\n",
       "      <th>latitude</th>\n",
       "      <th>longitude</th>\n",
       "      <th>ocean</th>\n",
       "    </tr>\n",
       "  </thead>\n",
       "  <tbody>\n",
       "    <tr>\n",
       "      <th>0</th>\n",
       "      <td>Alabama</td>\n",
       "      <td>219</td>\n",
       "      <td>33.0</td>\n",
       "      <td>87.0</td>\n",
       "      <td>yes</td>\n",
       "    </tr>\n",
       "    <tr>\n",
       "      <th>1</th>\n",
       "      <td>Arizona</td>\n",
       "      <td>160</td>\n",
       "      <td>34.5</td>\n",
       "      <td>112.0</td>\n",
       "      <td>no</td>\n",
       "    </tr>\n",
       "    <tr>\n",
       "      <th>2</th>\n",
       "      <td>Arkansas</td>\n",
       "      <td>170</td>\n",
       "      <td>35.0</td>\n",
       "      <td>92.5</td>\n",
       "      <td>no</td>\n",
       "    </tr>\n",
       "    <tr>\n",
       "      <th>3</th>\n",
       "      <td>California</td>\n",
       "      <td>182</td>\n",
       "      <td>37.5</td>\n",
       "      <td>119.5</td>\n",
       "      <td>yes</td>\n",
       "    </tr>\n",
       "    <tr>\n",
       "      <th>4</th>\n",
       "      <td>Colorado</td>\n",
       "      <td>149</td>\n",
       "      <td>39.0</td>\n",
       "      <td>105.5</td>\n",
       "      <td>no</td>\n",
       "    </tr>\n",
       "    <tr>\n",
       "      <th>5</th>\n",
       "      <td>Connecticut</td>\n",
       "      <td>159</td>\n",
       "      <td>41.8</td>\n",
       "      <td>72.8</td>\n",
       "      <td>yes</td>\n",
       "    </tr>\n",
       "    <tr>\n",
       "      <th>6</th>\n",
       "      <td>Delaware</td>\n",
       "      <td>200</td>\n",
       "      <td>39.0</td>\n",
       "      <td>75.5</td>\n",
       "      <td>yes</td>\n",
       "    </tr>\n",
       "    <tr>\n",
       "      <th>7</th>\n",
       "      <td>District of Columbia</td>\n",
       "      <td>177</td>\n",
       "      <td>39.0</td>\n",
       "      <td>77.0</td>\n",
       "      <td>no</td>\n",
       "    </tr>\n",
       "    <tr>\n",
       "      <th>8</th>\n",
       "      <td>Florida</td>\n",
       "      <td>197</td>\n",
       "      <td>28.0</td>\n",
       "      <td>82.0</td>\n",
       "      <td>yes</td>\n",
       "    </tr>\n",
       "    <tr>\n",
       "      <th>9</th>\n",
       "      <td>Georgia</td>\n",
       "      <td>214</td>\n",
       "      <td>33.0</td>\n",
       "      <td>83.5</td>\n",
       "      <td>yes</td>\n",
       "    </tr>\n",
       "  </tbody>\n",
       "</table>\n",
       "</div>"
      ],
      "text/plain": [
       "                  state  mortality  latitude  longitude ocean\n",
       "0               Alabama        219      33.0       87.0   yes\n",
       "1               Arizona        160      34.5      112.0    no\n",
       "2              Arkansas        170      35.0       92.5    no\n",
       "3            California        182      37.5      119.5   yes\n",
       "4              Colorado        149      39.0      105.5    no\n",
       "5           Connecticut        159      41.8       72.8   yes\n",
       "6              Delaware        200      39.0       75.5   yes\n",
       "7  District of Columbia        177      39.0       77.0    no\n",
       "8               Florida        197      28.0       82.0   yes\n",
       "9               Georgia        214      33.0       83.5   yes"
      ]
     },
     "execution_count": 2,
     "metadata": {},
     "output_type": "execute_result"
    }
   ],
   "source": [
    "df = pd.read_csv('USmelanoma.csv')\n",
    "df.iloc[:10]"
   ]
  },
  {
   "cell_type": "markdown",
   "metadata": {},
   "source": [
    "**b) Using the seaborn function \"pairplot\" or otherwise, plot all the possible pairs of scatterplots between the three variables 'mortality', 'latitude' and 'longitude'. Which pair of variables appears to have the strongest association between them and it is positive or negative? (2 pts)**"
   ]
  },
  {
   "cell_type": "code",
   "execution_count": 3,
   "metadata": {},
   "outputs": [
    {
     "data": {
      "text/plain": [
       "<seaborn.axisgrid.PairGrid at 0x299c4907d30>"
      ]
     },
     "execution_count": 3,
     "metadata": {},
     "output_type": "execute_result"
    },
    {
     "data": {
      "image/png": "[encoded data removed]",
      "text/plain": [
       "<Figure size 540x540 with 12 Axes>"
      ]
     },
     "metadata": {
      "needs_background": "light"
     },
     "output_type": "display_data"
    }
   ],
   "source": [
    "sns.pairplot(df)"
   ]
  },
  {
   "cell_type": "markdown",
   "metadata": {},
   "source": [
    "Between mortality and latitude, there is a strong negative association."
   ]
  },
  {
   "cell_type": "markdown",
   "metadata": {},
   "source": [
    "**c) Using the pandas function .corr() or otherwise, compute the sample correlation coefficients between all possible pairs of the three variables 'mortality', 'latitude' and 'longitude'. Based on these results, which pair of variables has the strongest linear association, and it is positive or negative? (2 pts)**"
   ]
  },
  {
   "cell_type": "code",
   "execution_count": 4,
   "metadata": {},
   "outputs": [
    {
     "data": {
      "text/html": [
       "<div>\n",
       "<style scoped>\n",
       "    .dataframe tbody tr th:only-of-type {\n",
       "        vertical-align: middle;\n",
       "    }\n",
       "\n",
       "    .dataframe tbody tr th {\n",
       "        vertical-align: top;\n",
       "    }\n",
       "\n",
       "    .dataframe thead th {\n",
       "        text-align: right;\n",
       "    }\n",
       "</style>\n",
       "<table border=\"1\" class=\"dataframe\">\n",
       "  <thead>\n",
       "    <tr style=\"text-align: right;\">\n",
       "      <th></th>\n",
       "      <th>mortality</th>\n",
       "      <th>latitude</th>\n",
       "      <th>longitude</th>\n",
       "    </tr>\n",
       "  </thead>\n",
       "  <tbody>\n",
       "    <tr>\n",
       "      <th>mortality</th>\n",
       "      <td>1.000000</td>\n",
       "      <td>-0.824518</td>\n",
       "      <td>-0.146188</td>\n",
       "    </tr>\n",
       "    <tr>\n",
       "      <th>latitude</th>\n",
       "      <td>-0.824518</td>\n",
       "      <td>1.000000</td>\n",
       "      <td>0.098974</td>\n",
       "    </tr>\n",
       "    <tr>\n",
       "      <th>longitude</th>\n",
       "      <td>-0.146188</td>\n",
       "      <td>0.098974</td>\n",
       "      <td>1.000000</td>\n",
       "    </tr>\n",
       "  </tbody>\n",
       "</table>\n",
       "</div>"
      ],
      "text/plain": [
       "           mortality  latitude  longitude\n",
       "mortality   1.000000 -0.824518  -0.146188\n",
       "latitude   -0.824518  1.000000   0.098974\n",
       "longitude  -0.146188  0.098974   1.000000"
      ]
     },
     "execution_count": 4,
     "metadata": {},
     "output_type": "execute_result"
    }
   ],
   "source": [
    "df.corr()"
   ]
  },
  {
   "cell_type": "markdown",
   "metadata": {},
   "source": [
    "Between mortality and latitude, there is a strong negative association."
   ]
  },
  {
   "cell_type": "markdown",
   "metadata": {},
   "source": [
    "**d) Make side by side box plots of the mortality rates for ocean contiguous states, and states that are not contiguous to an ocean. How does the distribution of mortality rates compare between the ocean states and non-ocean states? Describe briefly. (2 pts)**"
   ]
  },
  {
   "cell_type": "code",
   "execution_count": 5,
   "metadata": {},
   "outputs": [
    {
     "data": {
      "text/plain": [
       "Text(0, 0.5, 'Mortality')"
      ]
     },
     "execution_count": 5,
     "metadata": {},
     "output_type": "execute_result"
    },
    {
     "data": {
      "image/png": "[encoded data removed]",
      "text/plain": [
       "<Figure size 432x288 with 1 Axes>"
      ]
     },
     "metadata": {
      "needs_background": "light"
     },
     "output_type": "display_data"
    }
   ],
   "source": [
    "sns.boxplot(x = 'ocean', y = 'mortality', data = df)\n",
    "plt.xlabel(\"Ocean\")\n",
    "plt.ylabel(\"Mortality\")"
   ]
  },
  {
   "cell_type": "markdown",
   "metadata": {},
   "source": [
    "The ocean states have typically higher mortality."
   ]
  },
  {
   "cell_type": "markdown",
   "metadata": {},
   "source": [
    "### Part 2: Investigate a three variable model (10 pts)\n",
    "\n",
    "In this part we investigate the model:\n",
    "\n",
    "$$\n",
    "\\mbox{mortality} = b0 + b1 * \\mbox{latitude} + b2 * \\mbox{longitude} + b3 * \\mbox{ocean_indicator} + \\mbox{error}\n",
    "$$\n",
    "\n",
    "where $b0$, $b1$, $b2$ and $b3$ are unknown regression coefficients to be estimated, and $\\mbox{ocean_indicator}$ refers to a 0/1 variable inidcating whetehr or not a state is contiguous to an ocean.\n",
    "\n",
    "**a) Use python to fit the three variable regression variable given above using ordinary least squares, and store the results. Display a summary of the model fit that includes the coefficient estimates, their standard errors, R-squared for the model, and the F-test statistic for the model. (3 pts)**"
   ]
  },
  {
   "cell_type": "code",
   "execution_count": 6,
   "metadata": {},
   "outputs": [
    {
     "data": {
      "text/html": [
       "<table class=\"simpletable\">\n",
       "<caption>OLS Regression Results</caption>\n",
       "<tr>\n",
       "  <th>Dep. Variable:</th>        <td>mortality</td>    <th>  R-squared:         </th> <td>   0.772</td>\n",
       "</tr>\n",
       "<tr>\n",
       "  <th>Model:</th>                   <td>OLS</td>       <th>  Adj. R-squared:    </th> <td>   0.757</td>\n",
       "</tr>\n",
       "<tr>\n",
       "  <th>Method:</th>             <td>Least Squares</td>  <th>  F-statistic:       </th> <td>   50.83</td>\n",
       "</tr>\n",
       "<tr>\n",
       "  <th>Date:</th>             <td>Sun, 10 Nov 2019</td> <th>  Prob (F-statistic):</th> <td>1.70e-14</td>\n",
       "</tr>\n",
       "<tr>\n",
       "  <th>Time:</th>                 <td>14:40:15</td>     <th>  Log-Likelihood:    </th> <td> -204.75</td>\n",
       "</tr>\n",
       "<tr>\n",
       "  <th>No. Observations:</th>      <td>    49</td>      <th>  AIC:               </th> <td>   417.5</td>\n",
       "</tr>\n",
       "<tr>\n",
       "  <th>Df Residuals:</th>          <td>    45</td>      <th>  BIC:               </th> <td>   425.1</td>\n",
       "</tr>\n",
       "<tr>\n",
       "  <th>Df Model:</th>              <td>     3</td>      <th>                     </th>     <td> </td>   \n",
       "</tr>\n",
       "<tr>\n",
       "  <th>Covariance Type:</th>      <td>nonrobust</td>    <th>                     </th>     <td> </td>   \n",
       "</tr>\n",
       "</table>\n",
       "<table class=\"simpletable\">\n",
       "<tr>\n",
       "        <td></td>          <th>coef</th>     <th>std err</th>      <th>t</th>      <th>P>|t|</th>  <th>[0.025</th>    <th>0.975]</th>  \n",
       "</tr>\n",
       "<tr>\n",
       "  <th>Intercept</th>    <td>  349.2369</td> <td>   27.060</td> <td>   12.906</td> <td> 0.000</td> <td>  294.736</td> <td>  403.738</td>\n",
       "</tr>\n",
       "<tr>\n",
       "  <th>ocean[T.yes]</th> <td>   21.7976</td> <td>    5.226</td> <td>    4.171</td> <td> 0.000</td> <td>   11.271</td> <td>   32.324</td>\n",
       "</tr>\n",
       "<tr>\n",
       "  <th>latitude</th>     <td>   -5.4950</td> <td>    0.529</td> <td>  -10.390</td> <td> 0.000</td> <td>   -6.560</td> <td>   -4.430</td>\n",
       "</tr>\n",
       "<tr>\n",
       "  <th>longitude</th>    <td>    0.1219</td> <td>    0.173</td> <td>    0.704</td> <td> 0.485</td> <td>   -0.227</td> <td>    0.471</td>\n",
       "</tr>\n",
       "</table>\n",
       "<table class=\"simpletable\">\n",
       "<tr>\n",
       "  <th>Omnibus:</th>       <td> 2.010</td> <th>  Durbin-Watson:     </th> <td>   2.067</td>\n",
       "</tr>\n",
       "<tr>\n",
       "  <th>Prob(Omnibus):</th> <td> 0.366</td> <th>  Jarque-Bera (JB):  </th> <td>   1.485</td>\n",
       "</tr>\n",
       "<tr>\n",
       "  <th>Skew:</th>          <td> 0.425</td> <th>  Prob(JB):          </th> <td>   0.476</td>\n",
       "</tr>\n",
       "<tr>\n",
       "  <th>Kurtosis:</th>      <td> 3.058</td> <th>  Cond. No.          </th> <td>1.16e+03</td>\n",
       "</tr>\n",
       "</table><br/><br/>Warnings:<br/>[1] Standard Errors assume that the covariance matrix of the errors is correctly specified.<br/>[2] The condition number is large, 1.16e+03. This might indicate that there are<br/>strong multicollinearity or other numerical problems."
      ],
      "text/plain": [
       "<class 'statsmodels.iolib.summary.Summary'>\n",
       "\"\"\"\n",
       "                            OLS Regression Results                            \n",
       "==============================================================================\n",
       "Dep. Variable:              mortality   R-squared:                       0.772\n",
       "Model:                            OLS   Adj. R-squared:                  0.757\n",
       "Method:                 Least Squares   F-statistic:                     50.83\n",
       "Date:                Sun, 10 Nov 2019   Prob (F-statistic):           1.70e-14\n",
       "Time:                        14:40:15   Log-Likelihood:                -204.75\n",
       "No. Observations:                  49   AIC:                             417.5\n",
       "Df Residuals:                      45   BIC:                             425.1\n",
       "Df Model:                           3                                         \n",
       "Covariance Type:            nonrobust                                         \n",
       "================================================================================\n",
       "                   coef    std err          t      P>|t|      [0.025      0.975]\n",
       "--------------------------------------------------------------------------------\n",
       "Intercept      349.2369     27.060     12.906      0.000     294.736     403.738\n",
       "ocean[T.yes]    21.7976      5.226      4.171      0.000      11.271      32.324\n",
       "latitude        -5.4950      0.529    -10.390      0.000      -6.560      -4.430\n",
       "longitude        0.1219      0.173      0.704      0.485      -0.227       0.471\n",
       "==============================================================================\n",
       "Omnibus:                        2.010   Durbin-Watson:                   2.067\n",
       "Prob(Omnibus):                  0.366   Jarque-Bera (JB):                1.485\n",
       "Skew:                           0.425   Prob(JB):                        0.476\n",
       "Kurtosis:                       3.058   Cond. No.                     1.16e+03\n",
       "==============================================================================\n",
       "\n",
       "Warnings:\n",
       "[1] Standard Errors assume that the covariance matrix of the errors is correctly specified.\n",
       "[2] The condition number is large, 1.16e+03. This might indicate that there are\n",
       "strong multicollinearity or other numerical problems.\n",
       "\"\"\""
      ]
     },
     "execution_count": 6,
     "metadata": {},
     "output_type": "execute_result"
    }
   ],
   "source": [
    "import statsmodels.api as sm\n",
    "import statsmodels.formula.api as smf\n",
    "result3 = smf.ols('mortality ~ latitude + longitude + ocean', data = df).fit()\n",
    "result3.summary()"
   ]
  },
  {
   "cell_type": "markdown",
   "metadata": {},
   "source": [
    "**b) Write down the null hypothesis, $H_0$, for the F-statistic reported in the summary of the results. Be sure to express $H_0$ in terms of the model coefficients. Is $H_0$ rejected at the level $\\alpha=0.01$? (2 pts)**"
   ]
  },
  {
   "cell_type": "markdown",
   "metadata": {},
   "source": [
    "$H_0$:  b1 = b2 = b3 = 0"
   ]
  },
  {
   "cell_type": "markdown",
   "metadata": {},
   "source": [
    "$H_0$ will be rejected at the level $\\alpha = 0.01$."
   ]
  },
  {
   "cell_type": "markdown",
   "metadata": {},
   "source": [
    "**c) For each of the three exogenous variables, state whether or not the coefficient is statistically signficantly different from zero, at level $\\alpha=0.05$, based on your results. Explain how you know. (2 pts)**"
   ]
  },
  {
   "cell_type": "markdown",
   "metadata": {},
   "source": [
    "For ocean and latitude, the coefficient is statistically significant. However, longitude is not significantly different than 0."
   ]
  },
  {
   "cell_type": "markdown",
   "metadata": {},
   "source": [
    "**d) Using python, plot the residuals from this model versus the fitted values. Comment on whether the plot appears random or has any anomalies of concern. (3 pts)**"
   ]
  },
  {
   "cell_type": "code",
   "execution_count": 7,
   "metadata": {},
   "outputs": [
    {
     "data": {
      "image/png": "[encoded data removed]",
      "text/plain": [
       "<Figure size 432x288 with 1 Axes>"
      ]
     },
     "metadata": {
      "needs_background": "light"
     },
     "output_type": "display_data"
    }
   ],
   "source": [
    "sns.regplot(x = result3.fittedvalues, y = result3.resid, ci = None)\n",
    "plt.title('Residuals versus Fitted Values')\n",
    "plt.show()"
   ]
  },
  {
   "cell_type": "markdown",
   "metadata": {},
   "source": [
    "The plot appears to be random. "
   ]
  },
  {
   "cell_type": "markdown",
   "metadata": {},
   "source": [
    "### Part 3: Compare a two variable model (7 pts)"
   ]
  },
  {
   "cell_type": "markdown",
   "metadata": {},
   "source": [
    "**a) Use python to fit the two-variable model that omits the exogenous variable, 'longitude' from the three variable model given above using ordinary least squares regression. Display a summary of the model fit that includes the coefficient estimates, their standard errors, R-squared for the model, and the F-test statistic for the model. (3 pts)**"
   ]
  },
  {
   "cell_type": "code",
   "execution_count": 8,
   "metadata": {},
   "outputs": [
    {
     "data": {
      "text/html": [
       "<table class=\"simpletable\">\n",
       "<caption>OLS Regression Results</caption>\n",
       "<tr>\n",
       "  <th>Dep. Variable:</th>        <td>mortality</td>    <th>  R-squared:         </th> <td>   0.770</td>\n",
       "</tr>\n",
       "<tr>\n",
       "  <th>Model:</th>                   <td>OLS</td>       <th>  Adj. R-squared:    </th> <td>   0.760</td>\n",
       "</tr>\n",
       "<tr>\n",
       "  <th>Method:</th>             <td>Least Squares</td>  <th>  F-statistic:       </th> <td>   76.83</td>\n",
       "</tr>\n",
       "<tr>\n",
       "  <th>Date:</th>             <td>Sun, 10 Nov 2019</td> <th>  Prob (F-statistic):</th> <td>2.17e-15</td>\n",
       "</tr>\n",
       "<tr>\n",
       "  <th>Time:</th>                 <td>14:40:15</td>     <th>  Log-Likelihood:    </th> <td> -205.02</td>\n",
       "</tr>\n",
       "<tr>\n",
       "  <th>No. Observations:</th>      <td>    49</td>      <th>  AIC:               </th> <td>   416.0</td>\n",
       "</tr>\n",
       "<tr>\n",
       "  <th>Df Residuals:</th>          <td>    46</td>      <th>  BIC:               </th> <td>   421.7</td>\n",
       "</tr>\n",
       "<tr>\n",
       "  <th>Df Model:</th>              <td>     2</td>      <th>                     </th>     <td> </td>   \n",
       "</tr>\n",
       "<tr>\n",
       "  <th>Covariance Type:</th>      <td>nonrobust</td>    <th>                     </th>     <td> </td>   \n",
       "</tr>\n",
       "</table>\n",
       "<table class=\"simpletable\">\n",
       "<tr>\n",
       "        <td></td>          <th>coef</th>     <th>std err</th>      <th>t</th>      <th>P>|t|</th>  <th>[0.025</th>    <th>0.975]</th>  \n",
       "</tr>\n",
       "<tr>\n",
       "  <th>Intercept</th>    <td>  360.6905</td> <td>   21.498</td> <td>   16.778</td> <td> 0.000</td> <td>  317.417</td> <td>  403.964</td>\n",
       "</tr>\n",
       "<tr>\n",
       "  <th>ocean[T.yes]</th> <td>   20.4304</td> <td>    4.825</td> <td>    4.234</td> <td> 0.000</td> <td>   10.718</td> <td>   30.143</td>\n",
       "</tr>\n",
       "<tr>\n",
       "  <th>latitude</th>     <td>   -5.4888</td> <td>    0.526</td> <td>  -10.437</td> <td> 0.000</td> <td>   -6.547</td> <td>   -4.430</td>\n",
       "</tr>\n",
       "</table>\n",
       "<table class=\"simpletable\">\n",
       "<tr>\n",
       "  <th>Omnibus:</th>       <td> 2.146</td> <th>  Durbin-Watson:     </th> <td>   2.049</td>\n",
       "</tr>\n",
       "<tr>\n",
       "  <th>Prob(Omnibus):</th> <td> 0.342</td> <th>  Jarque-Bera (JB):  </th> <td>   1.576</td>\n",
       "</tr>\n",
       "<tr>\n",
       "  <th>Skew:</th>          <td> 0.437</td> <th>  Prob(JB):          </th> <td>   0.455</td>\n",
       "</tr>\n",
       "<tr>\n",
       "  <th>Kurtosis:</th>      <td> 3.084</td> <th>  Cond. No.          </th> <td>    367.</td>\n",
       "</tr>\n",
       "</table><br/><br/>Warnings:<br/>[1] Standard Errors assume that the covariance matrix of the errors is correctly specified."
      ],
      "text/plain": [
       "<class 'statsmodels.iolib.summary.Summary'>\n",
       "\"\"\"\n",
       "                            OLS Regression Results                            \n",
       "==============================================================================\n",
       "Dep. Variable:              mortality   R-squared:                       0.770\n",
       "Model:                            OLS   Adj. R-squared:                  0.760\n",
       "Method:                 Least Squares   F-statistic:                     76.83\n",
       "Date:                Sun, 10 Nov 2019   Prob (F-statistic):           2.17e-15\n",
       "Time:                        14:40:15   Log-Likelihood:                -205.02\n",
       "No. Observations:                  49   AIC:                             416.0\n",
       "Df Residuals:                      46   BIC:                             421.7\n",
       "Df Model:                           2                                         \n",
       "Covariance Type:            nonrobust                                         \n",
       "================================================================================\n",
       "                   coef    std err          t      P>|t|      [0.025      0.975]\n",
       "--------------------------------------------------------------------------------\n",
       "Intercept      360.6905     21.498     16.778      0.000     317.417     403.964\n",
       "ocean[T.yes]    20.4304      4.825      4.234      0.000      10.718      30.143\n",
       "latitude        -5.4888      0.526    -10.437      0.000      -6.547      -4.430\n",
       "==============================================================================\n",
       "Omnibus:                        2.146   Durbin-Watson:                   2.049\n",
       "Prob(Omnibus):                  0.342   Jarque-Bera (JB):                1.576\n",
       "Skew:                           0.437   Prob(JB):                        0.455\n",
       "Kurtosis:                       3.084   Cond. No.                         367.\n",
       "==============================================================================\n",
       "\n",
       "Warnings:\n",
       "[1] Standard Errors assume that the covariance matrix of the errors is correctly specified.\n",
       "\"\"\""
      ]
     },
     "execution_count": 8,
     "metadata": {},
     "output_type": "execute_result"
    }
   ],
   "source": [
    "result2 = smf.ols('mortality ~ ocean + latitude', data = df).fit()\n",
    "result2.summary()"
   ]
  },
  {
   "cell_type": "markdown",
   "metadata": {},
   "source": [
    "**b) Use the statsmodel.stats.anova function 'anova_lm' to compute an F test for testing the null hypothesis that the two variable model is correct, versus the alternative that the three variable model is required. Is the test significant at level $\\alpha=0.10$? (3 pts)**\n",
    "\n",
    "Note: Often this function generates a warning related to NaN's in the output. This warning can be ignored, as the NaN's are valid in the output table."
   ]
  },
  {
   "cell_type": "code",
   "execution_count": 9,
   "metadata": {},
   "outputs": [
    {
     "name": "stderr",
     "output_type": "stream",
     "text": [
      "C:\\Users\\jaewo\\Anaconda3\\lib\\site-packages\\scipy\\stats\\_distn_infrastructure.py:877: RuntimeWarning: invalid value encountered in greater\n",
      "  return (self.a < x) & (x < self.b)\n",
      "C:\\Users\\jaewo\\Anaconda3\\lib\\site-packages\\scipy\\stats\\_distn_infrastructure.py:877: RuntimeWarning: invalid value encountered in less\n",
      "  return (self.a < x) & (x < self.b)\n",
      "C:\\Users\\jaewo\\Anaconda3\\lib\\site-packages\\scipy\\stats\\_distn_infrastructure.py:1831: RuntimeWarning: invalid value encountered in less_equal\n",
      "  cond2 = cond0 & (x <= self.a)\n"
     ]
    },
    {
     "data": {
      "text/html": [
       "<div>\n",
       "<style scoped>\n",
       "    .dataframe tbody tr th:only-of-type {\n",
       "        vertical-align: middle;\n",
       "    }\n",
       "\n",
       "    .dataframe tbody tr th {\n",
       "        vertical-align: top;\n",
       "    }\n",
       "\n",
       "    .dataframe thead th {\n",
       "        text-align: right;\n",
       "    }\n",
       "</style>\n",
       "<table border=\"1\" class=\"dataframe\">\n",
       "  <thead>\n",
       "    <tr style=\"text-align: right;\">\n",
       "      <th></th>\n",
       "      <th>df_resid</th>\n",
       "      <th>ssr</th>\n",
       "      <th>df_diff</th>\n",
       "      <th>ss_diff</th>\n",
       "      <th>F</th>\n",
       "      <th>Pr(&gt;F)</th>\n",
       "    </tr>\n",
       "  </thead>\n",
       "  <tbody>\n",
       "    <tr>\n",
       "      <th>0</th>\n",
       "      <td>46.0</td>\n",
       "      <td>12357.001633</td>\n",
       "      <td>0.0</td>\n",
       "      <td>NaN</td>\n",
       "      <td>NaN</td>\n",
       "      <td>NaN</td>\n",
       "    </tr>\n",
       "    <tr>\n",
       "      <th>1</th>\n",
       "      <td>45.0</td>\n",
       "      <td>12222.501292</td>\n",
       "      <td>1.0</td>\n",
       "      <td>134.500341</td>\n",
       "      <td>0.495194</td>\n",
       "      <td>0.485245</td>\n",
       "    </tr>\n",
       "  </tbody>\n",
       "</table>\n",
       "</div>"
      ],
      "text/plain": [
       "   df_resid           ssr  df_diff     ss_diff         F    Pr(>F)\n",
       "0      46.0  12357.001633      0.0         NaN       NaN       NaN\n",
       "1      45.0  12222.501292      1.0  134.500341  0.495194  0.485245"
      ]
     },
     "execution_count": 9,
     "metadata": {},
     "output_type": "execute_result"
    }
   ],
   "source": [
    "from statsmodels.stats.anova import anova_lm\n",
    "from scipy.stats import f\n",
    "aov = anova_lm(result2, result3)\n",
    "aov"
   ]
  },
  {
   "cell_type": "markdown",
   "metadata": {},
   "source": [
    "The two variable model and the three model do not have a significant difference since P value is bigger than 0.10."
   ]
  },
  {
   "cell_type": "markdown",
   "metadata": {},
   "source": [
    "**c) Show numerically that the F test statistic computed in Part 3b) is equal to the square of the t statistic for the coefficient of 'longitude' in the three variable model. (1 pt)**"
   ]
  },
  {
   "cell_type": "code",
   "execution_count": 10,
   "metadata": {},
   "outputs": [
    {
     "name": "stdout",
     "output_type": "stream",
     "text": [
      "F-test statistics: 0.4951944941097335\n",
      "Square of t statistics: [[0.49519449]]\n"
     ]
    }
   ],
   "source": [
    "F = aov.iloc[1]['F']\n",
    "t = result3.t_test('longitude')\n",
    "print('F-test statistics:', F)\n",
    "print('Square of t statistics:', np.square(t))"
   ]
  },
  {
   "cell_type": "markdown",
   "metadata": {},
   "source": [
    "Based on the result above, the F test statistic and the square of the t statistic for coefficient of longitude in the three variable model are numerically equal."
   ]
  }
 ],
 "metadata": {
  "kernelspec": {
   "display_name": "Python 3",
   "language": "python",
   "name": "python3"
  },
  "language_info": {
   "codemirror_mode": {
    "name": "ipython",
    "version": 3
   },
   "file_extension": ".py",
   "mimetype": "text/x-python",
   "name": "python",
   "nbconvert_exporter": "python",
   "pygments_lexer": "ipython3",
   "version": "3.7.3"
  }
 },
 "nbformat": 4,
 "nbformat_minor": 2
}
