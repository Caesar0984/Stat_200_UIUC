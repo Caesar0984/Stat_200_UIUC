{
 "cells": [
  {
   "cell_type": "markdown",
   "metadata": {},
   "source": [
    "### STAT 207 Lab 9: Odds Ratios and Logistic Regression"
   ]
  },
  {
   "cell_type": "markdown",
   "metadata": {},
   "source": [
    "Due: Wednesday, November 6, 23:59:59"
   ]
  },
  {
   "cell_type": "markdown",
   "metadata": {},
   "source": [
    "### Jaewon Kim    jaewonk3"
   ]
  },
  {
   "cell_type": "markdown",
   "metadata": {},
   "source": [
    "This lab consists of 3 main parts. You may add as many cells as you need in order to do the exercises. To add cells use the \"Insert\" tab from the menu bar above and select \"insert cell above\" or \"insert cell below\". \n",
    "\n",
    "Please use Markdown cells above or below your code cells to explain your results. Make sure graders know that you understand what your code is doing.\n",
    "\n",
    "**Hint: all of the problems build on the class notes, so the notes are the first place to go for related examples and discussion.**\n"
   ]
  },
  {
   "cell_type": "markdown",
   "metadata": {},
   "source": [
    "### Part 1: Association in a 2 x 2 table  (8 pts)\n",
    "\n"
   ]
  },
  {
   "cell_type": "markdown",
   "metadata": {},
   "source": [
    "Males between the ages of 11 and 30 underwent arthroscopic surgery for knee injuries, either twisted knee or direct blow injuries. Their recovery from surgery was classified as excellent (E) or poor to good (GFP). The data are tabulated in the data frame created below."
   ]
  },
  {
   "cell_type": "code",
   "execution_count": 1,
   "metadata": {},
   "outputs": [],
   "source": [
    "import pandas as pd"
   ]
  },
  {
   "cell_type": "code",
   "execution_count": 2,
   "metadata": {},
   "outputs": [
    {
     "data": {
      "text/html": [
       "<div>\n",
       "<style scoped>\n",
       "    .dataframe tbody tr th:only-of-type {\n",
       "        vertical-align: middle;\n",
       "    }\n",
       "\n",
       "    .dataframe tbody tr th {\n",
       "        vertical-align: top;\n",
       "    }\n",
       "\n",
       "    .dataframe thead th {\n",
       "        text-align: right;\n",
       "    }\n",
       "</style>\n",
       "<table border=\"1\" class=\"dataframe\">\n",
       "  <thead>\n",
       "    <tr style=\"text-align: right;\">\n",
       "      <th></th>\n",
       "      <th>E</th>\n",
       "      <th>GFP</th>\n",
       "    </tr>\n",
       "  </thead>\n",
       "  <tbody>\n",
       "    <tr>\n",
       "      <th>Twisted</th>\n",
       "      <td>147</td>\n",
       "      <td>105</td>\n",
       "    </tr>\n",
       "    <tr>\n",
       "      <th>Direct</th>\n",
       "      <td>49</td>\n",
       "      <td>14</td>\n",
       "    </tr>\n",
       "  </tbody>\n",
       "</table>\n",
       "</div>"
      ],
      "text/plain": [
       "           E  GFP\n",
       "Twisted  147  105\n",
       "Direct    49   14"
      ]
     },
     "execution_count": 2,
     "metadata": {},
     "output_type": "execute_result"
    }
   ],
   "source": [
    "# load data from knee surgury study into 2x2 table\n",
    "tabl = pd.DataFrame({'E':[147, 49], 'GFP':[77+28, 14]}, index=['Twisted', 'Direct'])\n",
    "tabl"
   ]
  },
  {
   "cell_type": "markdown",
   "metadata": {},
   "source": [
    "**a) Calculate the odds of an excellent recovery versus fair to good recovery for the two types of injury in this study and display the results. Label them in the output so we know which is which. (2pts)**"
   ]
  },
  {
   "cell_type": "code",
   "execution_count": 3,
   "metadata": {
    "scrolled": true
   },
   "outputs": [
    {
     "name": "stdout",
     "output_type": "stream",
     "text": [
      "Odds of twisted-excellent vs fair to good: 1.4\n",
      "Odds of direct-excellent vs fair to good: 3.5\n"
     ]
    }
   ],
   "source": [
    "odds_t = tabl.iloc[0,0]/tabl.iloc[0,1]\n",
    "odds_d = tabl.iloc[1,0]/tabl.iloc[1,1]\n",
    "print(\"Odds of twisted-excellent vs fair to good:\", round(odds_t, 2))\n",
    "print(\"Odds of direct-excellent vs fair to good:\", round(odds_d, 2))"
   ]
  },
  {
   "cell_type": "markdown",
   "metadata": {},
   "source": [
    "**b) Calculate the proportion of excellent recovery for the two types of injury. Label them in the output so we know which is which. (2pts)**"
   ]
  },
  {
   "cell_type": "code",
   "execution_count": 4,
   "metadata": {},
   "outputs": [
    {
     "name": "stdout",
     "output_type": "stream",
     "text": [
      "Proportion of a twisted type: 0.58\n",
      "Proportion of a direct type: 0.78\n"
     ]
    }
   ],
   "source": [
    "prop_et = tabl.iloc[0,0]/(tabl.iloc[0,0] + tabl.iloc[0,1])\n",
    "prop_ed = tabl.iloc[1,0]/(tabl.iloc[1,0] + tabl.iloc[1,1])\n",
    "print(\"Proportion of a twisted type:\", round(prop_et, 2))\n",
    "print(\"Proportion of a direct type:\", round(prop_ed, 2))"
   ]
  },
  {
   "cell_type": "markdown",
   "metadata": {},
   "source": [
    "**c) Calculate the odds ratio of excellent recovery for twisted knees versus direct blow injuries. Which type of injury appears to have a better recovery outcome? (1pt)**"
   ]
  },
  {
   "cell_type": "code",
   "execution_count": 5,
   "metadata": {},
   "outputs": [
    {
     "name": "stdout",
     "output_type": "stream",
     "text": [
      "Odds ratio: 0.4\n"
     ]
    }
   ],
   "source": [
    "odds_et = prop_et/(1 - prop_et)\n",
    "odds_ed = prop_ed/(1 - prop_ed)\n",
    "odds_ratio = odds_et/odds_ed\n",
    "print(\"Odds ratio:\", round(odds_ratio, 2))"
   ]
  },
  {
   "cell_type": "markdown",
   "metadata": {},
   "source": [
    "Direct blow type appears to have a better recovery outcome."
   ]
  },
  {
   "cell_type": "markdown",
   "metadata": {},
   "source": [
    "**d) Calculate a 90% confidence interval for the log-odds-ratio. Does the confidence interval include zero? (3pts)**"
   ]
  },
  {
   "cell_type": "code",
   "execution_count": 6,
   "metadata": {},
   "outputs": [
    {
     "name": "stdout",
     "output_type": "stream",
     "text": [
      "Log-odds-ratio:[-1.457253220797893, -0.37532824295041733]\n"
     ]
    }
   ],
   "source": [
    "import numpy as np\n",
    "from scipy.stats import norm\n",
    "lgor = np.log(odds_ratio)\n",
    "lgor_se = np.sqrt(1/147 + 1/49 + 1/105 + 1/14)\n",
    "zq = norm.ppf((1 + 0.9)/2)\n",
    "lc = lgor - zq*lgor_se\n",
    "hc = lgor + zq*lgor_se\n",
    "print(\"Log-odds-ratio:\"+str([lc, hc]))"
   ]
  },
  {
   "cell_type": "markdown",
   "metadata": {},
   "source": [
    "No it does not include 0 between the interval."
   ]
  },
  {
   "cell_type": "markdown",
   "metadata": {},
   "source": [
    "### Part 2: Lead exposure versus gender in the lead study. (8 pts)\n",
    "\n",
    "**This part uses the lead exposure data previously used in labs 06 and 07. You should have the data in your files as \"lead.csv\".**"
   ]
  },
  {
   "cell_type": "markdown",
   "metadata": {},
   "source": [
    "**a) Read the data from 'lead.csv' into a pandas data frame. Create a cross-classification table for the variables 'sex' and 'group'. Save and display the resulting table. (3 pts)**"
   ]
  },
  {
   "cell_type": "code",
   "execution_count": 7,
   "metadata": {},
   "outputs": [
    {
     "data": {
      "text/html": [
       "<div>\n",
       "<style scoped>\n",
       "    .dataframe tbody tr th:only-of-type {\n",
       "        vertical-align: middle;\n",
       "    }\n",
       "\n",
       "    .dataframe tbody tr th {\n",
       "        vertical-align: top;\n",
       "    }\n",
       "\n",
       "    .dataframe thead th {\n",
       "        text-align: right;\n",
       "    }\n",
       "</style>\n",
       "<table border=\"1\" class=\"dataframe\">\n",
       "  <thead>\n",
       "    <tr style=\"text-align: right;\">\n",
       "      <th>group</th>\n",
       "      <th>lead &lt; 40</th>\n",
       "      <th>lead &gt;= 40</th>\n",
       "    </tr>\n",
       "    <tr>\n",
       "      <th>sex</th>\n",
       "      <th></th>\n",
       "      <th></th>\n",
       "    </tr>\n",
       "  </thead>\n",
       "  <tbody>\n",
       "    <tr>\n",
       "      <th>F</th>\n",
       "      <td>32</td>\n",
       "      <td>16</td>\n",
       "    </tr>\n",
       "    <tr>\n",
       "      <th>M</th>\n",
       "      <td>46</td>\n",
       "      <td>30</td>\n",
       "    </tr>\n",
       "  </tbody>\n",
       "</table>\n",
       "</div>"
      ],
      "text/plain": [
       "group  lead < 40  lead >= 40\n",
       "sex                         \n",
       "F             32          16\n",
       "M             46          30"
      ]
     },
     "execution_count": 7,
     "metadata": {},
     "output_type": "execute_result"
    }
   ],
   "source": [
    "df = pd.read_csv('lead.csv')\n",
    "table = pd.crosstab(index = df['sex'], columns = df['group'])\n",
    "table"
   ]
  },
  {
   "cell_type": "markdown",
   "metadata": {},
   "source": [
    "**b) Calculate the log-odds-ratio for low exposure group for Female versus Male for the 2 x 2 table. Also calculate the standard error of the log-odds-ratio. Display and label both of them. (2 pts)**"
   ]
  },
  {
   "cell_type": "code",
   "execution_count": 8,
   "metadata": {},
   "outputs": [
    {
     "name": "stdout",
     "output_type": "stream",
     "text": [
      "log-odds-ratio: 0.2657031657330057\n",
      "standard error: 0.38577514664389145\n"
     ]
    }
   ],
   "source": [
    "orf = table.iloc[0,0]/table.iloc[1,0]\n",
    "orm = table.iloc[0,1]/table.iloc[1,1]\n",
    "odds_ratio = orf/orm\n",
    "lgor = np.log(odds_ratio)\n",
    "lgor_se = np.sqrt(1/table.iloc[0,0] + 1/table.iloc[0,1] + 1/table.iloc[1,0] + 1/table.iloc[1,1])\n",
    "print(\"log-odds-ratio:\", lgor)\n",
    "print(\"standard error:\", lgor_se)"
   ]
  },
  {
   "cell_type": "markdown",
   "metadata": {},
   "source": [
    "**c) Calculate the z value and p-value for testing the null hypothesis that the population log-odds-ratio equals zero. (Recall how to compute a two-sided p-value for a z test statistic). (2 pts)**"
   ]
  },
  {
   "cell_type": "code",
   "execution_count": 9,
   "metadata": {},
   "outputs": [
    {
     "name": "stdout",
     "output_type": "stream",
     "text": [
      "z value: 0.6887513828833456\n",
      "p value: 0.490979734986559\n"
     ]
    }
   ],
   "source": [
    "z = lgor/lgor_se\n",
    "p = 2*norm.cdf(-abs(z))\n",
    "print(\"z value:\", z)\n",
    "print(\"p value:\", p)"
   ]
  },
  {
   "cell_type": "markdown",
   "metadata": {},
   "source": [
    "**d) Based on your results in c), do you reject or accept the null hypothesis of no association ($H_0$ log-odds-ratio = 0, i.e. odds-ratio=1) at a significance level of $\\alpha=0.05$? (1 pt)**"
   ]
  },
  {
   "cell_type": "markdown",
   "metadata": {},
   "source": [
    "At a significance level of $\\alpha=0.05$, we accept the null hypothesis."
   ]
  },
  {
   "cell_type": "markdown",
   "metadata": {},
   "source": [
    "### Part 3: More analysis of the lead exposure data. (9 pts)"
   ]
  },
  {
   "cell_type": "markdown",
   "metadata": {},
   "source": [
    "**a) Using the lead data from Part 2, create a new 0/1 indicator variable in the data frame to encode the low and high exposure groups. Use 1 for the low exposure group and 0 for the high exposure group. Display the first 5 rows of the modified data with the new column that you created. (See logistic regression notes for an example of the pandas 'map' function, which might be helpful in this context). (3 pts)**"
   ]
  },
  {
   "cell_type": "code",
   "execution_count": 10,
   "metadata": {},
   "outputs": [
    {
     "data": {
      "text/html": [
       "<div>\n",
       "<style scoped>\n",
       "    .dataframe tbody tr th:only-of-type {\n",
       "        vertical-align: middle;\n",
       "    }\n",
       "\n",
       "    .dataframe tbody tr th {\n",
       "        vertical-align: top;\n",
       "    }\n",
       "\n",
       "    .dataframe thead th {\n",
       "        text-align: right;\n",
       "    }\n",
       "</style>\n",
       "<table border=\"1\" class=\"dataframe\">\n",
       "  <thead>\n",
       "    <tr style=\"text-align: right;\">\n",
       "      <th></th>\n",
       "      <th>id</th>\n",
       "      <th>age</th>\n",
       "      <th>sex</th>\n",
       "      <th>status</th>\n",
       "      <th>verbiq</th>\n",
       "      <th>perfiq</th>\n",
       "      <th>fulliq</th>\n",
       "      <th>iqtype</th>\n",
       "      <th>totyrs</th>\n",
       "      <th>hyperact</th>\n",
       "      <th>tapping</th>\n",
       "      <th>group</th>\n",
       "      <th>g</th>\n",
       "    </tr>\n",
       "  </thead>\n",
       "  <tbody>\n",
       "    <tr>\n",
       "      <th>0</th>\n",
       "      <td>101</td>\n",
       "      <td>11.083333</td>\n",
       "      <td>M</td>\n",
       "      <td>77</td>\n",
       "      <td>61</td>\n",
       "      <td>85</td>\n",
       "      <td>70</td>\n",
       "      <td>WISC</td>\n",
       "      <td>11</td>\n",
       "      <td>NaN</td>\n",
       "      <td>72.0</td>\n",
       "      <td>lead &lt; 40</td>\n",
       "      <td>1</td>\n",
       "    </tr>\n",
       "    <tr>\n",
       "      <th>1</th>\n",
       "      <td>102</td>\n",
       "      <td>9.416667</td>\n",
       "      <td>M</td>\n",
       "      <td>77</td>\n",
       "      <td>82</td>\n",
       "      <td>90</td>\n",
       "      <td>85</td>\n",
       "      <td>WISC</td>\n",
       "      <td>6</td>\n",
       "      <td>0.0</td>\n",
       "      <td>61.0</td>\n",
       "      <td>lead &lt; 40</td>\n",
       "      <td>1</td>\n",
       "    </tr>\n",
       "    <tr>\n",
       "      <th>2</th>\n",
       "      <td>103</td>\n",
       "      <td>11.083333</td>\n",
       "      <td>M</td>\n",
       "      <td>30</td>\n",
       "      <td>70</td>\n",
       "      <td>107</td>\n",
       "      <td>86</td>\n",
       "      <td>WISC</td>\n",
       "      <td>5</td>\n",
       "      <td>NaN</td>\n",
       "      <td>49.0</td>\n",
       "      <td>lead &lt; 40</td>\n",
       "      <td>1</td>\n",
       "    </tr>\n",
       "    <tr>\n",
       "      <th>3</th>\n",
       "      <td>104</td>\n",
       "      <td>6.916667</td>\n",
       "      <td>M</td>\n",
       "      <td>77</td>\n",
       "      <td>72</td>\n",
       "      <td>85</td>\n",
       "      <td>76</td>\n",
       "      <td>WISC</td>\n",
       "      <td>5</td>\n",
       "      <td>2.0</td>\n",
       "      <td>48.0</td>\n",
       "      <td>lead &lt; 40</td>\n",
       "      <td>1</td>\n",
       "    </tr>\n",
       "    <tr>\n",
       "      <th>4</th>\n",
       "      <td>105</td>\n",
       "      <td>11.250000</td>\n",
       "      <td>M</td>\n",
       "      <td>62</td>\n",
       "      <td>72</td>\n",
       "      <td>100</td>\n",
       "      <td>84</td>\n",
       "      <td>WISC</td>\n",
       "      <td>11</td>\n",
       "      <td>NaN</td>\n",
       "      <td>51.0</td>\n",
       "      <td>lead &lt; 40</td>\n",
       "      <td>1</td>\n",
       "    </tr>\n",
       "  </tbody>\n",
       "</table>\n",
       "</div>"
      ],
      "text/plain": [
       "    id        age sex  status  verbiq  perfiq  fulliq iqtype  totyrs  \\\n",
       "0  101  11.083333   M      77      61      85      70   WISC      11   \n",
       "1  102   9.416667   M      77      82      90      85   WISC       6   \n",
       "2  103  11.083333   M      30      70     107      86   WISC       5   \n",
       "3  104   6.916667   M      77      72      85      76   WISC       5   \n",
       "4  105  11.250000   M      62      72     100      84   WISC      11   \n",
       "\n",
       "   hyperact  tapping      group  g  \n",
       "0       NaN     72.0  lead < 40  1  \n",
       "1       0.0     61.0  lead < 40  1  \n",
       "2       NaN     49.0  lead < 40  1  \n",
       "3       2.0     48.0  lead < 40  1  \n",
       "4       NaN     51.0  lead < 40  1  "
      ]
     },
     "execution_count": 10,
     "metadata": {},
     "output_type": "execute_result"
    }
   ],
   "source": [
    "df['g'] = df['group'].map({'lead < 40':1, 'lead >= 40':0})\n",
    "df.head()"
   ]
  },
  {
   "cell_type": "markdown",
   "metadata": {},
   "source": [
    "**b) Use the statmodels.formula.api function logit to model the log-odds of being in the low exposure group as a function of 'age' and 'sex'. Display the model summary. Note that the response variable needs to be coded as 0 or 1 depending on the group category. (3 pts)**"
   ]
  },
  {
   "cell_type": "code",
   "execution_count": 11,
   "metadata": {},
   "outputs": [],
   "source": [
    "import statsmodels.api as sm\n",
    "import statsmodels.formula.api as smf"
   ]
  },
  {
   "cell_type": "code",
   "execution_count": 12,
   "metadata": {},
   "outputs": [
    {
     "name": "stdout",
     "output_type": "stream",
     "text": [
      "Optimization terminated successfully.\n",
      "         Current function value: 0.648142\n",
      "         Iterations 5\n"
     ]
    },
    {
     "data": {
      "text/html": [
       "<table class=\"simpletable\">\n",
       "<caption>Logit Regression Results</caption>\n",
       "<tr>\n",
       "  <th>Dep. Variable:</th>         <td>g</td>        <th>  No. Observations:  </th>  <td>   124</td> \n",
       "</tr>\n",
       "<tr>\n",
       "  <th>Model:</th>               <td>Logit</td>      <th>  Df Residuals:      </th>  <td>   121</td> \n",
       "</tr>\n",
       "<tr>\n",
       "  <th>Method:</th>               <td>MLE</td>       <th>  Df Model:          </th>  <td>     2</td> \n",
       "</tr>\n",
       "<tr>\n",
       "  <th>Date:</th>          <td>Sun, 10 Nov 2019</td> <th>  Pseudo R-squ.:     </th>  <td>0.01718</td>\n",
       "</tr>\n",
       "<tr>\n",
       "  <th>Time:</th>              <td>23:26:36</td>     <th>  Log-Likelihood:    </th> <td> -80.370</td>\n",
       "</tr>\n",
       "<tr>\n",
       "  <th>converged:</th>           <td>True</td>       <th>  LL-Null:           </th> <td> -81.774</td>\n",
       "</tr>\n",
       "<tr>\n",
       "  <th> </th>                      <td> </td>        <th>  LLR p-value:       </th>  <td>0.2455</td> \n",
       "</tr>\n",
       "</table>\n",
       "<table class=\"simpletable\">\n",
       "<tr>\n",
       "      <td></td>         <th>coef</th>     <th>std err</th>      <th>z</th>      <th>P>|z|</th>  <th>[0.025</th>    <th>0.975]</th>  \n",
       "</tr>\n",
       "<tr>\n",
       "  <th>Intercept</th> <td>   -0.1071</td> <td>    0.606</td> <td>   -0.177</td> <td> 0.860</td> <td>   -1.295</td> <td>    1.081</td>\n",
       "</tr>\n",
       "<tr>\n",
       "  <th>sex[T.M]</th>  <td>   -0.1587</td> <td>    0.395</td> <td>   -0.401</td> <td> 0.688</td> <td>   -0.934</td> <td>    0.616</td>\n",
       "</tr>\n",
       "<tr>\n",
       "  <th>age</th>       <td>    0.0835</td> <td>    0.055</td> <td>    1.507</td> <td> 0.132</td> <td>   -0.025</td> <td>    0.192</td>\n",
       "</tr>\n",
       "</table>"
      ],
      "text/plain": [
       "<class 'statsmodels.iolib.summary.Summary'>\n",
       "\"\"\"\n",
       "                           Logit Regression Results                           \n",
       "==============================================================================\n",
       "Dep. Variable:                      g   No. Observations:                  124\n",
       "Model:                          Logit   Df Residuals:                      121\n",
       "Method:                           MLE   Df Model:                            2\n",
       "Date:                Sun, 10 Nov 2019   Pseudo R-squ.:                 0.01718\n",
       "Time:                        23:26:36   Log-Likelihood:                -80.370\n",
       "converged:                       True   LL-Null:                       -81.774\n",
       "                                        LLR p-value:                    0.2455\n",
       "==============================================================================\n",
       "                 coef    std err          z      P>|z|      [0.025      0.975]\n",
       "------------------------------------------------------------------------------\n",
       "Intercept     -0.1071      0.606     -0.177      0.860      -1.295       1.081\n",
       "sex[T.M]      -0.1587      0.395     -0.401      0.688      -0.934       0.616\n",
       "age            0.0835      0.055      1.507      0.132      -0.025       0.192\n",
       "==============================================================================\n",
       "\"\"\""
      ]
     },
     "execution_count": 12,
     "metadata": {},
     "output_type": "execute_result"
    }
   ],
   "source": [
    "mod = smf.logit(formula = 'g ~ age + sex', data = df).fit()\n",
    "mod.summary()"
   ]
  },
  {
   "cell_type": "markdown",
   "metadata": {},
   "source": [
    "**c) In the summary, the logistic regression coefficient for 'age' is the estimated log-odds-ratio for low lead exposure versus high lead exposure associated with a 1 year increase in age, for individuals of the same sex. Based on the results, compute a 95% confidence interval for the odds ratio (not log-odds-raio) corresponding to this coefficient. (2 pts)**"
   ]
  },
  {
   "cell_type": "code",
   "execution_count": 13,
   "metadata": {},
   "outputs": [
    {
     "name": "stdout",
     "output_type": "stream",
     "text": [
      "95% confidence interval:[0.9753099120283326, 1.2116705169649005]\n"
     ]
    }
   ],
   "source": [
    "lc = np.exp(-0.025)\n",
    "hc = np.exp(0.192)\n",
    "print(\"95% confidence interval:\" +str([lc, hc]))"
   ]
  },
  {
   "cell_type": "markdown",
   "metadata": {},
   "source": [
    "**d) Do either of the two exogenous variables (sex, age) have a significant association with the exposure group, i.e., are either of their coefficients signficantly different from zero at level $\\alpha=0.05$? Explain briefly. (1 pt)**"
   ]
  },
  {
   "cell_type": "markdown",
   "metadata": {},
   "source": [
    "At level of $\\alpha=0.05$, none of the coefficients are significantly different from 0."
   ]
  }
 ],
 "metadata": {
  "kernelspec": {
   "display_name": "Python 3",
   "language": "python",
   "name": "python3"
  },
  "language_info": {
   "codemirror_mode": {
    "name": "ipython",
    "version": 3
   },
   "file_extension": ".py",
   "mimetype": "text/x-python",
   "name": "python",
   "nbconvert_exporter": "python",
   "pygments_lexer": "ipython3",
   "version": "3.7.3"
  }
 },
 "nbformat": 4,
 "nbformat_minor": 2
}
