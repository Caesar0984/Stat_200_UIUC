{
 "cells": [
  {
   "cell_type": "markdown",
   "metadata": {},
   "source": [
    "## STAT 207 Lab 10: Regularized Logistic Regression"
   ]
  },
  {
   "cell_type": "markdown",
   "metadata": {},
   "source": [
    "Due: Wednesday, December 4, 23:59:59"
   ]
  },
  {
   "cell_type": "markdown",
   "metadata": {},
   "source": [
    "### Jaewon Kim jaewonk3"
   ]
  },
  {
   "cell_type": "markdown",
   "metadata": {},
   "source": [
    "This lab consists of 4 main parts. You may add as many cells as you need in order to do the exercises. To add cells use the \"Insert\" tab from the menu bar above and select \"insert cell above\" or \"insert cell below\". \n",
    "\n",
    "Please use Markdown cells above or below your code cells to explain your results. Make sure graders know that you understand what your code is doing.\n",
    "\n",
    "**Hint: all of the problems build on the class notes, so the notes are the first place to go for related examples and discussion.**\n"
   ]
  },
  {
   "cell_type": "markdown",
   "metadata": {},
   "source": [
    "The data for this assignment are in two files: \"clinical_data.csv\" and \"gene_expr.csv\". Both files refer to subjects in a study on using gene expression data to predict recurrence of breast cancer among patients treated with tamoxifan. \n",
    "\n",
    "+ \"clinical_data.csv\" contains information about patient status including whether or not they had a recurrence of breast cancer: Status='R' means they had a recurrence. Status='RF' means they were recurrence free.\n",
    "\n",
    "+ \"gene_expr.csv\" contains gene expression measurements for a sample of 50 genes.\n",
    "\n",
    "The rows of the two files correspond to the same patients, e.g., the 10th row in each file refers to the same patient, in one file, her clinical status, and in the other file, her gene expression information."
   ]
  },
  {
   "cell_type": "markdown",
   "metadata": {},
   "source": [
    "### Part 1: Data Preparation (5 pts)\n",
    "\n",
    "**a) (1 pt) Read the gene expression data into a feature matrix (data frame) X. Display the dimensions of X and its first few rows, including column names.**"
   ]
  },
  {
   "cell_type": "code",
   "execution_count": 1,
   "metadata": {},
   "outputs": [],
   "source": [
    "import pandas as pd\n",
    "import numpy as np\n",
    "import seaborn as sns\n",
    "import matplotlib.pyplot as plt"
   ]
  },
  {
   "cell_type": "code",
   "execution_count": 2,
   "metadata": {},
   "outputs": [
    {
     "data": {
      "text/html": [
       "<div>\n",
       "<style scoped>\n",
       "    .dataframe tbody tr th:only-of-type {\n",
       "        vertical-align: middle;\n",
       "    }\n",
       "\n",
       "    .dataframe tbody tr th {\n",
       "        vertical-align: top;\n",
       "    }\n",
       "\n",
       "    .dataframe thead th {\n",
       "        text-align: right;\n",
       "    }\n",
       "</style>\n",
       "<table border=\"1\" class=\"dataframe\">\n",
       "  <thead>\n",
       "    <tr style=\"text-align: right;\">\n",
       "      <th></th>\n",
       "      <th>X159</th>\n",
       "      <th>X960</th>\n",
       "      <th>X980</th>\n",
       "      <th>X986</th>\n",
       "      <th>X1023</th>\n",
       "      <th>X1028</th>\n",
       "      <th>X1064</th>\n",
       "      <th>X1092</th>\n",
       "      <th>X1103</th>\n",
       "      <th>X1109</th>\n",
       "      <th>...</th>\n",
       "      <th>X1563</th>\n",
       "      <th>X1574</th>\n",
       "      <th>X1595</th>\n",
       "      <th>X1597</th>\n",
       "      <th>X1609</th>\n",
       "      <th>X1616</th>\n",
       "      <th>X1637</th>\n",
       "      <th>X1656</th>\n",
       "      <th>X1657</th>\n",
       "      <th>X1683</th>\n",
       "    </tr>\n",
       "  </thead>\n",
       "  <tbody>\n",
       "    <tr>\n",
       "      <th>0</th>\n",
       "      <td>0.739512</td>\n",
       "      <td>1.971036</td>\n",
       "      <td>-1.660842</td>\n",
       "      <td>2.777183</td>\n",
       "      <td>3.299062</td>\n",
       "      <td>-1.954834</td>\n",
       "      <td>2.784970</td>\n",
       "      <td>0.411848</td>\n",
       "      <td>3.974931</td>\n",
       "      <td>-0.979751</td>\n",
       "      <td>...</td>\n",
       "      <td>3.221117</td>\n",
       "      <td>-1.735267</td>\n",
       "      <td>-2.036134</td>\n",
       "      <td>3.114202</td>\n",
       "      <td>-1.567229</td>\n",
       "      <td>-2.100264</td>\n",
       "      <td>-2.067843</td>\n",
       "      <td>2.116261</td>\n",
       "      <td>-2.057195</td>\n",
       "      <td>-0.868534</td>\n",
       "    </tr>\n",
       "    <tr>\n",
       "      <th>1</th>\n",
       "      <td>2.037903</td>\n",
       "      <td>2.197854</td>\n",
       "      <td>-1.263034</td>\n",
       "      <td>4.082346</td>\n",
       "      <td>5.426886</td>\n",
       "      <td>-1.732520</td>\n",
       "      <td>3.085890</td>\n",
       "      <td>0.688056</td>\n",
       "      <td>4.503384</td>\n",
       "      <td>-1.185032</td>\n",
       "      <td>...</td>\n",
       "      <td>2.927229</td>\n",
       "      <td>-1.646363</td>\n",
       "      <td>0.127756</td>\n",
       "      <td>2.772590</td>\n",
       "      <td>-1.451107</td>\n",
       "      <td>0.267480</td>\n",
       "      <td>-1.526069</td>\n",
       "      <td>2.643856</td>\n",
       "      <td>-1.625604</td>\n",
       "      <td>-1.415037</td>\n",
       "    </tr>\n",
       "    <tr>\n",
       "      <th>2</th>\n",
       "      <td>2.218338</td>\n",
       "      <td>3.471559</td>\n",
       "      <td>-1.789433</td>\n",
       "      <td>2.829994</td>\n",
       "      <td>4.746466</td>\n",
       "      <td>-2.222392</td>\n",
       "      <td>2.977280</td>\n",
       "      <td>0.944858</td>\n",
       "      <td>4.021099</td>\n",
       "      <td>-1.825502</td>\n",
       "      <td>...</td>\n",
       "      <td>3.565945</td>\n",
       "      <td>-2.296393</td>\n",
       "      <td>-2.347923</td>\n",
       "      <td>3.577213</td>\n",
       "      <td>-2.175087</td>\n",
       "      <td>-2.084889</td>\n",
       "      <td>-2.106915</td>\n",
       "      <td>2.738768</td>\n",
       "      <td>-1.387816</td>\n",
       "      <td>-0.780555</td>\n",
       "    </tr>\n",
       "    <tr>\n",
       "      <th>3</th>\n",
       "      <td>0.972344</td>\n",
       "      <td>2.638734</td>\n",
       "      <td>-2.010999</td>\n",
       "      <td>3.913935</td>\n",
       "      <td>4.744161</td>\n",
       "      <td>-2.496426</td>\n",
       "      <td>3.139577</td>\n",
       "      <td>0.155651</td>\n",
       "      <td>4.632121</td>\n",
       "      <td>-1.671513</td>\n",
       "      <td>...</td>\n",
       "      <td>3.815160</td>\n",
       "      <td>-1.706846</td>\n",
       "      <td>-2.216318</td>\n",
       "      <td>3.168707</td>\n",
       "      <td>-1.844349</td>\n",
       "      <td>-2.010999</td>\n",
       "      <td>-1.996352</td>\n",
       "      <td>2.797407</td>\n",
       "      <td>-1.743066</td>\n",
       "      <td>-1.010999</td>\n",
       "    </tr>\n",
       "    <tr>\n",
       "      <th>4</th>\n",
       "      <td>2.412235</td>\n",
       "      <td>4.033491</td>\n",
       "      <td>-1.536501</td>\n",
       "      <td>4.239650</td>\n",
       "      <td>4.304348</td>\n",
       "      <td>-1.991067</td>\n",
       "      <td>3.700095</td>\n",
       "      <td>0.878536</td>\n",
       "      <td>4.295705</td>\n",
       "      <td>-2.141092</td>\n",
       "      <td>...</td>\n",
       "      <td>4.264107</td>\n",
       "      <td>-2.424026</td>\n",
       "      <td>-2.448274</td>\n",
       "      <td>3.717911</td>\n",
       "      <td>-2.286523</td>\n",
       "      <td>-2.045515</td>\n",
       "      <td>-1.776328</td>\n",
       "      <td>2.813104</td>\n",
       "      <td>-2.353637</td>\n",
       "      <td>-1.687061</td>\n",
       "    </tr>\n",
       "    <tr>\n",
       "      <th>5</th>\n",
       "      <td>1.244203</td>\n",
       "      <td>3.485278</td>\n",
       "      <td>-1.838879</td>\n",
       "      <td>3.354405</td>\n",
       "      <td>3.596351</td>\n",
       "      <td>-2.372703</td>\n",
       "      <td>2.537772</td>\n",
       "      <td>-0.042187</td>\n",
       "      <td>4.409049</td>\n",
       "      <td>-1.824082</td>\n",
       "      <td>...</td>\n",
       "      <td>3.870400</td>\n",
       "      <td>-2.081240</td>\n",
       "      <td>-2.229338</td>\n",
       "      <td>3.370172</td>\n",
       "      <td>-2.063752</td>\n",
       "      <td>-1.995848</td>\n",
       "      <td>-1.946939</td>\n",
       "      <td>2.648671</td>\n",
       "      <td>-1.697325</td>\n",
       "      <td>-1.107875</td>\n",
       "    </tr>\n",
       "    <tr>\n",
       "      <th>6</th>\n",
       "      <td>1.022242</td>\n",
       "      <td>2.312934</td>\n",
       "      <td>-1.597241</td>\n",
       "      <td>2.838456</td>\n",
       "      <td>4.425506</td>\n",
       "      <td>-1.882643</td>\n",
       "      <td>2.239754</td>\n",
       "      <td>0.777947</td>\n",
       "      <td>4.401796</td>\n",
       "      <td>-1.049753</td>\n",
       "      <td>...</td>\n",
       "      <td>2.605197</td>\n",
       "      <td>-2.145677</td>\n",
       "      <td>-2.219678</td>\n",
       "      <td>3.536966</td>\n",
       "      <td>-1.975752</td>\n",
       "      <td>-1.975752</td>\n",
       "      <td>-2.008174</td>\n",
       "      <td>2.417328</td>\n",
       "      <td>-2.024662</td>\n",
       "      <td>-1.456378</td>\n",
       "    </tr>\n",
       "    <tr>\n",
       "      <th>7</th>\n",
       "      <td>1.589521</td>\n",
       "      <td>2.506791</td>\n",
       "      <td>-1.659925</td>\n",
       "      <td>4.276949</td>\n",
       "      <td>4.283059</td>\n",
       "      <td>-1.911463</td>\n",
       "      <td>2.003420</td>\n",
       "      <td>1.284934</td>\n",
       "      <td>4.651143</td>\n",
       "      <td>-2.074962</td>\n",
       "      <td>...</td>\n",
       "      <td>2.540925</td>\n",
       "      <td>-2.496426</td>\n",
       "      <td>-2.548893</td>\n",
       "      <td>4.814187</td>\n",
       "      <td>-2.174498</td>\n",
       "      <td>-2.174498</td>\n",
       "      <td>-2.195256</td>\n",
       "      <td>2.246966</td>\n",
       "      <td>-2.548893</td>\n",
       "      <td>-1.259387</td>\n",
       "    </tr>\n",
       "    <tr>\n",
       "      <th>8</th>\n",
       "      <td>1.047177</td>\n",
       "      <td>2.971751</td>\n",
       "      <td>-1.541659</td>\n",
       "      <td>3.551610</td>\n",
       "      <td>4.324723</td>\n",
       "      <td>-1.866498</td>\n",
       "      <td>3.437098</td>\n",
       "      <td>0.301806</td>\n",
       "      <td>5.121727</td>\n",
       "      <td>-1.408392</td>\n",
       "      <td>...</td>\n",
       "      <td>3.552632</td>\n",
       "      <td>-2.138303</td>\n",
       "      <td>-2.138303</td>\n",
       "      <td>2.833941</td>\n",
       "      <td>-1.941266</td>\n",
       "      <td>-1.988060</td>\n",
       "      <td>-1.895942</td>\n",
       "      <td>2.615933</td>\n",
       "      <td>-2.120816</td>\n",
       "      <td>-1.576992</td>\n",
       "    </tr>\n",
       "    <tr>\n",
       "      <th>9</th>\n",
       "      <td>1.101824</td>\n",
       "      <td>2.743575</td>\n",
       "      <td>-1.366782</td>\n",
       "      <td>3.725140</td>\n",
       "      <td>4.569959</td>\n",
       "      <td>-1.527247</td>\n",
       "      <td>3.469656</td>\n",
       "      <td>0.828234</td>\n",
       "      <td>4.091210</td>\n",
       "      <td>-1.723939</td>\n",
       "      <td>...</td>\n",
       "      <td>2.476285</td>\n",
       "      <td>-1.660514</td>\n",
       "      <td>-1.790281</td>\n",
       "      <td>2.845405</td>\n",
       "      <td>-1.555816</td>\n",
       "      <td>-1.740241</td>\n",
       "      <td>-1.790281</td>\n",
       "      <td>1.692111</td>\n",
       "      <td>-1.790281</td>\n",
       "      <td>-1.280809</td>\n",
       "    </tr>\n",
       "  </tbody>\n",
       "</table>\n",
       "<p>10 rows × 50 columns</p>\n",
       "</div>"
      ],
      "text/plain": [
       "       X159      X960      X980      X986     X1023     X1028     X1064  \\\n",
       "0  0.739512  1.971036 -1.660842  2.777183  3.299062 -1.954834  2.784970   \n",
       "1  2.037903  2.197854 -1.263034  4.082346  5.426886 -1.732520  3.085890   \n",
       "2  2.218338  3.471559 -1.789433  2.829994  4.746466 -2.222392  2.977280   \n",
       "3  0.972344  2.638734 -2.010999  3.913935  4.744161 -2.496426  3.139577   \n",
       "4  2.412235  4.033491 -1.536501  4.239650  4.304348 -1.991067  3.700095   \n",
       "5  1.244203  3.485278 -1.838879  3.354405  3.596351 -2.372703  2.537772   \n",
       "6  1.022242  2.312934 -1.597241  2.838456  4.425506 -1.882643  2.239754   \n",
       "7  1.589521  2.506791 -1.659925  4.276949  4.283059 -1.911463  2.003420   \n",
       "8  1.047177  2.971751 -1.541659  3.551610  4.324723 -1.866498  3.437098   \n",
       "9  1.101824  2.743575 -1.366782  3.725140  4.569959 -1.527247  3.469656   \n",
       "\n",
       "      X1092     X1103     X1109  ...     X1563     X1574     X1595     X1597  \\\n",
       "0  0.411848  3.974931 -0.979751  ...  3.221117 -1.735267 -2.036134  3.114202   \n",
       "1  0.688056  4.503384 -1.185032  ...  2.927229 -1.646363  0.127756  2.772590   \n",
       "2  0.944858  4.021099 -1.825502  ...  3.565945 -2.296393 -2.347923  3.577213   \n",
       "3  0.155651  4.632121 -1.671513  ...  3.815160 -1.706846 -2.216318  3.168707   \n",
       "4  0.878536  4.295705 -2.141092  ...  4.264107 -2.424026 -2.448274  3.717911   \n",
       "5 -0.042187  4.409049 -1.824082  ...  3.870400 -2.081240 -2.229338  3.370172   \n",
       "6  0.777947  4.401796 -1.049753  ...  2.605197 -2.145677 -2.219678  3.536966   \n",
       "7  1.284934  4.651143 -2.074962  ...  2.540925 -2.496426 -2.548893  4.814187   \n",
       "8  0.301806  5.121727 -1.408392  ...  3.552632 -2.138303 -2.138303  2.833941   \n",
       "9  0.828234  4.091210 -1.723939  ...  2.476285 -1.660514 -1.790281  2.845405   \n",
       "\n",
       "      X1609     X1616     X1637     X1656     X1657     X1683  \n",
       "0 -1.567229 -2.100264 -2.067843  2.116261 -2.057195 -0.868534  \n",
       "1 -1.451107  0.267480 -1.526069  2.643856 -1.625604 -1.415037  \n",
       "2 -2.175087 -2.084889 -2.106915  2.738768 -1.387816 -0.780555  \n",
       "3 -1.844349 -2.010999 -1.996352  2.797407 -1.743066 -1.010999  \n",
       "4 -2.286523 -2.045515 -1.776328  2.813104 -2.353637 -1.687061  \n",
       "5 -2.063752 -1.995848 -1.946939  2.648671 -1.697325 -1.107875  \n",
       "6 -1.975752 -1.975752 -2.008174  2.417328 -2.024662 -1.456378  \n",
       "7 -2.174498 -2.174498 -2.195256  2.246966 -2.548893 -1.259387  \n",
       "8 -1.941266 -1.988060 -1.895942  2.615933 -2.120816 -1.576992  \n",
       "9 -1.555816 -1.740241 -1.790281  1.692111 -1.790281 -1.280809  \n",
       "\n",
       "[10 rows x 50 columns]"
      ]
     },
     "execution_count": 2,
     "metadata": {},
     "output_type": "execute_result"
    }
   ],
   "source": [
    "X = pd.read_csv('gene_expr.csv')\n",
    "X.head(10)"
   ]
  },
  {
   "cell_type": "markdown",
   "metadata": {},
   "source": [
    "**b) (2 pts) Read the clinical data into a data frame. Create a target array y with values: y=1 if the patient's Status was 'RF', and y=0 if the patient's Status was 'R'. Display dimensions and the first few elements of y.**"
   ]
  },
  {
   "cell_type": "code",
   "execution_count": 3,
   "metadata": {},
   "outputs": [],
   "source": [
    "Y = pd.read_csv('clinical_data.csv')"
   ]
  },
  {
   "cell_type": "code",
   "execution_count": 4,
   "metadata": {},
   "outputs": [
    {
     "data": {
      "text/plain": [
       "0    1\n",
       "1    1\n",
       "2    1\n",
       "3    1\n",
       "4    1\n",
       "5    1\n",
       "6    1\n",
       "7    1\n",
       "8    1\n",
       "9    1\n",
       "Name: Status, dtype: int64"
      ]
     },
     "execution_count": 4,
     "metadata": {},
     "output_type": "execute_result"
    }
   ],
   "source": [
    "y = Y['Status'].map({'RF':1, 'R':0})\n",
    "y.head(10)"
   ]
  },
  {
   "cell_type": "markdown",
   "metadata": {},
   "source": [
    "**c) (2 pts) Check that X and y have the same index labels (row labels) using the command:**\n",
    "\n",
    "    display(y.index, X.index)\n",
    "    \n",
    "**If the index values don't match, set the index of one of them equal to the index of the other and check again. If they match, you're good to go.**"
   ]
  },
  {
   "cell_type": "code",
   "execution_count": 5,
   "metadata": {},
   "outputs": [
    {
     "data": {
      "text/plain": [
       "RangeIndex(start=0, stop=155, step=1)"
      ]
     },
     "metadata": {},
     "output_type": "display_data"
    },
    {
     "data": {
      "text/plain": [
       "RangeIndex(start=0, stop=155, step=1)"
      ]
     },
     "metadata": {},
     "output_type": "display_data"
    }
   ],
   "source": [
    "display(y.index, X.index)"
   ]
  },
  {
   "cell_type": "markdown",
   "metadata": {},
   "source": [
    "### Part 2: Data Summary and Visualization (7 pts)"
   ]
  },
  {
   "cell_type": "markdown",
   "metadata": {},
   "source": [
    "**a) (3 pts) Use python commands to calculate the number of patients who had a recurrence versus the number recurrence free. Display the value counts and also show a bar plot. Hint: for this part you might find it simpler to work with the 'Status' colmn in the clinical data frame instead of y.**"
   ]
  },
  {
   "cell_type": "code",
   "execution_count": 6,
   "metadata": {},
   "outputs": [
    {
     "name": "stdout",
     "output_type": "stream",
     "text": [
      "Recurrence Free\n",
      "103\n",
      "Recurrence\n",
      "52\n"
     ]
    }
   ],
   "source": [
    "rf = y[y == 1]\n",
    "r = y[y == 0]\n",
    "a = rf.count()\n",
    "b = r.count()\n",
    "print(\"Recurrence Free\")\n",
    "print(a)\n",
    "print(\"Recurrence\")\n",
    "print(b)"
   ]
  },
  {
   "cell_type": "code",
   "execution_count": 7,
   "metadata": {},
   "outputs": [
    {
     "data": {
      "image/png": "[encoded data removed]",
      "text/plain": [
       "<Figure size 432x288 with 1 Axes>"
      ]
     },
     "metadata": {
      "needs_background": "light"
     },
     "output_type": "display_data"
    }
   ],
   "source": [
    "sns.countplot(y)\n",
    "plt.title('Gene expression recurrence free')\n",
    "plt.show()"
   ]
  },
  {
   "cell_type": "markdown",
   "metadata": {},
   "source": [
    "**b) (4 pts) Create a heat map comparing the mean gene expression levels for the 50 genes between the two groups y=0 and y=1. For an example see the notes, \"14_Cross_Validation\".**"
   ]
  },
  {
   "cell_type": "code",
   "execution_count": 8,
   "metadata": {},
   "outputs": [
    {
     "data": {
      "text/plain": [
       "(2, 50)"
      ]
     },
     "metadata": {},
     "output_type": "display_data"
    },
    {
     "data": {
      "text/plain": [
       "array([[ 1.56798571,  0.1962681 ,  2.98462212,  1.02195254,  1.68082058,\n",
       "        -0.80957861, -0.02140004,  1.87519558,  1.32825255,  2.44217944,\n",
       "         2.10191224,  1.50983549,  0.0430508 ,  0.24617898, -0.07404643,\n",
       "        -0.06154795,  0.51447155, -0.12786741,  2.53145087,  1.1115375 ,\n",
       "         0.03052709,  1.14482828,  0.62111883, -0.07720047,  1.84976067,\n",
       "         4.56382857,  0.93425828,  0.55001195,  0.31350123,  1.47539763,\n",
       "        -0.11736987,  0.97545099, -0.54165141,  0.55684188,  1.95112203,\n",
       "         1.70536502,  4.42449347,  0.90768573,  1.62606193,  1.50891769,\n",
       "         1.09433134,  1.42203575,  1.48487912,  1.96863215,  0.28497724,\n",
       "         1.5407355 ,  0.13207107,  0.47295854,  0.06481589,  1.98687141],\n",
       "       [ 0.94208999, -0.70835985,  4.42800939,  0.22314398,  0.58646673,\n",
       "        -0.19781425, -0.96051737,  2.99457657,  0.25382152,  3.82345586,\n",
       "         0.88689281,  0.73372491, -0.65861886, -1.07816229, -1.09895235,\n",
       "        -0.72283374, -0.13209789, -0.93095301,  1.3810149 ,  0.4764966 ,\n",
       "        -0.79175634,  0.54137618,  0.09103016,  0.45069086,  3.18711077,\n",
       "         6.67236613, -1.1369582 , -0.6654954 , -0.53811873, -0.13530606,\n",
       "        -0.69483313,  2.15076225,  0.05726005,  1.1942894 ,  2.77252031,\n",
       "         0.11947878,  6.29450071,  1.62782838,  0.46716418,  2.86652803,\n",
       "         0.14591784,  2.86106363,  2.92479748,  1.28263944,  1.15849194,\n",
       "         2.93092842,  0.78291476, -0.26225531,  0.84866765,  3.08592003]])"
      ]
     },
     "metadata": {},
     "output_type": "display_data"
    }
   ],
   "source": [
    "mean_matrix = np.array((X[Y.Status == 'RF'].mean(), X[Y.Status == 'R'].mean()))\n",
    "display(mean_matrix.shape, mean_matrix)"
   ]
  },
  {
   "cell_type": "code",
   "execution_count": 9,
   "metadata": {},
   "outputs": [
    {
     "data": {
      "image/png": "[encoded data removed]",
      "text/plain": [
       "<Figure size 432x288 with 2 Axes>"
      ]
     },
     "metadata": {
      "needs_background": "light"
     },
     "output_type": "display_data"
    }
   ],
   "source": [
    "sns.heatmap(mean_matrix, annot = False, linewidths = 0,\n",
    "           square = False, cmap = 'Blues_r');\n",
    "plt.ylabel('Recurrence free');\n",
    "plt.xlabel('Gene');\n",
    "all_sample_title = 'Gene expression level'\n",
    "plt.title(all_sample_title, size = 12);\n",
    "plt.show()"
   ]
  },
  {
   "cell_type": "markdown",
   "metadata": {},
   "source": [
    "### Part 3: Preliminary Logistic Regression Analysis (8 pts)"
   ]
  },
  {
   "cell_type": "markdown",
   "metadata": {},
   "source": [
    "**a) (5 pts) As illustrated in the notes, the sklearn.linear_model function LogisticRegression can fit several kinds of regularized logistic regrsion models. Using the data you formatted in Part 1, fit an L1 regularized logistic regression model using your feature matrix and target array. In order to achieve convergence, it might be necessary to increase the maximum number of interations allowed to at least 1000, and use an inverse penalty C less than 1. You might have to experiment to find a combination that converges. (see the notes, and online documentation available by Googling 'sklearn logistic regression' for details.**"
   ]
  },
  {
   "cell_type": "code",
   "execution_count": 10,
   "metadata": {},
   "outputs": [],
   "source": [
    "from sklearn.linear_model import LogisticRegression"
   ]
  },
  {
   "cell_type": "code",
   "execution_count": 11,
   "metadata": {},
   "outputs": [
    {
     "data": {
      "text/plain": [
       "LogisticRegression(C=0.5, class_weight=None, dual=False, fit_intercept=True,\n",
       "          intercept_scaling=1, max_iter=1000, multi_class='warn',\n",
       "          n_jobs=None, penalty='l1', random_state=None, solver='liblinear',\n",
       "          tol=0.0001, verbose=0, warm_start=False)"
      ]
     },
     "execution_count": 11,
     "metadata": {},
     "output_type": "execute_result"
    }
   ],
   "source": [
    "G = LogisticRegression(penalty = 'l1', solver = 'liblinear', C = 0.5, max_iter = 1000)\n",
    "G.fit(X, y)"
   ]
  },
  {
   "cell_type": "markdown",
   "metadata": {},
   "source": [
    "**b) (3 pts) For the regularized logistic regression model you fit in a), display the coefficient vector for the features. How many features have non-zero coefficients?**"
   ]
  },
  {
   "cell_type": "code",
   "execution_count": 12,
   "metadata": {},
   "outputs": [
    {
     "data": {
      "text/plain": [
       "array([[ 0.92843591,  0.        ,  0.34300186,  0.        ,  0.19558931,\n",
       "        -0.00833317,  0.        , -0.29321014,  0.        ,  0.        ,\n",
       "         0.25248705,  0.        ,  0.        ,  0.        ,  0.        ,\n",
       "         0.        ,  0.48879189,  0.        ,  0.        ,  0.02872314,\n",
       "         0.        ,  0.        ,  0.07836703, -0.18435926, -0.16186377,\n",
       "         0.        ,  0.        ,  0.        ,  0.04824449,  0.05455894,\n",
       "         0.33414211, -0.22436   , -0.2006608 ,  0.        ,  0.        ,\n",
       "         0.        ,  0.        ,  0.        ,  0.        ,  0.        ,\n",
       "         0.        , -0.06145104,  0.        ,  0.03298719,  0.        ,\n",
       "         0.        ,  0.        ,  0.        , -0.25931721, -0.12632187]])"
      ]
     },
     "execution_count": 12,
     "metadata": {},
     "output_type": "execute_result"
    }
   ],
   "source": [
    "yhat = G.coef_\n",
    "yhat"
   ]
  },
  {
   "cell_type": "code",
   "execution_count": 13,
   "metadata": {},
   "outputs": [
    {
     "data": {
      "text/plain": [
       "20"
      ]
     },
     "execution_count": 13,
     "metadata": {},
     "output_type": "execute_result"
    }
   ],
   "source": [
    "np.sum([yhat != 0])"
   ]
  },
  {
   "cell_type": "markdown",
   "metadata": {},
   "source": [
    "### Part 4: Cross-validated classification accuracy (5 pts)"
   ]
  },
  {
   "cell_type": "markdown",
   "metadata": {},
   "source": [
    "**a) (4 pts) Rerun the L1 regularized logistic regression using 5-fold cross-validation to estimate the accuracy of the logistic regression model for using the gene expression information to predict the recurrence or non-recurrence of breast cancer for these patients. Display the accuracy results for the 5 train/test splits in the cross-validation. For details, see the cross validation notes and the online documentation for the sklearn function cross_val_score.**"
   ]
  },
  {
   "cell_type": "code",
   "execution_count": 14,
   "metadata": {},
   "outputs": [],
   "source": [
    "from sklearn.model_selection import cross_val_score"
   ]
  },
  {
   "cell_type": "code",
   "execution_count": 15,
   "metadata": {},
   "outputs": [
    {
     "data": {
      "text/plain": [
       "array([0.84375   , 0.78125   , 0.77419355, 0.6       , 0.4       ])"
      ]
     },
     "execution_count": 15,
     "metadata": {},
     "output_type": "execute_result"
    }
   ],
   "source": [
    "score = cross_val_score(G, X, y, cv = 5)\n",
    "score"
   ]
  },
  {
   "cell_type": "markdown",
   "metadata": {},
   "source": [
    "**b) (1 pt) Compute the mean and standard error for classification accuracy.**"
   ]
  },
  {
   "cell_type": "code",
   "execution_count": 16,
   "metadata": {},
   "outputs": [
    {
     "name": "stdout",
     "output_type": "stream",
     "text": [
      "Mean: 0.6798387096774194\n",
      "Standard Error: 0.07231539794121623\n"
     ]
    }
   ],
   "source": [
    "m = score.mean()\n",
    "s = score.std()/np.sqrt(5)\n",
    "print(\"Mean:\", m)\n",
    "print(\"Standard Error:\", s)"
   ]
  }
 ],
 "metadata": {
  "kernelspec": {
   "display_name": "Python 3",
   "language": "python",
   "name": "python3"
  },
  "language_info": {
   "codemirror_mode": {
    "name": "ipython",
    "version": 3
   },
   "file_extension": ".py",
   "mimetype": "text/x-python",
   "name": "python",
   "nbconvert_exporter": "python",
   "pygments_lexer": "ipython3",
   "version": "3.7.3"
  }
 },
 "nbformat": 4,
 "nbformat_minor": 2
}
