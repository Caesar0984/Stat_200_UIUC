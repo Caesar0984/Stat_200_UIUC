{
 "cells": [
  {
   "cell_type": "markdown",
   "metadata": {},
   "source": [
    "### STAT 207 Lab 5: Standard Errors for Means and Proportions"
   ]
  },
  {
   "cell_type": "markdown",
   "metadata": {},
   "source": [
    "Due: Wednesday, October 2, 23:59:59"
   ]
  },
  {
   "cell_type": "markdown",
   "metadata": {},
   "source": [
    "### Jaewon Kim jaewonk3"
   ]
  },
  {
   "cell_type": "markdown",
   "metadata": {},
   "source": [
    "This lab consists of 3 main parts. You may add as many cells as you need in order to do the excercises. To add cells use the \"Insert\" tab from the menu bar above and select \"insert cell above\" or \"insert cell below\". \n",
    "\n",
    "Please use Markdown cells above or below your code cells to explain your results. Make sure graders know that you understand what your code is doing.\n",
    "\n",
    "**Note: not every problem in this lab requires Python calculation. In some cases you can just work it out and type in your solution.** \n"
   ]
  },
  {
   "cell_type": "markdown",
   "metadata": {},
   "source": [
    "### Part 1: Continuous Uniform Distribution (10 pts)\n",
    "\n",
    "A random variable $X$ has a **uniform** distribution on the interval from $a$ to $b$ ($a < b$) if its probability density function (pdf) has a constant height $c=1/(b-a)$ over the interval from $a$ to $b$, and is zero outside the interval. The following questions in Part 1 refer to uniform random variables.\n",
    "\n",
    "The model is available in SciPy as **scipy.stats.uniform** with the parameters **loc=a** (lower endpoint of interval) and **scale=b-a** (width of interval).\n"
   ]
  },
  {
   "cell_type": "markdown",
   "metadata": {},
   "source": [
    "**a) Consider the uniform distribution with $a=0$ and $b=5$.  What is the numerical value of the height $c$ for the pdf on the interval from $0$ to $5$? (not using Python)**"
   ]
  },
  {
   "cell_type": "markdown",
   "metadata": {},
   "source": [
    "Solution:\n",
    "1) a = 0, b = 5, and c = 1/(b-a)\n",
    "2) c = 1/(5-0) = 1/5\n",
    "1/5"
   ]
  },
  {
   "cell_type": "markdown",
   "metadata": {},
   "source": [
    "**b) Suppose $X$ has a uniform distribution over the continuous interval $[0, 5]$. Using the fact that probabilities of intervals are areas under the pdf curve, calculate $P(X\\le 2)$ (without using Python). Explain how you got the answer. You might find it helpful to sketch the pdf.**"
   ]
  },
  {
   "cell_type": "markdown",
   "metadata": {},
   "source": [
    "Solution:\n",
    "1) Continuous interval: [0,5] Height of the pdf curve: 1/5\n",
    "2) P(X<=2) = 2 * 1/5 = 2/5 = 0.4\n",
    "0.4"
   ]
  },
  {
   "cell_type": "markdown",
   "metadata": {},
   "source": [
    "**c) If $X$ is a continuous uniform random variable on $[0,5]$, use Python to find $E[X]$ and the standard deviation of $X$.**"
   ]
  },
  {
   "cell_type": "code",
   "execution_count": 1,
   "metadata": {},
   "outputs": [],
   "source": [
    "from scipy.stats import uniform\n",
    "import pandas as pd\n",
    "import numpy as np\n",
    "import matplotlib.pyplot as plt\n",
    "import seaborn as sns"
   ]
  },
  {
   "cell_type": "code",
   "execution_count": 2,
   "metadata": {},
   "outputs": [
    {
     "data": {
      "text/html": [
       "<div>\n",
       "<style scoped>\n",
       "    .dataframe tbody tr th:only-of-type {\n",
       "        vertical-align: middle;\n",
       "    }\n",
       "\n",
       "    .dataframe tbody tr th {\n",
       "        vertical-align: top;\n",
       "    }\n",
       "\n",
       "    .dataframe thead th {\n",
       "        text-align: right;\n",
       "    }\n",
       "</style>\n",
       "<table border=\"1\" class=\"dataframe\">\n",
       "  <thead>\n",
       "    <tr style=\"text-align: right;\">\n",
       "      <th></th>\n",
       "      <th>Population</th>\n",
       "    </tr>\n",
       "  </thead>\n",
       "  <tbody>\n",
       "    <tr>\n",
       "      <th>mean</th>\n",
       "      <td>2.500000</td>\n",
       "    </tr>\n",
       "    <tr>\n",
       "      <th>std</th>\n",
       "      <td>1.443376</td>\n",
       "    </tr>\n",
       "  </tbody>\n",
       "</table>\n",
       "</div>"
      ],
      "text/plain": [
       "      Population\n",
       "mean    2.500000\n",
       "std     1.443376"
      ]
     },
     "execution_count": 2,
     "metadata": {},
     "output_type": "execute_result"
    }
   ],
   "source": [
    "params = ['mean', 'std']\n",
    "pop = [uniform.mean(loc = 0, scale = 5),\n",
    "       uniform.std(loc = 0, scale = 5)]\n",
    "df = pd.DataFrame({'Population': pop}, index = params)\n",
    "df"
   ]
  },
  {
   "cell_type": "markdown",
   "metadata": {},
   "source": [
    "**d) Suppose $X_1, X_2, \\ldots, X_{25}$ is a random sample of 25 observations from the uniform distribution on $[0,5]$. Let $\\bar{X} = {1\\over 25} \\sum_{i=1}^{25} X_i$. Compute the population mean, $E(\\bar{X})$, and population standard deviation for $\\bar{X}$.**"
   ]
  },
  {
   "cell_type": "code",
   "execution_count": 3,
   "metadata": {},
   "outputs": [
    {
     "data": {
      "text/html": [
       "<div>\n",
       "<style scoped>\n",
       "    .dataframe tbody tr th:only-of-type {\n",
       "        vertical-align: middle;\n",
       "    }\n",
       "\n",
       "    .dataframe tbody tr th {\n",
       "        vertical-align: top;\n",
       "    }\n",
       "\n",
       "    .dataframe thead th {\n",
       "        text-align: right;\n",
       "    }\n",
       "</style>\n",
       "<table border=\"1\" class=\"dataframe\">\n",
       "  <thead>\n",
       "    <tr style=\"text-align: right;\">\n",
       "      <th></th>\n",
       "      <th>Population</th>\n",
       "    </tr>\n",
       "  </thead>\n",
       "  <tbody>\n",
       "    <tr>\n",
       "      <th>popmean</th>\n",
       "      <td>2.500000</td>\n",
       "    </tr>\n",
       "    <tr>\n",
       "      <th>mean</th>\n",
       "      <td>2.948121</td>\n",
       "    </tr>\n",
       "    <tr>\n",
       "      <th>popstd</th>\n",
       "      <td>0.288675</td>\n",
       "    </tr>\n",
       "  </tbody>\n",
       "</table>\n",
       "</div>"
      ],
      "text/plain": [
       "         Population\n",
       "popmean    2.500000\n",
       "mean       2.948121\n",
       "popstd     0.288675"
      ]
     },
     "execution_count": 3,
     "metadata": {},
     "output_type": "execute_result"
    }
   ],
   "source": [
    "params2 = ['popmean', 'mean', 'popstd']\n",
    "sample = uniform.rvs(loc = 0, scale = 5, size = 25)\n",
    "pop2 = [uniform.mean(loc = 0, scale = 5),\n",
    "        np.mean(sample),\n",
    "       (uniform.std(loc = 0, scale = 5))/5]\n",
    "df2 = pd.DataFrame({'Population': pop2}, index = params2)\n",
    "df2"
   ]
  },
  {
   "cell_type": "markdown",
   "metadata": {},
   "source": [
    "**e) Use Python to generate a random sample of 25 observations from the uniform distribution on $[0,5]$. Compute and display the random sample along with the sample mean, sample standard deviation and standard error for the mean in the cells below.**"
   ]
  },
  {
   "cell_type": "markdown",
   "metadata": {},
   "source": [
    "**i) Sample:**"
   ]
  },
  {
   "cell_type": "code",
   "execution_count": 4,
   "metadata": {},
   "outputs": [
    {
     "data": {
      "text/plain": [
       "array([0.48343838, 3.38323553, 3.48123695, 4.43667856, 4.15302228,\n",
       "       2.65074169, 2.57022705, 0.55288217, 0.5730689 , 3.05851488,\n",
       "       4.99297211, 4.05248472, 3.07484429, 1.56679519, 1.95323966,\n",
       "       3.42681517, 4.6559723 , 4.2622548 , 3.30043514, 3.34513731,\n",
       "       3.95486632, 2.80361232, 4.58454866, 2.21165728, 0.14656764])"
      ]
     },
     "execution_count": 4,
     "metadata": {},
     "output_type": "execute_result"
    }
   ],
   "source": [
    "sample = uniform.rvs(loc = 0, scale = 5, size = 25)\n",
    "sample"
   ]
  },
  {
   "cell_type": "markdown",
   "metadata": {},
   "source": [
    "**ii) Sample mean and standard deviation:**"
   ]
  },
  {
   "cell_type": "code",
   "execution_count": 5,
   "metadata": {},
   "outputs": [
    {
     "data": {
      "text/html": [
       "<div>\n",
       "<style scoped>\n",
       "    .dataframe tbody tr th:only-of-type {\n",
       "        vertical-align: middle;\n",
       "    }\n",
       "\n",
       "    .dataframe tbody tr th {\n",
       "        vertical-align: top;\n",
       "    }\n",
       "\n",
       "    .dataframe thead th {\n",
       "        text-align: right;\n",
       "    }\n",
       "</style>\n",
       "<table border=\"1\" class=\"dataframe\">\n",
       "  <thead>\n",
       "    <tr style=\"text-align: right;\">\n",
       "      <th></th>\n",
       "      <th>Population</th>\n",
       "    </tr>\n",
       "  </thead>\n",
       "  <tbody>\n",
       "    <tr>\n",
       "      <th>mean</th>\n",
       "      <td>2.947010</td>\n",
       "    </tr>\n",
       "    <tr>\n",
       "      <th>std</th>\n",
       "      <td>1.377101</td>\n",
       "    </tr>\n",
       "  </tbody>\n",
       "</table>\n",
       "</div>"
      ],
      "text/plain": [
       "      Population\n",
       "mean    2.947010\n",
       "std     1.377101"
      ]
     },
     "execution_count": 5,
     "metadata": {},
     "output_type": "execute_result"
    }
   ],
   "source": [
    "pop3 = [np.mean(sample),\n",
    "       np.std(sample)]\n",
    "df3 = pd.DataFrame({'Population': pop3}, index = params)\n",
    "df3"
   ]
  },
  {
   "cell_type": "markdown",
   "metadata": {},
   "source": [
    "**iii) Standard error for the mean:**"
   ]
  },
  {
   "cell_type": "code",
   "execution_count": 6,
   "metadata": {},
   "outputs": [
    {
     "data": {
      "text/plain": [
       "0.27542014904042017"
      ]
     },
     "execution_count": 6,
     "metadata": {},
     "output_type": "execute_result"
    }
   ],
   "source": [
    "np.std(sample)/np.sqrt(25)"
   ]
  },
  {
   "cell_type": "markdown",
   "metadata": {},
   "source": [
    "### Part 2: Binomial distribution (10 pts)\n",
    "\n",
    "When a pair of dice is rolled, the probability of getting \"7\" for the total number of spots is $1/6$. Suppose this pair of dice is rolled 54 times. Let $X$ denote the number of times \"7\" was rolled, and let $Y = {1\\over 54} X$."
   ]
  },
  {
   "cell_type": "markdown",
   "metadata": {},
   "source": [
    "**a) What are the population mean and standard deviation for $X$?**"
   ]
  },
  {
   "cell_type": "code",
   "execution_count": 7,
   "metadata": {},
   "outputs": [
    {
     "data": {
      "text/html": [
       "<div>\n",
       "<style scoped>\n",
       "    .dataframe tbody tr th:only-of-type {\n",
       "        vertical-align: middle;\n",
       "    }\n",
       "\n",
       "    .dataframe tbody tr th {\n",
       "        vertical-align: top;\n",
       "    }\n",
       "\n",
       "    .dataframe thead th {\n",
       "        text-align: right;\n",
       "    }\n",
       "</style>\n",
       "<table border=\"1\" class=\"dataframe\">\n",
       "  <thead>\n",
       "    <tr style=\"text-align: right;\">\n",
       "      <th></th>\n",
       "      <th>Population</th>\n",
       "    </tr>\n",
       "  </thead>\n",
       "  <tbody>\n",
       "    <tr>\n",
       "      <th>mean</th>\n",
       "      <td>9.000000</td>\n",
       "    </tr>\n",
       "    <tr>\n",
       "      <th>std</th>\n",
       "      <td>2.738613</td>\n",
       "    </tr>\n",
       "  </tbody>\n",
       "</table>\n",
       "</div>"
      ],
      "text/plain": [
       "      Population\n",
       "mean    9.000000\n",
       "std     2.738613"
      ]
     },
     "execution_count": 7,
     "metadata": {},
     "output_type": "execute_result"
    }
   ],
   "source": [
    "from scipy.stats import binom\n",
    "n, p = 54, 1/6\n",
    "x = np.arange(0, 54)\n",
    "pop4 = [binom.mean(54, 1/6, loc = 0),\n",
    "        binom.std(54, 1/6, loc = 0)]\n",
    "df4 = pd.DataFrame({'Population': pop4}, index = params)\n",
    "df4"
   ]
  },
  {
   "cell_type": "markdown",
   "metadata": {},
   "source": [
    "**b) What are the population mean and standard deviation for $Y$?**"
   ]
  },
  {
   "cell_type": "code",
   "execution_count": 8,
   "metadata": {},
   "outputs": [
    {
     "data": {
      "text/html": [
       "<div>\n",
       "<style scoped>\n",
       "    .dataframe tbody tr th:only-of-type {\n",
       "        vertical-align: middle;\n",
       "    }\n",
       "\n",
       "    .dataframe tbody tr th {\n",
       "        vertical-align: top;\n",
       "    }\n",
       "\n",
       "    .dataframe thead th {\n",
       "        text-align: right;\n",
       "    }\n",
       "</style>\n",
       "<table border=\"1\" class=\"dataframe\">\n",
       "  <thead>\n",
       "    <tr style=\"text-align: right;\">\n",
       "      <th></th>\n",
       "      <th>Population</th>\n",
       "    </tr>\n",
       "  </thead>\n",
       "  <tbody>\n",
       "    <tr>\n",
       "      <th>mean</th>\n",
       "      <td>0.166667</td>\n",
       "    </tr>\n",
       "    <tr>\n",
       "      <th>std</th>\n",
       "      <td>0.050715</td>\n",
       "    </tr>\n",
       "  </tbody>\n",
       "</table>\n",
       "</div>"
      ],
      "text/plain": [
       "      Population\n",
       "mean    0.166667\n",
       "std     0.050715"
      ]
     },
     "execution_count": 8,
     "metadata": {},
     "output_type": "execute_result"
    }
   ],
   "source": [
    "pop5 = [binom.mean(54, 1/6, loc = 0)/54,\n",
    "        binom.std(54, 1/6, loc = 0)/54]\n",
    "df5 = pd.DataFrame({'Population': pop5}, index = params)\n",
    "df5"
   ]
  },
  {
   "cell_type": "markdown",
   "metadata": {},
   "source": [
    "**c) For what value of $x$ does $P(Y \\le x) = P(X \\le 12)$?**"
   ]
  },
  {
   "cell_type": "markdown",
   "metadata": {},
   "source": [
    "$Solution:$"
   ]
  },
  {
   "cell_type": "markdown",
   "metadata": {},
   "source": [
    "1) $Y = \\frac{1}{54}X~E(Y) = \\frac{1}{54}E(X)~\\sigma_{y} = \\frac{1}{54}\\sigma_{x}$"
   ]
  },
  {
   "cell_type": "markdown",
   "metadata": {},
   "source": [
    "2) $\\frac{12}{54}=\\frac{2}{9}$"
   ]
  },
  {
   "cell_type": "markdown",
   "metadata": {},
   "source": [
    "$\\frac{2}{9}$"
   ]
  },
  {
   "cell_type": "markdown",
   "metadata": {},
   "source": [
    "**d) Use scipy.stats.binom to compute $P(X \\le 12)$.**"
   ]
  },
  {
   "cell_type": "code",
   "execution_count": 9,
   "metadata": {},
   "outputs": [
    {
     "data": {
      "text/plain": [
       "0.8959695063558107"
      ]
     },
     "execution_count": 9,
     "metadata": {},
     "output_type": "execute_result"
    }
   ],
   "source": [
    "binom.cdf(12, 54, 1/6, loc = 0)"
   ]
  },
  {
   "cell_type": "markdown",
   "metadata": {},
   "source": [
    "**e) Use the Central Limit Theorem (normal approximation) to compute $P(X \\le 12)$ using scipy.stats.norm.**"
   ]
  },
  {
   "cell_type": "code",
   "execution_count": 10,
   "metadata": {},
   "outputs": [
    {
     "data": {
      "text/plain": [
       "0.863339160853851"
      ]
     },
     "execution_count": 10,
     "metadata": {},
     "output_type": "execute_result"
    }
   ],
   "source": [
    "from scipy.stats import norm\n",
    "norm.cdf(2/9, loc = 1/6, scale = np.sqrt((1/6)*(5/6)/54))"
   ]
  },
  {
   "cell_type": "markdown",
   "metadata": {},
   "source": [
    "### Part 3: Survey Result (5 pts)"
   ]
  },
  {
   "cell_type": "markdown",
   "metadata": {},
   "source": [
    "The Pew Research Center survey of February 2017 was based on random phone dialing. The following counts were reported for whether or not the person answering the phone refused to partipate ('Yes' = 'refused', 'No' = \"participated).\n",
    "\n",
    "    No     1290\n",
    "    Yes     213\n",
    "    \n",
    "Assume the sample of phone numbers is a random sample with replacement."
   ]
  },
  {
   "cell_type": "markdown",
   "metadata": {},
   "source": [
    "**a) Let $p$ denote the population proportion of all phone numbers for which the person answering the phone would refuse to participate in a Pew survey. Based on the data above, compute an estimate for $p$.**"
   ]
  },
  {
   "cell_type": "code",
   "execution_count": 11,
   "metadata": {},
   "outputs": [
    {
     "data": {
      "text/plain": [
       "0.14171656686626746"
      ]
     },
     "execution_count": 11,
     "metadata": {},
     "output_type": "execute_result"
    }
   ],
   "source": [
    "p = 213/(1290+213)\n",
    "p"
   ]
  },
  {
   "cell_type": "markdown",
   "metadata": {},
   "source": [
    "**b) Compute the standard error (estimated standard deviation) of your estimate in part a).**"
   ]
  },
  {
   "cell_type": "code",
   "execution_count": 12,
   "metadata": {},
   "outputs": [
    {
     "data": {
      "text/plain": [
       "0.008995932456380012"
      ]
     },
     "execution_count": 12,
     "metadata": {},
     "output_type": "execute_result"
    }
   ],
   "source": [
    "se = np.sqrt((p*(1-p))/1503)\n",
    "se"
   ]
  },
  {
   "cell_type": "markdown",
   "metadata": {},
   "source": [
    "**c) Compute a large sample 95% confidence interval for $p$ using the normal approximation.**"
   ]
  },
  {
   "cell_type": "code",
   "execution_count": 13,
   "metadata": {},
   "outputs": [
    {
     "data": {
      "text/plain": [
       "[0.12408486324440769, 0.15934827048812722]"
      ]
     },
     "execution_count": 13,
     "metadata": {},
     "output_type": "execute_result"
    }
   ],
   "source": [
    "low = p + norm.ppf(0.025)*se\n",
    "high = p + norm.ppf(0.975)*se\n",
    "[low, high]"
   ]
  }
 ],
 "metadata": {
  "kernelspec": {
   "display_name": "Python 3",
   "language": "python",
   "name": "python3"
  },
  "language_info": {
   "codemirror_mode": {
    "name": "ipython",
    "version": 3
   },
   "file_extension": ".py",
   "mimetype": "text/x-python",
   "name": "python",
   "nbconvert_exporter": "python",
   "pygments_lexer": "ipython3",
   "version": "3.7.3"
  }
 },
 "nbformat": 4,
 "nbformat_minor": 2
}
