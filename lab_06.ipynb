{
 "cells": [
  {
   "cell_type": "markdown",
   "metadata": {},
   "source": [
    "### STAT 207 Lab 6: Confidence intervals and hypothesis tests"
   ]
  },
  {
   "cell_type": "markdown",
   "metadata": {},
   "source": [
    "Due: Wednesday, October 16, 23:59:59"
   ]
  },
  {
   "cell_type": "markdown",
   "metadata": {},
   "source": [
    "### Jaewon Kim jaewonk3"
   ]
  },
  {
   "cell_type": "markdown",
   "metadata": {},
   "source": [
    "This lab consists of 3 main parts. You may add as many cells as you need in order to do the excercises. To add cells use the \"Insert\" tab from the menu bar above and select \"insert cell above\" or \"insert cell below\". \n",
    "\n",
    "Please use Markdown cells above or below your code cells to explain your results. Make sure graders know that you understand what your code is doing.\n",
    "\n",
    "Note: not every problem in this lab requires Python calculation. In some cases you can just work it out and type in your solution. \n",
    "\n",
    "**Hint: generally all of the problems build on material covered in the class notes, so the notes are the first place to go for related examples and discussion.**\n"
   ]
  },
  {
   "cell_type": "markdown",
   "metadata": {},
   "source": [
    "### Part 1: Preliminary analysis of lead study (8 pts)\n",
    "\n",
    "The file 'lead.csv' is included in the same folder as this lab notebook. It contains data from the lead exposure study discussed in our class notes. \n"
   ]
  },
  {
   "cell_type": "markdown",
   "metadata": {},
   "source": [
    "**a) Read the data into a pandas data frame and display the overall mean and standard deviation for the variable 'fulliq' in the data. (2 pts)**"
   ]
  },
  {
   "cell_type": "code",
   "execution_count": 1,
   "metadata": {},
   "outputs": [
    {
     "data": {
      "text/html": [
       "<div>\n",
       "<style scoped>\n",
       "    .dataframe tbody tr th:only-of-type {\n",
       "        vertical-align: middle;\n",
       "    }\n",
       "\n",
       "    .dataframe tbody tr th {\n",
       "        vertical-align: top;\n",
       "    }\n",
       "\n",
       "    .dataframe thead th {\n",
       "        text-align: right;\n",
       "    }\n",
       "</style>\n",
       "<table border=\"1\" class=\"dataframe\">\n",
       "  <thead>\n",
       "    <tr style=\"text-align: right;\">\n",
       "      <th></th>\n",
       "      <th>Population</th>\n",
       "    </tr>\n",
       "  </thead>\n",
       "  <tbody>\n",
       "    <tr>\n",
       "      <th>Mean</th>\n",
       "      <td>91.080645</td>\n",
       "    </tr>\n",
       "    <tr>\n",
       "      <th>Std</th>\n",
       "      <td>14.403927</td>\n",
       "    </tr>\n",
       "  </tbody>\n",
       "</table>\n",
       "</div>"
      ],
      "text/plain": [
       "      Population\n",
       "Mean   91.080645\n",
       "Std    14.403927"
      ]
     },
     "execution_count": 1,
     "metadata": {},
     "output_type": "execute_result"
    }
   ],
   "source": [
    "import pandas as pd\n",
    "import matplotlib as plt\n",
    "import numpy as np\n",
    "df = pd.read_csv('lead.csv')\n",
    "params = ['Mean', 'Std']\n",
    "pop = [df['fulliq'].mean(),\n",
    "      df['fulliq'].std()]\n",
    "df2 = pd.DataFrame({'Population': pop}, index = params)\n",
    "df2"
   ]
  },
  {
   "cell_type": "markdown",
   "metadata": {},
   "source": [
    "**b) Compute the standard error for the mean 'fulliq'. (2 pts)**"
   ]
  },
  {
   "cell_type": "code",
   "execution_count": 2,
   "metadata": {},
   "outputs": [
    {
     "data": {
      "text/plain": [
       "1.2935108459948101"
      ]
     },
     "execution_count": 2,
     "metadata": {},
     "output_type": "execute_result"
    }
   ],
   "source": [
    "df['fulliq'].std()/np.sqrt(len(df))"
   ]
  },
  {
   "cell_type": "markdown",
   "metadata": {},
   "source": [
    "**c) Compute a 99% confidence interval for the population mean for 'fulliq' that would correspond to the children in this sample (i.e. assuming these children are representative of some larger population). (2 pts)**"
   ]
  },
  {
   "cell_type": "code",
   "execution_count": 3,
   "metadata": {},
   "outputs": [
    {
     "name": "stdout",
     "output_type": "stream",
     "text": [
      "[87.74878201971856, 94.41250830286208]\n"
     ]
    }
   ],
   "source": [
    "from scipy.stats import norm\n",
    "low = df['fulliq'].mean()+norm.ppf(0.005)*df['fulliq'].std()/np.sqrt(len(df))\n",
    "high = df['fulliq'].mean()+norm.ppf(0.995)*df['fulliq'].std()/np.sqrt(len(df))\n",
    "print([low, high])"
   ]
  },
  {
   "cell_type": "markdown",
   "metadata": {},
   "source": [
    "**d) The 'fulliq' evaluation instrument is supposed to have a mean of 100 for the general population. Based on your confidence interval, is the mean 'fulliq' for children sampled in this study significantly different than 100 (at a level $\\alpha$ =0.01)? Explain briefly. (2 pts)**"
   ]
  },
  {
   "cell_type": "markdown",
   "metadata": {},
   "source": [
    "It is significantly different from 100 based on 99% confidence interval of the data. "
   ]
  },
  {
   "cell_type": "markdown",
   "metadata": {},
   "source": [
    "### Part 2: Sub-group analysis of lead study (10 pts)\n",
    "\n",
    "In this part we analyze the relation between exposure group and 'fulliq'. We compare the mean 'fulliq' for low lead exposure ('group'=='lead < 40') and high exposure ('group'== 'lead >= 40'). We will determine if there is a statistically significant difference."
   ]
  },
  {
   "cell_type": "markdown",
   "metadata": {},
   "source": [
    "**a) With 'fulliq' as the response variable, compute the sample means, sample standard deviations and sample sizes for the two exposure groups. Display the results in a summary where each computed number is clearly labeled. (3 pts)**"
   ]
  },
  {
   "cell_type": "code",
   "execution_count": 4,
   "metadata": {},
   "outputs": [
    {
     "data": {
      "text/html": [
       "<div>\n",
       "<style scoped>\n",
       "    .dataframe tbody tr th:only-of-type {\n",
       "        vertical-align: middle;\n",
       "    }\n",
       "\n",
       "    .dataframe tbody tr th {\n",
       "        vertical-align: top;\n",
       "    }\n",
       "\n",
       "    .dataframe thead th {\n",
       "        text-align: right;\n",
       "    }\n",
       "</style>\n",
       "<table border=\"1\" class=\"dataframe\">\n",
       "  <thead>\n",
       "    <tr style=\"text-align: right;\">\n",
       "      <th></th>\n",
       "      <th>Lead &lt; 40</th>\n",
       "      <th>Lead &gt;= 40</th>\n",
       "    </tr>\n",
       "  </thead>\n",
       "  <tbody>\n",
       "    <tr>\n",
       "      <th>Mean</th>\n",
       "      <td>92.884615</td>\n",
       "      <td>88.021739</td>\n",
       "    </tr>\n",
       "    <tr>\n",
       "      <th>Std</th>\n",
       "      <td>15.344512</td>\n",
       "      <td>12.206536</td>\n",
       "    </tr>\n",
       "    <tr>\n",
       "      <th>Size</th>\n",
       "      <td>78.000000</td>\n",
       "      <td>46.000000</td>\n",
       "    </tr>\n",
       "  </tbody>\n",
       "</table>\n",
       "</div>"
      ],
      "text/plain": [
       "      Lead < 40  Lead >= 40\n",
       "Mean  92.884615   88.021739\n",
       "Std   15.344512   12.206536\n",
       "Size  78.000000   46.000000"
      ]
     },
     "execution_count": 4,
     "metadata": {},
     "output_type": "execute_result"
    }
   ],
   "source": [
    "params2 = ['Mean', 'Std', \"Size\"]\n",
    "group1 = [df['fulliq'][df['group']=='lead < 40'].mean(),\n",
    "          df['fulliq'][df['group']=='lead < 40'].std(),\n",
    "          len(df[df['group']=='lead < 40'])]\n",
    "group2 = [df['fulliq'][df['group']=='lead >= 40'].mean(),\n",
    "          df['fulliq'][df['group']=='lead >= 40'].std(),\n",
    "          len(df[df['group']=='lead >= 40'])]\n",
    "df3 = pd.DataFrame({'Lead < 40': group1, 'Lead >= 40': group2}, index = params2)\n",
    "df3"
   ]
  },
  {
   "cell_type": "markdown",
   "metadata": {},
   "source": [
    "**b) Compute the mean difference in 'fulliq' values between the two exposure levels. Also compute the standard error for the difference. Display both with clear text labels in the output. (3 pts)**"
   ]
  },
  {
   "cell_type": "code",
   "execution_count": 5,
   "metadata": {},
   "outputs": [
    {
     "name": "stdout",
     "output_type": "stream",
     "text": [
      "Difference of mean: 4.862876254180605\n",
      "Difference of standard error 2.501551827882583\n"
     ]
    }
   ],
   "source": [
    "dm = df['fulliq'][df['group']=='lead < 40'].mean() - df['fulliq'][df['group']=='lead >= 40'].mean()\n",
    "dse = np.sqrt(df['fulliq'][df['group']=='lead < 40'].var()/len(df[df['group']=='lead < 40']) + df['fulliq'][df['group']=='lead >= 40'].var()/len(df[df['group']=='lead >= 40']))\n",
    "print(\"Difference of mean:\", dm)\n",
    "print(\"Difference of standard error\", dse)"
   ]
  },
  {
   "cell_type": "markdown",
   "metadata": {},
   "source": [
    "**c) Compute a 95% confidence interval for the population mean difference in 'fulliq' for children with lower lead exposure ('lead < 40') versus children with higher lead exposure ('lead >= 40'). (2 pts)**"
   ]
  },
  {
   "cell_type": "code",
   "execution_count": 6,
   "metadata": {},
   "outputs": [
    {
     "name": "stdout",
     "output_type": "stream",
     "text": [
      "[-0.04007523392959822, 9.765827742290808]\n"
     ]
    }
   ],
   "source": [
    "lowd = dm + norm.ppf(0.025)*dse\n",
    "highd = dm + norm.ppf(0.975)*dse\n",
    "print([lowd, highd])"
   ]
  },
  {
   "cell_type": "markdown",
   "metadata": {},
   "source": [
    "**d) Does your confidence interval include the value, 0? What do you conclude about whether there is a statistically significant difference in mean values between the two groups? (2pts)**"
   ]
  },
  {
   "cell_type": "markdown",
   "metadata": {},
   "source": [
    "Yes confidence interval includes 0. I conclude that there is no statistically significant difference in mean values between two groups. "
   ]
  },
  {
   "cell_type": "markdown",
   "metadata": {},
   "source": [
    "### Part 3: Hypothesis test (7 pts)"
   ]
  },
  {
   "cell_type": "markdown",
   "metadata": {},
   "source": [
    "We reformulate the sub-population analysis as a hypothesis testing question. These questions refer to the lead exposure study."
   ]
  },
  {
   "cell_type": "markdown",
   "metadata": {},
   "source": [
    "**a) Consider the null hypothesis $H_0$: \"no difference in population mean IQ between the low exposure and high exposure groups.\" Let $\\mu_1$ denote the population mean 'fulliq' for childeren with exposure less than 40, and let $\\mu_2$ denote the same for children with exposure greater or equal to 40. Write down the null and alternative hypotheses ($H_0$ and $H_A$) expressed using $\\mu_1$ and $\\mu_2$. (2 pts)**"
   ]
  },
  {
   "cell_type": "markdown",
   "metadata": {},
   "source": [
    "$H_0$: $\\mu_1 = \\mu_2$\n",
    "\n",
    "$H_A$: $\\mu_1 \\neq \\mu_2$"
   ]
  },
  {
   "cell_type": "markdown",
   "metadata": {},
   "source": [
    "**b) Compute a z-test statistic for testing the null hypothesis in part a) based on the lead exposure data. (2 pts)**\n",
    "\n",
    "**Hint: use results from Part 2 and recall that**\n",
    "\n",
    "$$\n",
    "z = {\\mbox{Estimated difference} - \\mbox{Null expectation} \\over SE}\n",
    "$$\n"
   ]
  },
  {
   "cell_type": "code",
   "execution_count": 7,
   "metadata": {},
   "outputs": [
    {
     "data": {
      "text/plain": [
       "1.9439438351740028"
      ]
     },
     "execution_count": 7,
     "metadata": {},
     "output_type": "execute_result"
    }
   ],
   "source": [
    "z = (dm - 0)/dse \n",
    "z"
   ]
  },
  {
   "cell_type": "markdown",
   "metadata": {},
   "source": [
    "**c)  With your z value from b), compute a two-sided p-value using the normal approximation. In other words, compute the probability that a standard normal random variable, Z, exceeds the z value you observed in absolute value (p-value = $P(| Z | > | z_{obs} |) )$. (2 pts)**"
   ]
  },
  {
   "cell_type": "code",
   "execution_count": 8,
   "metadata": {},
   "outputs": [
    {
     "data": {
      "text/plain": [
       "0.051902224382692985"
      ]
     },
     "execution_count": 8,
     "metadata": {},
     "output_type": "execute_result"
    }
   ],
   "source": [
    "p = (1 - norm.cdf(z))*2\n",
    "p"
   ]
  },
  {
   "cell_type": "markdown",
   "metadata": {},
   "source": [
    "**d) Based on your p-value in c), do you reject or accept (\"fail to reject\") the null hypothesis $H_0$ of no mean difference at level $\\alpha=0.05$? how about at level $\\alpha= 0.10$? (1 pt)**"
   ]
  },
  {
   "cell_type": "markdown",
   "metadata": {},
   "source": [
    "Based on the p-value, we accept the null hypothesis in $\\alpha = 0.05$. But for $\\alpha=0.10$, we reject the null hypothesis."
   ]
  }
 ],
 "metadata": {
  "kernelspec": {
   "display_name": "Python 3",
   "language": "python",
   "name": "python3"
  },
  "language_info": {
   "codemirror_mode": {
    "name": "ipython",
    "version": 3
   },
   "file_extension": ".py",
   "mimetype": "text/x-python",
   "name": "python",
   "nbconvert_exporter": "python",
   "pygments_lexer": "ipython3",
   "version": "3.7.3"
  }
 },
 "nbformat": 4,
 "nbformat_minor": 2
}
