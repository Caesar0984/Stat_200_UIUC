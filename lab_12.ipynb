{
 "cells": [
  {
   "cell_type": "markdown",
   "metadata": {},
   "source": [
    "## STAT 207 Lab 12: Regularized Linear Regression"
   ]
  },
  {
   "cell_type": "markdown",
   "metadata": {},
   "source": [
    "Due: Wednesday, December 11, 23:59:59"
   ]
  },
  {
   "cell_type": "markdown",
   "metadata": {},
   "source": [
    "### YOUR NAME AND NET ID HERE"
   ]
  },
  {
   "cell_type": "markdown",
   "metadata": {},
   "source": [
    "This lab consists of 4 main parts. You may add as many cells as you need in order to do the exercises. To add cells use the \"Insert\" tab from the menu bar above and select \"insert cell above\" or \"insert cell below\". \n",
    "\n",
    "Please use Markdown cells above or below your code cells to explain your results. Make sure graders know that you understand what your code is doing.\n",
    "\n",
    "**Hint: all of the problems build on the class notes, so the notes are the first place to go for related examples and discussion.**\n"
   ]
  },
  {
   "cell_type": "markdown",
   "metadata": {},
   "source": [
    "This lab again uses the data in the two files: \"clinical_data.csv\" and \"gene_expr.csv\". Both files refer to subjects in a study on using gene expression data to predict recurrence of breast cancer among patients treated with tamoxifan. \n",
    "\n",
    "**We consider the question: are any of these gene expressions associated with age?**\n",
    "\n",
    "+ \"clinical_data.csv\" contains information about patient status such as age, size of tumor when treated, and whether or not they had a recurrence of breast cancer: Status='R' means they had a recurrence. Status='RF' means they were recurrence free.\n",
    "\n",
    "+ \"gene_expr.csv\" contains gene expression measurements for a sample of 50 genes.\n",
    "\n",
    "The rows of the two files correspond to the same patients, e.g., the 10th row in each file refers to the same patient, in one file, her clinical status, and in the other file, her gene expression information."
   ]
  },
  {
   "cell_type": "markdown",
   "metadata": {},
   "source": [
    "### Part 1: Data Preparation (3 pts)\n",
    "\n",
    "**a) (1 pt) Read the gene expression data into a feature matrix (data frame) X. Display the dimensions of X and its first few rows, including column names.**"
   ]
  },
  {
   "cell_type": "code",
   "execution_count": 1,
   "metadata": {},
   "outputs": [],
   "source": [
    "import pandas as pd\n",
    "import numpy as np\n",
    "import seaborn as sns\n",
    "import matplotlib.pyplot as plt"
   ]
  },
  {
   "cell_type": "code",
   "execution_count": 2,
   "metadata": {},
   "outputs": [
    {
     "data": {
      "text/html": [
       "<div>\n",
       "<style scoped>\n",
       "    .dataframe tbody tr th:only-of-type {\n",
       "        vertical-align: middle;\n",
       "    }\n",
       "\n",
       "    .dataframe tbody tr th {\n",
       "        vertical-align: top;\n",
       "    }\n",
       "\n",
       "    .dataframe thead th {\n",
       "        text-align: right;\n",
       "    }\n",
       "</style>\n",
       "<table border=\"1\" class=\"dataframe\">\n",
       "  <thead>\n",
       "    <tr style=\"text-align: right;\">\n",
       "      <th></th>\n",
       "      <th>X159</th>\n",
       "      <th>X960</th>\n",
       "      <th>X980</th>\n",
       "      <th>X986</th>\n",
       "      <th>X1023</th>\n",
       "      <th>X1028</th>\n",
       "      <th>X1064</th>\n",
       "      <th>X1092</th>\n",
       "      <th>X1103</th>\n",
       "      <th>X1109</th>\n",
       "      <th>...</th>\n",
       "      <th>X1563</th>\n",
       "      <th>X1574</th>\n",
       "      <th>X1595</th>\n",
       "      <th>X1597</th>\n",
       "      <th>X1609</th>\n",
       "      <th>X1616</th>\n",
       "      <th>X1637</th>\n",
       "      <th>X1656</th>\n",
       "      <th>X1657</th>\n",
       "      <th>X1683</th>\n",
       "    </tr>\n",
       "  </thead>\n",
       "  <tbody>\n",
       "    <tr>\n",
       "      <th>0</th>\n",
       "      <td>0.739512</td>\n",
       "      <td>1.971036</td>\n",
       "      <td>-1.660842</td>\n",
       "      <td>2.777183</td>\n",
       "      <td>3.299062</td>\n",
       "      <td>-1.954834</td>\n",
       "      <td>2.784970</td>\n",
       "      <td>0.411848</td>\n",
       "      <td>3.974931</td>\n",
       "      <td>-0.979751</td>\n",
       "      <td>...</td>\n",
       "      <td>3.221117</td>\n",
       "      <td>-1.735267</td>\n",
       "      <td>-2.036134</td>\n",
       "      <td>3.114202</td>\n",
       "      <td>-1.567229</td>\n",
       "      <td>-2.100264</td>\n",
       "      <td>-2.067843</td>\n",
       "      <td>2.116261</td>\n",
       "      <td>-2.057195</td>\n",
       "      <td>-0.868534</td>\n",
       "    </tr>\n",
       "    <tr>\n",
       "      <th>1</th>\n",
       "      <td>2.037903</td>\n",
       "      <td>2.197854</td>\n",
       "      <td>-1.263034</td>\n",
       "      <td>4.082346</td>\n",
       "      <td>5.426886</td>\n",
       "      <td>-1.732520</td>\n",
       "      <td>3.085890</td>\n",
       "      <td>0.688056</td>\n",
       "      <td>4.503384</td>\n",
       "      <td>-1.185032</td>\n",
       "      <td>...</td>\n",
       "      <td>2.927229</td>\n",
       "      <td>-1.646363</td>\n",
       "      <td>0.127756</td>\n",
       "      <td>2.772590</td>\n",
       "      <td>-1.451107</td>\n",
       "      <td>0.267480</td>\n",
       "      <td>-1.526069</td>\n",
       "      <td>2.643856</td>\n",
       "      <td>-1.625604</td>\n",
       "      <td>-1.415037</td>\n",
       "    </tr>\n",
       "    <tr>\n",
       "      <th>2</th>\n",
       "      <td>2.218338</td>\n",
       "      <td>3.471559</td>\n",
       "      <td>-1.789433</td>\n",
       "      <td>2.829994</td>\n",
       "      <td>4.746466</td>\n",
       "      <td>-2.222392</td>\n",
       "      <td>2.977280</td>\n",
       "      <td>0.944858</td>\n",
       "      <td>4.021099</td>\n",
       "      <td>-1.825502</td>\n",
       "      <td>...</td>\n",
       "      <td>3.565945</td>\n",
       "      <td>-2.296393</td>\n",
       "      <td>-2.347923</td>\n",
       "      <td>3.577213</td>\n",
       "      <td>-2.175087</td>\n",
       "      <td>-2.084889</td>\n",
       "      <td>-2.106915</td>\n",
       "      <td>2.738768</td>\n",
       "      <td>-1.387816</td>\n",
       "      <td>-0.780555</td>\n",
       "    </tr>\n",
       "    <tr>\n",
       "      <th>3</th>\n",
       "      <td>0.972344</td>\n",
       "      <td>2.638734</td>\n",
       "      <td>-2.010999</td>\n",
       "      <td>3.913935</td>\n",
       "      <td>4.744161</td>\n",
       "      <td>-2.496426</td>\n",
       "      <td>3.139577</td>\n",
       "      <td>0.155651</td>\n",
       "      <td>4.632121</td>\n",
       "      <td>-1.671513</td>\n",
       "      <td>...</td>\n",
       "      <td>3.815160</td>\n",
       "      <td>-1.706846</td>\n",
       "      <td>-2.216318</td>\n",
       "      <td>3.168707</td>\n",
       "      <td>-1.844349</td>\n",
       "      <td>-2.010999</td>\n",
       "      <td>-1.996352</td>\n",
       "      <td>2.797407</td>\n",
       "      <td>-1.743066</td>\n",
       "      <td>-1.010999</td>\n",
       "    </tr>\n",
       "    <tr>\n",
       "      <th>4</th>\n",
       "      <td>2.412235</td>\n",
       "      <td>4.033491</td>\n",
       "      <td>-1.536501</td>\n",
       "      <td>4.239650</td>\n",
       "      <td>4.304348</td>\n",
       "      <td>-1.991067</td>\n",
       "      <td>3.700095</td>\n",
       "      <td>0.878536</td>\n",
       "      <td>4.295705</td>\n",
       "      <td>-2.141092</td>\n",
       "      <td>...</td>\n",
       "      <td>4.264107</td>\n",
       "      <td>-2.424026</td>\n",
       "      <td>-2.448274</td>\n",
       "      <td>3.717911</td>\n",
       "      <td>-2.286523</td>\n",
       "      <td>-2.045515</td>\n",
       "      <td>-1.776328</td>\n",
       "      <td>2.813104</td>\n",
       "      <td>-2.353637</td>\n",
       "      <td>-1.687061</td>\n",
       "    </tr>\n",
       "    <tr>\n",
       "      <th>5</th>\n",
       "      <td>1.244203</td>\n",
       "      <td>3.485278</td>\n",
       "      <td>-1.838879</td>\n",
       "      <td>3.354405</td>\n",
       "      <td>3.596351</td>\n",
       "      <td>-2.372703</td>\n",
       "      <td>2.537772</td>\n",
       "      <td>-0.042187</td>\n",
       "      <td>4.409049</td>\n",
       "      <td>-1.824082</td>\n",
       "      <td>...</td>\n",
       "      <td>3.870400</td>\n",
       "      <td>-2.081240</td>\n",
       "      <td>-2.229338</td>\n",
       "      <td>3.370172</td>\n",
       "      <td>-2.063752</td>\n",
       "      <td>-1.995848</td>\n",
       "      <td>-1.946939</td>\n",
       "      <td>2.648671</td>\n",
       "      <td>-1.697325</td>\n",
       "      <td>-1.107875</td>\n",
       "    </tr>\n",
       "    <tr>\n",
       "      <th>6</th>\n",
       "      <td>1.022242</td>\n",
       "      <td>2.312934</td>\n",
       "      <td>-1.597241</td>\n",
       "      <td>2.838456</td>\n",
       "      <td>4.425506</td>\n",
       "      <td>-1.882643</td>\n",
       "      <td>2.239754</td>\n",
       "      <td>0.777947</td>\n",
       "      <td>4.401796</td>\n",
       "      <td>-1.049753</td>\n",
       "      <td>...</td>\n",
       "      <td>2.605197</td>\n",
       "      <td>-2.145677</td>\n",
       "      <td>-2.219678</td>\n",
       "      <td>3.536966</td>\n",
       "      <td>-1.975752</td>\n",
       "      <td>-1.975752</td>\n",
       "      <td>-2.008174</td>\n",
       "      <td>2.417328</td>\n",
       "      <td>-2.024662</td>\n",
       "      <td>-1.456378</td>\n",
       "    </tr>\n",
       "    <tr>\n",
       "      <th>7</th>\n",
       "      <td>1.589521</td>\n",
       "      <td>2.506791</td>\n",
       "      <td>-1.659925</td>\n",
       "      <td>4.276949</td>\n",
       "      <td>4.283059</td>\n",
       "      <td>-1.911463</td>\n",
       "      <td>2.003420</td>\n",
       "      <td>1.284934</td>\n",
       "      <td>4.651143</td>\n",
       "      <td>-2.074962</td>\n",
       "      <td>...</td>\n",
       "      <td>2.540925</td>\n",
       "      <td>-2.496426</td>\n",
       "      <td>-2.548893</td>\n",
       "      <td>4.814187</td>\n",
       "      <td>-2.174498</td>\n",
       "      <td>-2.174498</td>\n",
       "      <td>-2.195256</td>\n",
       "      <td>2.246966</td>\n",
       "      <td>-2.548893</td>\n",
       "      <td>-1.259387</td>\n",
       "    </tr>\n",
       "    <tr>\n",
       "      <th>8</th>\n",
       "      <td>1.047177</td>\n",
       "      <td>2.971751</td>\n",
       "      <td>-1.541659</td>\n",
       "      <td>3.551610</td>\n",
       "      <td>4.324723</td>\n",
       "      <td>-1.866498</td>\n",
       "      <td>3.437098</td>\n",
       "      <td>0.301806</td>\n",
       "      <td>5.121727</td>\n",
       "      <td>-1.408392</td>\n",
       "      <td>...</td>\n",
       "      <td>3.552632</td>\n",
       "      <td>-2.138303</td>\n",
       "      <td>-2.138303</td>\n",
       "      <td>2.833941</td>\n",
       "      <td>-1.941266</td>\n",
       "      <td>-1.988060</td>\n",
       "      <td>-1.895942</td>\n",
       "      <td>2.615933</td>\n",
       "      <td>-2.120816</td>\n",
       "      <td>-1.576992</td>\n",
       "    </tr>\n",
       "    <tr>\n",
       "      <th>9</th>\n",
       "      <td>1.101824</td>\n",
       "      <td>2.743575</td>\n",
       "      <td>-1.366782</td>\n",
       "      <td>3.725140</td>\n",
       "      <td>4.569959</td>\n",
       "      <td>-1.527247</td>\n",
       "      <td>3.469656</td>\n",
       "      <td>0.828234</td>\n",
       "      <td>4.091210</td>\n",
       "      <td>-1.723939</td>\n",
       "      <td>...</td>\n",
       "      <td>2.476285</td>\n",
       "      <td>-1.660514</td>\n",
       "      <td>-1.790281</td>\n",
       "      <td>2.845405</td>\n",
       "      <td>-1.555816</td>\n",
       "      <td>-1.740241</td>\n",
       "      <td>-1.790281</td>\n",
       "      <td>1.692111</td>\n",
       "      <td>-1.790281</td>\n",
       "      <td>-1.280809</td>\n",
       "    </tr>\n",
       "  </tbody>\n",
       "</table>\n",
       "<p>10 rows × 50 columns</p>\n",
       "</div>"
      ],
      "text/plain": [
       "       X159      X960      X980      X986     X1023     X1028     X1064  \\\n",
       "0  0.739512  1.971036 -1.660842  2.777183  3.299062 -1.954834  2.784970   \n",
       "1  2.037903  2.197854 -1.263034  4.082346  5.426886 -1.732520  3.085890   \n",
       "2  2.218338  3.471559 -1.789433  2.829994  4.746466 -2.222392  2.977280   \n",
       "3  0.972344  2.638734 -2.010999  3.913935  4.744161 -2.496426  3.139577   \n",
       "4  2.412235  4.033491 -1.536501  4.239650  4.304348 -1.991067  3.700095   \n",
       "5  1.244203  3.485278 -1.838879  3.354405  3.596351 -2.372703  2.537772   \n",
       "6  1.022242  2.312934 -1.597241  2.838456  4.425506 -1.882643  2.239754   \n",
       "7  1.589521  2.506791 -1.659925  4.276949  4.283059 -1.911463  2.003420   \n",
       "8  1.047177  2.971751 -1.541659  3.551610  4.324723 -1.866498  3.437098   \n",
       "9  1.101824  2.743575 -1.366782  3.725140  4.569959 -1.527247  3.469656   \n",
       "\n",
       "      X1092     X1103     X1109  ...     X1563     X1574     X1595     X1597  \\\n",
       "0  0.411848  3.974931 -0.979751  ...  3.221117 -1.735267 -2.036134  3.114202   \n",
       "1  0.688056  4.503384 -1.185032  ...  2.927229 -1.646363  0.127756  2.772590   \n",
       "2  0.944858  4.021099 -1.825502  ...  3.565945 -2.296393 -2.347923  3.577213   \n",
       "3  0.155651  4.632121 -1.671513  ...  3.815160 -1.706846 -2.216318  3.168707   \n",
       "4  0.878536  4.295705 -2.141092  ...  4.264107 -2.424026 -2.448274  3.717911   \n",
       "5 -0.042187  4.409049 -1.824082  ...  3.870400 -2.081240 -2.229338  3.370172   \n",
       "6  0.777947  4.401796 -1.049753  ...  2.605197 -2.145677 -2.219678  3.536966   \n",
       "7  1.284934  4.651143 -2.074962  ...  2.540925 -2.496426 -2.548893  4.814187   \n",
       "8  0.301806  5.121727 -1.408392  ...  3.552632 -2.138303 -2.138303  2.833941   \n",
       "9  0.828234  4.091210 -1.723939  ...  2.476285 -1.660514 -1.790281  2.845405   \n",
       "\n",
       "      X1609     X1616     X1637     X1656     X1657     X1683  \n",
       "0 -1.567229 -2.100264 -2.067843  2.116261 -2.057195 -0.868534  \n",
       "1 -1.451107  0.267480 -1.526069  2.643856 -1.625604 -1.415037  \n",
       "2 -2.175087 -2.084889 -2.106915  2.738768 -1.387816 -0.780555  \n",
       "3 -1.844349 -2.010999 -1.996352  2.797407 -1.743066 -1.010999  \n",
       "4 -2.286523 -2.045515 -1.776328  2.813104 -2.353637 -1.687061  \n",
       "5 -2.063752 -1.995848 -1.946939  2.648671 -1.697325 -1.107875  \n",
       "6 -1.975752 -1.975752 -2.008174  2.417328 -2.024662 -1.456378  \n",
       "7 -2.174498 -2.174498 -2.195256  2.246966 -2.548893 -1.259387  \n",
       "8 -1.941266 -1.988060 -1.895942  2.615933 -2.120816 -1.576992  \n",
       "9 -1.555816 -1.740241 -1.790281  1.692111 -1.790281 -1.280809  \n",
       "\n",
       "[10 rows x 50 columns]"
      ]
     },
     "execution_count": 2,
     "metadata": {},
     "output_type": "execute_result"
    }
   ],
   "source": [
    "X = pd.read_csv('gene_expr.csv')\n",
    "X.head(10)"
   ]
  },
  {
   "cell_type": "markdown",
   "metadata": {},
   "source": [
    "**b) (2 pts) Read the clinical data into a data frame. Create a target array y with the ages of the patients.**"
   ]
  },
  {
   "cell_type": "code",
   "execution_count": 3,
   "metadata": {},
   "outputs": [],
   "source": [
    "Y = pd.read_csv('clinical_data.csv')"
   ]
  },
  {
   "cell_type": "code",
   "execution_count": 4,
   "metadata": {},
   "outputs": [],
   "source": [
    "y = Y['Patient age (years)']"
   ]
  },
  {
   "cell_type": "markdown",
   "metadata": {},
   "source": [
    "### Part 2: Data Summary and Visualization (10 pts)"
   ]
  },
  {
   "cell_type": "markdown",
   "metadata": {},
   "source": [
    "**a) (2 pts) Plot a density histogram of the ages of the patients in the study.**"
   ]
  },
  {
   "cell_type": "code",
   "execution_count": 5,
   "metadata": {},
   "outputs": [
    {
     "data": {
      "text/plain": [
       "<matplotlib.axes._subplots.AxesSubplot at 0x28a09455588>"
      ]
     },
     "execution_count": 5,
     "metadata": {},
     "output_type": "execute_result"
    },
    {
     "data": {
      "image/png": "[encoded data removed]",
      "text/plain": [
       "<Figure size 432x288 with 1 Axes>"
      ]
     },
     "metadata": {
      "needs_background": "light"
     },
     "output_type": "display_data"
    }
   ],
   "source": [
    "sns.distplot(y, kde = True)"
   ]
  },
  {
   "cell_type": "markdown",
   "metadata": {},
   "source": [
    "**b) (2 pts) Compute Q1, Median and Q3 (25th, 50th and 75th percentiles) for the patient ages in the study.**"
   ]
  },
  {
   "cell_type": "code",
   "execution_count": 6,
   "metadata": {},
   "outputs": [
    {
     "name": "stdout",
     "output_type": "stream",
     "text": [
      "Q1: 59.55\n",
      "Median: 68.2\n",
      "Q3: 75.05\n"
     ]
    }
   ],
   "source": [
    "q1 = y.quantile(0.25)\n",
    "m = y.quantile(0.5)\n",
    "q3 = y.quantile(0.75)\n",
    "print('Q1:', q1)\n",
    "print('Median:', m)\n",
    "print('Q3:', q3)"
   ]
  },
  {
   "cell_type": "markdown",
   "metadata": {},
   "source": [
    "**c) (3 pts) create an array 'ylevel' that has values assigned as follows:**\n",
    "\n",
    "$$\n",
    "\\text{ylevel} =\n",
    "\\begin{cases}\n",
    "0, & \\text{if } \\text{Age} \\lt Q_1\\\\ \n",
    "1, & \\text{if } Q_1 \\le \\text{Age} \\lt Median\\\\\n",
    "2, & \\text{if } Median \\le \\text{Age} \\lt Q_3\\\\\n",
    "3, & \\text{if } \\text{Age} \\gt Q_3\\\\\n",
    "\\end{cases}\n",
    "$$\n",
    "\n",
    "**Make a scatter plot of ylevel versus y to show that it worked.**"
   ]
  },
  {
   "cell_type": "code",
   "execution_count": 9,
   "metadata": {},
   "outputs": [
    {
     "ename": "SyntaxError",
     "evalue": "invalid syntax (<ipython-input-9-9e4dd303d60a>, line 1)",
     "output_type": "error",
     "traceback": [
      "\u001b[1;36m  File \u001b[1;32m\"<ipython-input-9-9e4dd303d60a>\"\u001b[1;36m, line \u001b[1;32m1\u001b[0m\n\u001b[1;33m    ylevel = np.array(Y[Y['Patient age (years)'] < q1]: 0, Y[Y['Patient age (years)'] >= q1][Y['Patient age (years)'] < m]: 1)\u001b[0m\n\u001b[1;37m                                                      ^\u001b[0m\n\u001b[1;31mSyntaxError\u001b[0m\u001b[1;31m:\u001b[0m invalid syntax\n"
     ]
    }
   ],
   "source": [
    "ylevel = \n",
    "ylevel"
   ]
  },
  {
   "cell_type": "code",
   "execution_count": null,
   "metadata": {},
   "outputs": [],
   "source": []
  },
  {
   "cell_type": "markdown",
   "metadata": {},
   "source": [
    "**d) (3 pts) Create a heat map comparing the mean gene expression levels for the 50 genes between the ordered age groups with ylevel = 0, 1, 2, and 3. For an example see the notes. Thus, in the matrix that you create for the heat map, the rows should correspond to the age group levels, and the columns should correspond to the different genes in $X$. The value in row i and column j of the matrix should be the mean gene expression for gene j among patients in age group i (i=0,1,2,3; j=0,1,...,49).**"
   ]
  },
  {
   "cell_type": "code",
   "execution_count": null,
   "metadata": {},
   "outputs": [],
   "source": []
  },
  {
   "cell_type": "code",
   "execution_count": null,
   "metadata": {},
   "outputs": [],
   "source": []
  },
  {
   "cell_type": "markdown",
   "metadata": {},
   "source": [
    "### Part 3: Lasso Regression Analysis (6 pts)"
   ]
  },
  {
   "cell_type": "markdown",
   "metadata": {},
   "source": [
    "**a) (4 pts) As illustrated in the notes, the sklearn.linear_model function Lasso fits linear regression models using L1 penalized least squares to produce sparse coefficient estimates.**\n",
    "\n",
    "**Fit an L1 regularized regression model to predict age from gene expression values. Try different values of the penalty parameter 'alpha' to make the fitted model end up with at most 3-5 nonzero coefficients. You don't have to show everything you tried, just the one using your final choice for 'alpha'.**\n",
    "\n",
    "**In order to achieve convergence, it might be necessary to increase the maximum number of interations allowed to at least 1000.**"
   ]
  },
  {
   "cell_type": "code",
   "execution_count": null,
   "metadata": {},
   "outputs": [],
   "source": []
  },
  {
   "cell_type": "code",
   "execution_count": null,
   "metadata": {},
   "outputs": [],
   "source": []
  },
  {
   "cell_type": "markdown",
   "metadata": {},
   "source": [
    "**b) (2 pts) For the regularized linear regression model you fit in a), display the coefficient vector for the features. How many features have non-zero coefficients?**"
   ]
  },
  {
   "cell_type": "code",
   "execution_count": null,
   "metadata": {},
   "outputs": [],
   "source": []
  },
  {
   "cell_type": "code",
   "execution_count": null,
   "metadata": {},
   "outputs": [],
   "source": []
  },
  {
   "cell_type": "markdown",
   "metadata": {},
   "source": [
    "### Part 4: Cross-validated mean square error for prediction (6 pts)"
   ]
  },
  {
   "cell_type": "markdown",
   "metadata": {},
   "source": [
    "**a) (3 pts) Rerun the Lasso regression, with the same alpha you used in Part 3, using 5-fold cross-validation. For scores, estimate the negative mean square error predicting the age of the patient. Display the results for the 5 train/test splits in the cross-validation. For details, see the regularized regression notes and the online documentation for the sklearn function cross_val_score.**"
   ]
  },
  {
   "cell_type": "code",
   "execution_count": null,
   "metadata": {},
   "outputs": [],
   "source": []
  },
  {
   "cell_type": "code",
   "execution_count": null,
   "metadata": {},
   "outputs": [],
   "source": []
  },
  {
   "cell_type": "markdown",
   "metadata": {},
   "source": [
    "**b) (2 pts) Compute the square-root of the average mean square error (note that the cross validation function produces negative means square errors instead of mean square errors). Also compute the sample standard deviation of age in the data set.** "
   ]
  },
  {
   "cell_type": "code",
   "execution_count": null,
   "metadata": {},
   "outputs": [],
   "source": []
  },
  {
   "cell_type": "markdown",
   "metadata": {},
   "source": [
    "**c) (1 pt) Based on the results, does it appear that these 50 gene expressions are useful for predicting age?**"
   ]
  },
  {
   "cell_type": "markdown",
   "metadata": {},
   "source": []
  }
 ],
 "metadata": {
  "kernelspec": {
   "display_name": "Python 3",
   "language": "python",
   "name": "python3"
  },
  "language_info": {
   "codemirror_mode": {
    "name": "ipython",
    "version": 3
   },
   "file_extension": ".py",
   "mimetype": "text/x-python",
   "name": "python",
   "nbconvert_exporter": "python",
   "pygments_lexer": "ipython3",
   "version": "3.7.6"
  }
 },
 "nbformat": 4,
 "nbformat_minor": 2
}
